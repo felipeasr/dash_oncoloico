{
 "cells": [
  {
   "cell_type": "code",
   "execution_count": 7,
   "metadata": {},
   "outputs": [
    {
     "name": "stdout",
     "output_type": "stream",
     "text": [
      "0          nan\n",
      "1          nan\n",
      "2         2021\n",
      "3          nan\n",
      "4          nan\n",
      "          ... \n",
      "106699    2022\n",
      "106700    2019\n",
      "106701    2019\n",
      "106702     nan\n",
      "106703     nan\n",
      "Name: ANO_TRATAM, Length: 106704, dtype: object\n"
     ]
    }
   ],
   "source": [
    "import pandas as pd\n",
    "\n",
    "caminho_do_csv = 'Painel_BR_Final.csv'\n",
    "dados = pd.read_csv(caminho_do_csv, encoding='utf-8')\n",
    "\n",
    "# Converta a coluna 'ANO_TRATAM' em strings\n",
    "dados['ANO_TRATAM'] = dados['ANO_TRATAM'].astype(str)\n",
    "\n",
    "# Use o método .str.replace() para remover o \".0\"\n",
    "dados['ANO_TRATAM'] = dados['ANO_TRATAM'].str.replace('.0', '')\n",
    "\n",
    "# Função para remover o último zero à direita\n",
    "def remove_last_zero(value):\n",
    "    if value.endswith(\"0\"):\n",
    "        return value[:value.rfind(\"0\")]\n",
    "    return value\n",
    "\n",
    "# Aplica a função para remover o último zero à direita à coluna 'ANO_TRATAM'\n",
    "dados['ANO_TRATAM'] = dados['ANO_TRATAM'].apply(remove_last_zero)\n",
    "print(dados['ANO_TRATAM'])\n",
    "# Salva o DataFrame modificado em um novo arquivo CSV chamado 'PainelOncoBr.csv'\n",
    "dados.to_csv('PainelOncoBr.csv', index=False, encoding='utf-8')\n"
   ]
  },
  {
   "cell_type": "code",
   "execution_count": 4,
   "metadata": {},
   "outputs": [
    {
     "data": {
      "application/vnd.plotly.v1+json": {
       "config": {
        "plotlyServerURL": "https://plot.ly"
       },
       "data": [
        {
         "domain": {
          "x": [
           0,
           0.45
          ],
          "y": [
           0,
           1
          ]
         },
         "labels": [
          "Asia",
          "Europe",
          "Africa",
          "Americas",
          "Oceania"
         ],
         "name": "World GDP 1980",
         "scalegroup": "one",
         "type": "pie",
         "values": [
          4,
          7,
          1,
          7,
          0.5
         ]
        },
        {
         "domain": {
          "x": [
           0.55,
           1
          ],
          "y": [
           0,
           1
          ]
         },
         "labels": [
          "Asia",
          "Europe",
          "Africa",
          "Americas",
          "Oceania"
         ],
         "name": "World GDP 2007",
         "scalegroup": "one",
         "type": "pie",
         "values": [
          21,
          15,
          3,
          19,
          1
         ]
        }
       ],
       "layout": {
        "annotations": [
         {
          "font": {
           "size": 16
          },
          "showarrow": false,
          "text": "1980",
          "x": 0.225,
          "xanchor": "center",
          "xref": "paper",
          "y": 1,
          "yanchor": "bottom",
          "yref": "paper"
         },
         {
          "font": {
           "size": 16
          },
          "showarrow": false,
          "text": "2007",
          "x": 0.775,
          "xanchor": "center",
          "xref": "paper",
          "y": 1,
          "yanchor": "bottom",
          "yref": "paper"
         }
        ],
        "template": {
         "data": {
          "bar": [
           {
            "error_x": {
             "color": "#2a3f5f"
            },
            "error_y": {
             "color": "#2a3f5f"
            },
            "marker": {
             "line": {
              "color": "#E5ECF6",
              "width": 0.5
             },
             "pattern": {
              "fillmode": "overlay",
              "size": 10,
              "solidity": 0.2
             }
            },
            "type": "bar"
           }
          ],
          "barpolar": [
           {
            "marker": {
             "line": {
              "color": "#E5ECF6",
              "width": 0.5
             },
             "pattern": {
              "fillmode": "overlay",
              "size": 10,
              "solidity": 0.2
             }
            },
            "type": "barpolar"
           }
          ],
          "carpet": [
           {
            "aaxis": {
             "endlinecolor": "#2a3f5f",
             "gridcolor": "white",
             "linecolor": "white",
             "minorgridcolor": "white",
             "startlinecolor": "#2a3f5f"
            },
            "baxis": {
             "endlinecolor": "#2a3f5f",
             "gridcolor": "white",
             "linecolor": "white",
             "minorgridcolor": "white",
             "startlinecolor": "#2a3f5f"
            },
            "type": "carpet"
           }
          ],
          "choropleth": [
           {
            "colorbar": {
             "outlinewidth": 0,
             "ticks": ""
            },
            "type": "choropleth"
           }
          ],
          "contour": [
           {
            "colorbar": {
             "outlinewidth": 0,
             "ticks": ""
            },
            "colorscale": [
             [
              0,
              "#0d0887"
             ],
             [
              0.1111111111111111,
              "#46039f"
             ],
             [
              0.2222222222222222,
              "#7201a8"
             ],
             [
              0.3333333333333333,
              "#9c179e"
             ],
             [
              0.4444444444444444,
              "#bd3786"
             ],
             [
              0.5555555555555556,
              "#d8576b"
             ],
             [
              0.6666666666666666,
              "#ed7953"
             ],
             [
              0.7777777777777778,
              "#fb9f3a"
             ],
             [
              0.8888888888888888,
              "#fdca26"
             ],
             [
              1,
              "#f0f921"
             ]
            ],
            "type": "contour"
           }
          ],
          "contourcarpet": [
           {
            "colorbar": {
             "outlinewidth": 0,
             "ticks": ""
            },
            "type": "contourcarpet"
           }
          ],
          "heatmap": [
           {
            "colorbar": {
             "outlinewidth": 0,
             "ticks": ""
            },
            "colorscale": [
             [
              0,
              "#0d0887"
             ],
             [
              0.1111111111111111,
              "#46039f"
             ],
             [
              0.2222222222222222,
              "#7201a8"
             ],
             [
              0.3333333333333333,
              "#9c179e"
             ],
             [
              0.4444444444444444,
              "#bd3786"
             ],
             [
              0.5555555555555556,
              "#d8576b"
             ],
             [
              0.6666666666666666,
              "#ed7953"
             ],
             [
              0.7777777777777778,
              "#fb9f3a"
             ],
             [
              0.8888888888888888,
              "#fdca26"
             ],
             [
              1,
              "#f0f921"
             ]
            ],
            "type": "heatmap"
           }
          ],
          "heatmapgl": [
           {
            "colorbar": {
             "outlinewidth": 0,
             "ticks": ""
            },
            "colorscale": [
             [
              0,
              "#0d0887"
             ],
             [
              0.1111111111111111,
              "#46039f"
             ],
             [
              0.2222222222222222,
              "#7201a8"
             ],
             [
              0.3333333333333333,
              "#9c179e"
             ],
             [
              0.4444444444444444,
              "#bd3786"
             ],
             [
              0.5555555555555556,
              "#d8576b"
             ],
             [
              0.6666666666666666,
              "#ed7953"
             ],
             [
              0.7777777777777778,
              "#fb9f3a"
             ],
             [
              0.8888888888888888,
              "#fdca26"
             ],
             [
              1,
              "#f0f921"
             ]
            ],
            "type": "heatmapgl"
           }
          ],
          "histogram": [
           {
            "marker": {
             "pattern": {
              "fillmode": "overlay",
              "size": 10,
              "solidity": 0.2
             }
            },
            "type": "histogram"
           }
          ],
          "histogram2d": [
           {
            "colorbar": {
             "outlinewidth": 0,
             "ticks": ""
            },
            "colorscale": [
             [
              0,
              "#0d0887"
             ],
             [
              0.1111111111111111,
              "#46039f"
             ],
             [
              0.2222222222222222,
              "#7201a8"
             ],
             [
              0.3333333333333333,
              "#9c179e"
             ],
             [
              0.4444444444444444,
              "#bd3786"
             ],
             [
              0.5555555555555556,
              "#d8576b"
             ],
             [
              0.6666666666666666,
              "#ed7953"
             ],
             [
              0.7777777777777778,
              "#fb9f3a"
             ],
             [
              0.8888888888888888,
              "#fdca26"
             ],
             [
              1,
              "#f0f921"
             ]
            ],
            "type": "histogram2d"
           }
          ],
          "histogram2dcontour": [
           {
            "colorbar": {
             "outlinewidth": 0,
             "ticks": ""
            },
            "colorscale": [
             [
              0,
              "#0d0887"
             ],
             [
              0.1111111111111111,
              "#46039f"
             ],
             [
              0.2222222222222222,
              "#7201a8"
             ],
             [
              0.3333333333333333,
              "#9c179e"
             ],
             [
              0.4444444444444444,
              "#bd3786"
             ],
             [
              0.5555555555555556,
              "#d8576b"
             ],
             [
              0.6666666666666666,
              "#ed7953"
             ],
             [
              0.7777777777777778,
              "#fb9f3a"
             ],
             [
              0.8888888888888888,
              "#fdca26"
             ],
             [
              1,
              "#f0f921"
             ]
            ],
            "type": "histogram2dcontour"
           }
          ],
          "mesh3d": [
           {
            "colorbar": {
             "outlinewidth": 0,
             "ticks": ""
            },
            "type": "mesh3d"
           }
          ],
          "parcoords": [
           {
            "line": {
             "colorbar": {
              "outlinewidth": 0,
              "ticks": ""
             }
            },
            "type": "parcoords"
           }
          ],
          "pie": [
           {
            "automargin": true,
            "type": "pie"
           }
          ],
          "scatter": [
           {
            "fillpattern": {
             "fillmode": "overlay",
             "size": 10,
             "solidity": 0.2
            },
            "type": "scatter"
           }
          ],
          "scatter3d": [
           {
            "line": {
             "colorbar": {
              "outlinewidth": 0,
              "ticks": ""
             }
            },
            "marker": {
             "colorbar": {
              "outlinewidth": 0,
              "ticks": ""
             }
            },
            "type": "scatter3d"
           }
          ],
          "scattercarpet": [
           {
            "marker": {
             "colorbar": {
              "outlinewidth": 0,
              "ticks": ""
             }
            },
            "type": "scattercarpet"
           }
          ],
          "scattergeo": [
           {
            "marker": {
             "colorbar": {
              "outlinewidth": 0,
              "ticks": ""
             }
            },
            "type": "scattergeo"
           }
          ],
          "scattergl": [
           {
            "marker": {
             "colorbar": {
              "outlinewidth": 0,
              "ticks": ""
             }
            },
            "type": "scattergl"
           }
          ],
          "scattermapbox": [
           {
            "marker": {
             "colorbar": {
              "outlinewidth": 0,
              "ticks": ""
             }
            },
            "type": "scattermapbox"
           }
          ],
          "scatterpolar": [
           {
            "marker": {
             "colorbar": {
              "outlinewidth": 0,
              "ticks": ""
             }
            },
            "type": "scatterpolar"
           }
          ],
          "scatterpolargl": [
           {
            "marker": {
             "colorbar": {
              "outlinewidth": 0,
              "ticks": ""
             }
            },
            "type": "scatterpolargl"
           }
          ],
          "scatterternary": [
           {
            "marker": {
             "colorbar": {
              "outlinewidth": 0,
              "ticks": ""
             }
            },
            "type": "scatterternary"
           }
          ],
          "surface": [
           {
            "colorbar": {
             "outlinewidth": 0,
             "ticks": ""
            },
            "colorscale": [
             [
              0,
              "#0d0887"
             ],
             [
              0.1111111111111111,
              "#46039f"
             ],
             [
              0.2222222222222222,
              "#7201a8"
             ],
             [
              0.3333333333333333,
              "#9c179e"
             ],
             [
              0.4444444444444444,
              "#bd3786"
             ],
             [
              0.5555555555555556,
              "#d8576b"
             ],
             [
              0.6666666666666666,
              "#ed7953"
             ],
             [
              0.7777777777777778,
              "#fb9f3a"
             ],
             [
              0.8888888888888888,
              "#fdca26"
             ],
             [
              1,
              "#f0f921"
             ]
            ],
            "type": "surface"
           }
          ],
          "table": [
           {
            "cells": {
             "fill": {
              "color": "#EBF0F8"
             },
             "line": {
              "color": "white"
             }
            },
            "header": {
             "fill": {
              "color": "#C8D4E3"
             },
             "line": {
              "color": "white"
             }
            },
            "type": "table"
           }
          ]
         },
         "layout": {
          "annotationdefaults": {
           "arrowcolor": "#2a3f5f",
           "arrowhead": 0,
           "arrowwidth": 1
          },
          "autotypenumbers": "strict",
          "coloraxis": {
           "colorbar": {
            "outlinewidth": 0,
            "ticks": ""
           }
          },
          "colorscale": {
           "diverging": [
            [
             0,
             "#8e0152"
            ],
            [
             0.1,
             "#c51b7d"
            ],
            [
             0.2,
             "#de77ae"
            ],
            [
             0.3,
             "#f1b6da"
            ],
            [
             0.4,
             "#fde0ef"
            ],
            [
             0.5,
             "#f7f7f7"
            ],
            [
             0.6,
             "#e6f5d0"
            ],
            [
             0.7,
             "#b8e186"
            ],
            [
             0.8,
             "#7fbc41"
            ],
            [
             0.9,
             "#4d9221"
            ],
            [
             1,
             "#276419"
            ]
           ],
           "sequential": [
            [
             0,
             "#0d0887"
            ],
            [
             0.1111111111111111,
             "#46039f"
            ],
            [
             0.2222222222222222,
             "#7201a8"
            ],
            [
             0.3333333333333333,
             "#9c179e"
            ],
            [
             0.4444444444444444,
             "#bd3786"
            ],
            [
             0.5555555555555556,
             "#d8576b"
            ],
            [
             0.6666666666666666,
             "#ed7953"
            ],
            [
             0.7777777777777778,
             "#fb9f3a"
            ],
            [
             0.8888888888888888,
             "#fdca26"
            ],
            [
             1,
             "#f0f921"
            ]
           ],
           "sequentialminus": [
            [
             0,
             "#0d0887"
            ],
            [
             0.1111111111111111,
             "#46039f"
            ],
            [
             0.2222222222222222,
             "#7201a8"
            ],
            [
             0.3333333333333333,
             "#9c179e"
            ],
            [
             0.4444444444444444,
             "#bd3786"
            ],
            [
             0.5555555555555556,
             "#d8576b"
            ],
            [
             0.6666666666666666,
             "#ed7953"
            ],
            [
             0.7777777777777778,
             "#fb9f3a"
            ],
            [
             0.8888888888888888,
             "#fdca26"
            ],
            [
             1,
             "#f0f921"
            ]
           ]
          },
          "colorway": [
           "#636efa",
           "#EF553B",
           "#00cc96",
           "#ab63fa",
           "#FFA15A",
           "#19d3f3",
           "#FF6692",
           "#B6E880",
           "#FF97FF",
           "#FECB52"
          ],
          "font": {
           "color": "#2a3f5f"
          },
          "geo": {
           "bgcolor": "white",
           "lakecolor": "white",
           "landcolor": "#E5ECF6",
           "showlakes": true,
           "showland": true,
           "subunitcolor": "white"
          },
          "hoverlabel": {
           "align": "left"
          },
          "hovermode": "closest",
          "mapbox": {
           "style": "light"
          },
          "paper_bgcolor": "white",
          "plot_bgcolor": "#E5ECF6",
          "polar": {
           "angularaxis": {
            "gridcolor": "white",
            "linecolor": "white",
            "ticks": ""
           },
           "bgcolor": "#E5ECF6",
           "radialaxis": {
            "gridcolor": "white",
            "linecolor": "white",
            "ticks": ""
           }
          },
          "scene": {
           "xaxis": {
            "backgroundcolor": "#E5ECF6",
            "gridcolor": "white",
            "gridwidth": 2,
            "linecolor": "white",
            "showbackground": true,
            "ticks": "",
            "zerolinecolor": "white"
           },
           "yaxis": {
            "backgroundcolor": "#E5ECF6",
            "gridcolor": "white",
            "gridwidth": 2,
            "linecolor": "white",
            "showbackground": true,
            "ticks": "",
            "zerolinecolor": "white"
           },
           "zaxis": {
            "backgroundcolor": "#E5ECF6",
            "gridcolor": "white",
            "gridwidth": 2,
            "linecolor": "white",
            "showbackground": true,
            "ticks": "",
            "zerolinecolor": "white"
           }
          },
          "shapedefaults": {
           "line": {
            "color": "#2a3f5f"
           }
          },
          "ternary": {
           "aaxis": {
            "gridcolor": "white",
            "linecolor": "white",
            "ticks": ""
           },
           "baxis": {
            "gridcolor": "white",
            "linecolor": "white",
            "ticks": ""
           },
           "bgcolor": "#E5ECF6",
           "caxis": {
            "gridcolor": "white",
            "linecolor": "white",
            "ticks": ""
           }
          },
          "title": {
           "x": 0.05
          },
          "xaxis": {
           "automargin": true,
           "gridcolor": "white",
           "linecolor": "white",
           "ticks": "",
           "title": {
            "standoff": 15
           },
           "zerolinecolor": "white",
           "zerolinewidth": 2
          },
          "yaxis": {
           "automargin": true,
           "gridcolor": "white",
           "linecolor": "white",
           "ticks": "",
           "title": {
            "standoff": 15
           },
           "zerolinecolor": "white",
           "zerolinewidth": 2
          }
         }
        },
        "title": {
         "text": "World GDP"
        }
       }
      }
     },
     "metadata": {},
     "output_type": "display_data"
    }
   ],
   "source": [
    "import plotly.graph_objects as go\n",
    "from plotly.subplots import make_subplots\n",
    "\n",
    "labels = [\"Asia\", \"Europe\", \"Africa\", \"Americas\", \"Oceania\"]\n",
    "\n",
    "fig = make_subplots(1, 2, specs=[[{'type':'domain'}, {'type':'domain'}]],\n",
    "                    subplot_titles=['1980', '2007'])\n",
    "fig.add_trace(go.Pie(labels=labels, values=[4, 7, 1, 7, 0.5], scalegroup='one',\n",
    "                     name=\"World GDP 1980\"), 1, 1)\n",
    "fig.add_trace(go.Pie(labels=labels, values=[21, 15, 3, 19, 1], scalegroup='one',\n",
    "                     name=\"World GDP 2007\"), 1, 2)\n",
    "\n",
    "fig.update_layout(title_text='World GDP')\n",
    "fig.show()"
   ]
  },
  {
   "cell_type": "code",
   "execution_count": 15,
   "metadata": {},
   "outputs": [],
   "source": [
    "import csv\n",
    "\n",
    "def concatenate_csvs(csv1, csv2, output_csv):\n",
    "    \"\"\"\n",
    "    Concatena dois arquivos CSV em um único arquivo, sem duplicar as informações.\n",
    "\n",
    "    Args:\n",
    "        csv1: O caminho do primeiro arquivo CSV.\n",
    "        csv2: O caminho do segundo arquivo CSV.\n",
    "        output_csv: O caminho do arquivo CSV de saída.\n",
    "\n",
    "    Returns:\n",
    "        None.\n",
    "    \"\"\"\n",
    "\n",
    "    with open(csv1, \"r\") as f1, open(csv2, \"r\") as f2, open(output_csv, \"w\", newline=\"\") as f3:\n",
    "        reader1 = csv.reader(f1)\n",
    "        reader2 = csv.reader(f2)\n",
    "        writer = csv.writer(f3)\n",
    "\n",
    "        # Lê as linhas dos dois arquivos CSV.\n",
    "        lines1 = list(reader1)\n",
    "        lines2 = list(reader2)\n",
    "\n",
    "        # Cria um dicionário com as linhas dos dois arquivos CSV.\n",
    "        rows = {}\n",
    "        for line1 in lines1:\n",
    "            if line1:  # Verifica se a linha não está vazia\n",
    "                rows[line1[0]] = line1\n",
    "        for line2 in lines2:\n",
    "            if line2:  # Verifica se a linha não está vazia\n",
    "                rows[line2[0]] = line2\n",
    "\n",
    "        # Escreve as linhas únicas no arquivo de saída.\n",
    "        for row in rows.values():\n",
    "            writer.writerow(row)\n",
    "\n",
    "if __name__ == \"__main__\":\n",
    "    csv1 = \"axuliares/estab_trat.csv\"\n",
    "    csv2 = \"Estabelecimento diagnóstico .csv\"\n",
    "    output_csv = \"arquivo_saida.csv\"\n",
    "\n",
    "    concatenate_csvs(csv1, csv2, output_csv)\n"
   ]
  },
  {
   "cell_type": "code",
   "execution_count": 7,
   "metadata": {},
   "outputs": [
    {
     "data": {
      "text/plain": [
       "Text(0, 0.5, 'Quantidade')"
      ]
     },
     "execution_count": 7,
     "metadata": {},
     "output_type": "execute_result"
    },
    {
     "data": {
      "image/png": "[encoded data removed]",
      "text/plain": [
       "<Figure size 640x480 with 1 Axes>"
      ]
     },
     "metadata": {},
     "output_type": "display_data"
    }
   ],
   "source": [
    "import pandas as pd\n",
    "import matplotlib.pyplot as plt\n",
    "\n",
    "# Carregar os dados do CSV usando o Pandas\n",
    "dados = pd.read_csv('obitos.csv')\n",
    "\n",
    "# Extrair os valores de x e y do DataFrame\n",
    "x = dados['Anos']\n",
    "y = dados['quantidade']\n",
    "\n",
    "# Criar um gráfico de linhas\n",
    "plt.plot(x, y, marker='o')\n",
    "plt.title(\"Obitos X Anos\")\n",
    "# Adicionar rótulos aos eixos\n",
    "plt.xlabel('Anos')\n",
    "plt.ylabel('Quantidade')\n",
    "\n",
    "# Adicionar título ao gráficodados"
   ]
  },
  {
   "cell_type": "code",
   "execution_count": null,
   "metadata": {},
   "outputs": [],
   "source": []
  },
  {
   "cell_type": "code",
   "execution_count": 22,
   "metadata": {},
   "outputs": [
    {
     "name": "stdout",
     "output_type": "stream",
     "text": [
      "   ID  Valor\n",
      "0   1    100\n",
      "1   2    200\n",
      "2   3    150\n",
      "3   4    300\n",
      "6   5    250\n",
      "7   6    400\n"
     ]
    }
   ],
   "source": [
    "import pandas as pd\n",
    "\n",
    "# Exemplo de DataFrames\n",
    "data1 = {'ID': [1, 2, 3, 4],\n",
    "         'Valor': [100, 200, 150, 300]}\n",
    "data2 = {'ID': [3, 4, 5, 6],\n",
    "         'Valor': [150, 300, 250, 400]}\n",
    "\n",
    "df1 = pd.DataFrame(data1)\n",
    "df2 = pd.DataFrame(data2)\n",
    "\n",
    "# Combinando DataFrames e tratando duplicatas\n",
    "df_combined = pd.concat([df1, df2], ignore_index=True)\n",
    "df_combined = df_combined.drop_duplicates()\n",
    "\n",
    "print(df_combined)\n"
   ]
  },
  {
   "cell_type": "code",
   "execution_count": null,
   "metadata": {},
   "outputs": [],
   "source": [
    "from ftplib import FTP\n",
    "import os\n",
    "\n",
    "def download_arquivo(ftp, arquivo_ftp, caminho_local):\n",
    "    with open(caminho_local, 'wb') as arquivo_local:\n",
    "        ftp.retrbinary(f\"RETR {arquivo_ftp}\", arquivo_local.write)\n",
    "\n",
    "# Dados de conexão FTP ftp://ftp.datasus.gov.br/dissemin/publicos/painel_oncologia/Dados/\n",
    "host = \"ftp.datasus.gov.br\"\n",
    "pasta_ftp = \"/dissemin/publicos/painel_oncologia/Dados/\"\n",
    "\n",
    "# Diretório local onde os arquivos serão salvos\n",
    "diretorio_destino = \"downloads\"\n",
    "\n",
    "# Conexão FTP\n",
    "ftp = FTP(host)\n",
    "ftp.login()  # Se a pasta FTP for pública e não requer autenticação, não é necessário fornecer usuário e senha.\n",
    "\n",
    "# Lista de arquivos disponíveis no FTP\n",
    "ftp.cwd(pasta_ftp)  # Mudar para a pasta FTP\n",
    "arquivos_ftp = ftp.nlst()\n",
    "\n",
    "\n",
    "# Fazer o download de todos os arquivos disponíveis\n",
    "\n",
    "for arquivo in arquivos_ftp:\n",
    "    caminho_destino = os.path.join(diretorio_destino, os.path.basename(arquivo))\n",
    "    if not os.path.exists(diretorio_destino):\n",
    "        os.makedirs(diretorio_destino)\n",
    "    download_arquivo(ftp, arquivo, caminho_destino)\n",
    "    print(f\"Download do arquivo {os.path.basename(arquivo)} concluído com sucesso.\")\n",
    "\n",
    "# Fechar a conexão FTP\n",
    "ftp.quit()\n"
   ]
  },
  {
   "cell_type": "code",
   "execution_count": 10,
   "metadata": {},
   "outputs": [],
   "source": [
    "#Junta PDFs\n",
    "import pandas as pd\n",
    "import glob\n",
    "\n",
    "# Lista todos os arquivos CSV no diretório\n",
    "arquivos = glob.glob('Doc/*.csv')\n",
    "\n",
    "# Cria uma lista para armazenar os dataframes de cada arquivo\n",
    "dataframes = []\n",
    "\n",
    "# Lê cada arquivo CSV e adiciona o dataframe à lista\n",
    "for arquivo in arquivos:\n",
    "    df = pd.read_csv(arquivo,encoding='ISO-8859-1')\n",
    "    dataframes.append(df)\n",
    "\n",
    "# Junta os dataframes usando a função concat do pandas\n",
    "df_final = pd.concat(dataframes)\n",
    "\n",
    "# Salva o dataframe final em um novo arquivo CSV\n",
    "df_final.to_csv('PO13_23_.csv', index=False)"
   ]
  },
  {
   "cell_type": "code",
   "execution_count": 1,
   "metadata": {},
   "outputs": [
    {
     "data": {
      "text/html": [
       "<div>\n",
       "<style scoped>\n",
       "    .dataframe tbody tr th:only-of-type {\n",
       "        vertical-align: middle;\n",
       "    }\n",
       "\n",
       "    .dataframe tbody tr th {\n",
       "        vertical-align: top;\n",
       "    }\n",
       "\n",
       "    .dataframe thead th {\n",
       "        text-align: right;\n",
       "    }\n",
       "</style>\n",
       "<table border=\"1\" class=\"dataframe\">\n",
       "  <thead>\n",
       "    <tr style=\"text-align: right;\">\n",
       "      <th></th>\n",
       "      <th>Categoria</th>\n",
       "      <th>Sexo</th>\n",
       "    </tr>\n",
       "  </thead>\n",
       "  <tbody>\n",
       "    <tr>\n",
       "      <th>0</th>\n",
       "      <td>M</td>\n",
       "      <td>Masculino</td>\n",
       "    </tr>\n",
       "    <tr>\n",
       "      <th>1</th>\n",
       "      <td>F</td>\n",
       "      <td>Feminino</td>\n",
       "    </tr>\n",
       "  </tbody>\n",
       "</table>\n",
       "</div>"
      ],
      "text/plain": [
       "  Categoria       Sexo\n",
       "0         M  Masculino\n",
       "1         F   Feminino"
      ]
     },
     "execution_count": 1,
     "metadata": {},
     "output_type": "execute_result"
    }
   ],
   "source": [
    "import pandas as pd\n",
    "df2 = pd.read_csv('sexoPO.csv', sep=\",\",encoding='ISO-8859-1')\n",
    "df2"
   ]
  },
  {
   "cell_type": "markdown",
   "metadata": {},
   "source": []
  },
  {
   "cell_type": "code",
   "execution_count": 2,
   "metadata": {},
   "outputs": [
    {
     "data": {
      "text/html": [
       "<div>\n",
       "<style scoped>\n",
       "    .dataframe tbody tr th:only-of-type {\n",
       "        vertical-align: middle;\n",
       "    }\n",
       "\n",
       "    .dataframe tbody tr th {\n",
       "        vertical-align: top;\n",
       "    }\n",
       "\n",
       "    .dataframe thead th {\n",
       "        text-align: right;\n",
       "    }\n",
       "</style>\n",
       "<table border=\"1\" class=\"dataframe\">\n",
       "  <thead>\n",
       "    <tr style=\"text-align: right;\">\n",
       "      <th></th>\n",
       "      <th>Unnamed: 0.2</th>\n",
       "      <th>Column1</th>\n",
       "      <th>Unnamed: 0.1</th>\n",
       "      <th>Unnamed: 0</th>\n",
       "      <th>ANO_DIAGN</th>\n",
       "      <th>ANOMES_DIA</th>\n",
       "      <th>ANO_TRATAM</th>\n",
       "      <th>ANOMES_TRA</th>\n",
       "      <th>UF_RESID</th>\n",
       "      <th>MUN_RESID</th>\n",
       "      <th>...</th>\n",
       "      <th>SEXO</th>\n",
       "      <th>ESTADIAM</th>\n",
       "      <th>CNES_DIAG</th>\n",
       "      <th>CNES_TRAT</th>\n",
       "      <th>TEMPO_TRAT</th>\n",
       "      <th>CNS_PAC</th>\n",
       "      <th>DIAG_DETH</th>\n",
       "      <th>DT_DIAG</th>\n",
       "      <th>DT_TRAT</th>\n",
       "      <th>DT_NASC</th>\n",
       "    </tr>\n",
       "  </thead>\n",
       "  <tbody>\n",
       "    <tr>\n",
       "      <th>0</th>\n",
       "      <td>0</td>\n",
       "      <td>0</td>\n",
       "      <td>0</td>\n",
       "      <td>5</td>\n",
       "      <td>2021</td>\n",
       "      <td>202105</td>\n",
       "      <td>NaN</td>\n",
       "      <td>NaN</td>\n",
       "      <td>MA</td>\n",
       "      <td>210530</td>\n",
       "      <td>...</td>\n",
       "      <td>F</td>\n",
       "      <td>90.0</td>\n",
       "      <td>2531348 HOSPITAL SAO RAFAEL</td>\n",
       "      <td>NaN</td>\n",
       "      <td>999990.0</td>\n",
       "      <td>NaN</td>\n",
       "      <td>C79- Neoplasia maligna secundária de outras lo...</td>\n",
       "      <td>03/05/2021</td>\n",
       "      <td>NaN</td>\n",
       "      <td>26/09/2014</td>\n",
       "    </tr>\n",
       "    <tr>\n",
       "      <th>1</th>\n",
       "      <td>1</td>\n",
       "      <td>1</td>\n",
       "      <td>1</td>\n",
       "      <td>50</td>\n",
       "      <td>2021</td>\n",
       "      <td>202109</td>\n",
       "      <td>NaN</td>\n",
       "      <td>NaN</td>\n",
       "      <td>AL</td>\n",
       "      <td>270030</td>\n",
       "      <td>...</td>\n",
       "      <td>F</td>\n",
       "      <td>90.0</td>\n",
       "      <td>2005069 NPDC</td>\n",
       "      <td>NaN</td>\n",
       "      <td>999990.0</td>\n",
       "      <td>NaN</td>\n",
       "      <td>D48- Neoplasia de comportamento incerto ou des...</td>\n",
       "      <td>21/09/2021</td>\n",
       "      <td>NaN</td>\n",
       "      <td>28/08/2012</td>\n",
       "    </tr>\n",
       "    <tr>\n",
       "      <th>2</th>\n",
       "      <td>2</td>\n",
       "      <td>2</td>\n",
       "      <td>2</td>\n",
       "      <td>98</td>\n",
       "      <td>2021</td>\n",
       "      <td>202104</td>\n",
       "      <td>20210.0</td>\n",
       "      <td>2021040.0</td>\n",
       "      <td>GO</td>\n",
       "      <td>520870</td>\n",
       "      <td>...</td>\n",
       "      <td>M</td>\n",
       "      <td>10.0</td>\n",
       "      <td>6876617 HOSPITAL DA CRIANCA DE BRASILIA JOSE A...</td>\n",
       "      <td>6876617 HOSPITAL DA CRIANCA DE BRASILIA JOSE A...</td>\n",
       "      <td>0.0</td>\n",
       "      <td>NaN</td>\n",
       "      <td>C64- Neoplasia maligna do rim</td>\n",
       "      <td>14/04/2021</td>\n",
       "      <td>14/04/2021</td>\n",
       "      <td>30/01/2019</td>\n",
       "    </tr>\n",
       "    <tr>\n",
       "      <th>3</th>\n",
       "      <td>3</td>\n",
       "      <td>3</td>\n",
       "      <td>3</td>\n",
       "      <td>179</td>\n",
       "      <td>2021</td>\n",
       "      <td>202103</td>\n",
       "      <td>NaN</td>\n",
       "      <td>NaN</td>\n",
       "      <td>MG</td>\n",
       "      <td>313620</td>\n",
       "      <td>...</td>\n",
       "      <td>M</td>\n",
       "      <td>90.0</td>\n",
       "      <td>2171554 CELULA LABORATORIO DE ANATOMIA PATOLOGICA</td>\n",
       "      <td>NaN</td>\n",
       "      <td>999990.0</td>\n",
       "      <td>NaN</td>\n",
       "      <td>D04- Carcinoma in situ da pele</td>\n",
       "      <td>19/03/2021</td>\n",
       "      <td>NaN</td>\n",
       "      <td>31/07/2007</td>\n",
       "    </tr>\n",
       "    <tr>\n",
       "      <th>4</th>\n",
       "      <td>4</td>\n",
       "      <td>4</td>\n",
       "      <td>4</td>\n",
       "      <td>225</td>\n",
       "      <td>2021</td>\n",
       "      <td>202101</td>\n",
       "      <td>NaN</td>\n",
       "      <td>NaN</td>\n",
       "      <td>MG</td>\n",
       "      <td>314600</td>\n",
       "      <td>...</td>\n",
       "      <td>F</td>\n",
       "      <td>90.0</td>\n",
       "      <td>2081482 BOLDRINI CAMPINAS</td>\n",
       "      <td>NaN</td>\n",
       "      <td>999990.0</td>\n",
       "      <td>NaN</td>\n",
       "      <td>C85- Linfoma não Hodgkin de outros tipos e de ...</td>\n",
       "      <td>29/01/2021</td>\n",
       "      <td>NaN</td>\n",
       "      <td>06/02/2012</td>\n",
       "    </tr>\n",
       "    <tr>\n",
       "      <th>...</th>\n",
       "      <td>...</td>\n",
       "      <td>...</td>\n",
       "      <td>...</td>\n",
       "      <td>...</td>\n",
       "      <td>...</td>\n",
       "      <td>...</td>\n",
       "      <td>...</td>\n",
       "      <td>...</td>\n",
       "      <td>...</td>\n",
       "      <td>...</td>\n",
       "      <td>...</td>\n",
       "      <td>...</td>\n",
       "      <td>...</td>\n",
       "      <td>...</td>\n",
       "      <td>...</td>\n",
       "      <td>...</td>\n",
       "      <td>...</td>\n",
       "      <td>...</td>\n",
       "      <td>...</td>\n",
       "      <td>...</td>\n",
       "      <td>...</td>\n",
       "    </tr>\n",
       "    <tr>\n",
       "      <th>106699</th>\n",
       "      <td>106699</td>\n",
       "      <td>106699</td>\n",
       "      <td>106699</td>\n",
       "      <td>3720897</td>\n",
       "      <td>2019</td>\n",
       "      <td>201911</td>\n",
       "      <td>20220.0</td>\n",
       "      <td>2022100.0</td>\n",
       "      <td>RR</td>\n",
       "      <td>140010</td>\n",
       "      <td>...</td>\n",
       "      <td>M</td>\n",
       "      <td>NaN</td>\n",
       "      <td>7068336 HOSPITAL DE AMOR AMAZONIA</td>\n",
       "      <td>7068336 HOSPITAL DE AMOR AMAZONIA</td>\n",
       "      <td>10530.0</td>\n",
       "      <td>NaN</td>\n",
       "      <td>C95- Leucemia de tipo celular não especificado</td>\n",
       "      <td>19/11/2019</td>\n",
       "      <td>07/10/2022</td>\n",
       "      <td>07/10/2014</td>\n",
       "    </tr>\n",
       "    <tr>\n",
       "      <th>106700</th>\n",
       "      <td>106700</td>\n",
       "      <td>106700</td>\n",
       "      <td>106700</td>\n",
       "      <td>3720938</td>\n",
       "      <td>2019</td>\n",
       "      <td>201901</td>\n",
       "      <td>20190.0</td>\n",
       "      <td>2019010.0</td>\n",
       "      <td>SP</td>\n",
       "      <td>355030</td>\n",
       "      <td>...</td>\n",
       "      <td>F</td>\n",
       "      <td>NaN</td>\n",
       "      <td>2077531 A C CAMARGO CANCER CENTER</td>\n",
       "      <td>2077531 A C CAMARGO CANCER CENTER</td>\n",
       "      <td>150.0</td>\n",
       "      <td>NaN</td>\n",
       "      <td>C92- Leucemia mielóide</td>\n",
       "      <td>13/01/2019</td>\n",
       "      <td>28/01/2019</td>\n",
       "      <td>07/07/1999</td>\n",
       "    </tr>\n",
       "    <tr>\n",
       "      <th>106701</th>\n",
       "      <td>106701</td>\n",
       "      <td>106701</td>\n",
       "      <td>106701</td>\n",
       "      <td>3720944</td>\n",
       "      <td>2019</td>\n",
       "      <td>201906</td>\n",
       "      <td>20190.0</td>\n",
       "      <td>2019060.0</td>\n",
       "      <td>ES</td>\n",
       "      <td>320465</td>\n",
       "      <td>...</td>\n",
       "      <td>F</td>\n",
       "      <td>NaN</td>\n",
       "      <td>0011800 HOSPITAL INFANTIL NOSSA SENHORA DA GLORIA</td>\n",
       "      <td>0011800 HOSPITAL INFANTIL NOSSA SENHORA DA GLORIA</td>\n",
       "      <td>10.0</td>\n",
       "      <td>NaN</td>\n",
       "      <td>C92- Leucemia mielóide</td>\n",
       "      <td>11/06/2019</td>\n",
       "      <td>12/06/2019</td>\n",
       "      <td>06/05/2010</td>\n",
       "    </tr>\n",
       "    <tr>\n",
       "      <th>106702</th>\n",
       "      <td>106702</td>\n",
       "      <td>106702</td>\n",
       "      <td>106702</td>\n",
       "      <td>3720949</td>\n",
       "      <td>2019</td>\n",
       "      <td>201905</td>\n",
       "      <td>NaN</td>\n",
       "      <td>NaN</td>\n",
       "      <td>PE</td>\n",
       "      <td>260345</td>\n",
       "      <td>...</td>\n",
       "      <td>M</td>\n",
       "      <td>90.0</td>\n",
       "      <td>0000434 IMIP</td>\n",
       "      <td>NaN</td>\n",
       "      <td>999990.0</td>\n",
       "      <td>NaN</td>\n",
       "      <td>D37- Neoplasia de comportamento incerto ou des...</td>\n",
       "      <td>23/05/2019</td>\n",
       "      <td>NaN</td>\n",
       "      <td>01/04/2004</td>\n",
       "    </tr>\n",
       "    <tr>\n",
       "      <th>106703</th>\n",
       "      <td>106703</td>\n",
       "      <td>106703</td>\n",
       "      <td>106703</td>\n",
       "      <td>3721054</td>\n",
       "      <td>2019</td>\n",
       "      <td>201905</td>\n",
       "      <td>NaN</td>\n",
       "      <td>NaN</td>\n",
       "      <td>SC</td>\n",
       "      <td>420820</td>\n",
       "      <td>...</td>\n",
       "      <td>F</td>\n",
       "      <td>90.0</td>\n",
       "      <td>2744961 PHD PATOLOGIA HUMANA DIAGNOSTICA</td>\n",
       "      <td>NaN</td>\n",
       "      <td>999990.0</td>\n",
       "      <td>NaN</td>\n",
       "      <td>D04- Carcinoma in situ da pele</td>\n",
       "      <td>29/05/2019</td>\n",
       "      <td>NaN</td>\n",
       "      <td>05/06/2000</td>\n",
       "    </tr>\n",
       "  </tbody>\n",
       "</table>\n",
       "<p>106704 rows × 27 columns</p>\n",
       "</div>"
      ],
      "text/plain": [
       "        Unnamed: 0.2  Column1  Unnamed: 0.1  Unnamed: 0  ANO_DIAGN  \\\n",
       "0                  0        0             0           5       2021   \n",
       "1                  1        1             1          50       2021   \n",
       "2                  2        2             2          98       2021   \n",
       "3                  3        3             3         179       2021   \n",
       "4                  4        4             4         225       2021   \n",
       "...              ...      ...           ...         ...        ...   \n",
       "106699        106699   106699        106699     3720897       2019   \n",
       "106700        106700   106700        106700     3720938       2019   \n",
       "106701        106701   106701        106701     3720944       2019   \n",
       "106702        106702   106702        106702     3720949       2019   \n",
       "106703        106703   106703        106703     3721054       2019   \n",
       "\n",
       "        ANOMES_DIA  ANO_TRATAM  ANOMES_TRA UF_RESID  MUN_RESID  ... SEXO  \\\n",
       "0           202105         NaN         NaN       MA     210530  ...    F   \n",
       "1           202109         NaN         NaN       AL     270030  ...    F   \n",
       "2           202104     20210.0   2021040.0       GO     520870  ...    M   \n",
       "3           202103         NaN         NaN       MG     313620  ...    M   \n",
       "4           202101         NaN         NaN       MG     314600  ...    F   \n",
       "...            ...         ...         ...      ...        ...  ...  ...   \n",
       "106699      201911     20220.0   2022100.0       RR     140010  ...    M   \n",
       "106700      201901     20190.0   2019010.0       SP     355030  ...    F   \n",
       "106701      201906     20190.0   2019060.0       ES     320465  ...    F   \n",
       "106702      201905         NaN         NaN       PE     260345  ...    M   \n",
       "106703      201905         NaN         NaN       SC     420820  ...    F   \n",
       "\n",
       "        ESTADIAM                                          CNES_DIAG  \\\n",
       "0           90.0                        2531348 HOSPITAL SAO RAFAEL   \n",
       "1           90.0                                       2005069 NPDC   \n",
       "2           10.0  6876617 HOSPITAL DA CRIANCA DE BRASILIA JOSE A...   \n",
       "3           90.0  2171554 CELULA LABORATORIO DE ANATOMIA PATOLOGICA   \n",
       "4           90.0                          2081482 BOLDRINI CAMPINAS   \n",
       "...          ...                                                ...   \n",
       "106699       NaN                  7068336 HOSPITAL DE AMOR AMAZONIA   \n",
       "106700       NaN                  2077531 A C CAMARGO CANCER CENTER   \n",
       "106701       NaN  0011800 HOSPITAL INFANTIL NOSSA SENHORA DA GLORIA   \n",
       "106702      90.0                                       0000434 IMIP   \n",
       "106703      90.0           2744961 PHD PATOLOGIA HUMANA DIAGNOSTICA   \n",
       "\n",
       "                                                CNES_TRAT TEMPO_TRAT  CNS_PAC  \\\n",
       "0                                                     NaN   999990.0      NaN   \n",
       "1                                                     NaN   999990.0      NaN   \n",
       "2       6876617 HOSPITAL DA CRIANCA DE BRASILIA JOSE A...        0.0      NaN   \n",
       "3                                                     NaN   999990.0      NaN   \n",
       "4                                                     NaN   999990.0      NaN   \n",
       "...                                                   ...        ...      ...   \n",
       "106699                  7068336 HOSPITAL DE AMOR AMAZONIA    10530.0      NaN   \n",
       "106700                  2077531 A C CAMARGO CANCER CENTER      150.0      NaN   \n",
       "106701  0011800 HOSPITAL INFANTIL NOSSA SENHORA DA GLORIA       10.0      NaN   \n",
       "106702                                                NaN   999990.0      NaN   \n",
       "106703                                                NaN   999990.0      NaN   \n",
       "\n",
       "                                                DIAG_DETH     DT_DIAG  \\\n",
       "0       C79- Neoplasia maligna secundária de outras lo...  03/05/2021   \n",
       "1       D48- Neoplasia de comportamento incerto ou des...  21/09/2021   \n",
       "2                           C64- Neoplasia maligna do rim  14/04/2021   \n",
       "3                          D04- Carcinoma in situ da pele  19/03/2021   \n",
       "4       C85- Linfoma não Hodgkin de outros tipos e de ...  29/01/2021   \n",
       "...                                                   ...         ...   \n",
       "106699     C95- Leucemia de tipo celular não especificado  19/11/2019   \n",
       "106700                             C92- Leucemia mielóide  13/01/2019   \n",
       "106701                             C92- Leucemia mielóide  11/06/2019   \n",
       "106702  D37- Neoplasia de comportamento incerto ou des...  23/05/2019   \n",
       "106703                     D04- Carcinoma in situ da pele  29/05/2019   \n",
       "\n",
       "           DT_TRAT     DT_NASC  \n",
       "0              NaN  26/09/2014  \n",
       "1              NaN  28/08/2012  \n",
       "2       14/04/2021  30/01/2019  \n",
       "3              NaN  31/07/2007  \n",
       "4              NaN  06/02/2012  \n",
       "...            ...         ...  \n",
       "106699  07/10/2022  07/10/2014  \n",
       "106700  28/01/2019  07/07/1999  \n",
       "106701  12/06/2019  06/05/2010  \n",
       "106702         NaN  01/04/2004  \n",
       "106703         NaN  05/06/2000  \n",
       "\n",
       "[106704 rows x 27 columns]"
      ]
     },
     "execution_count": 2,
     "metadata": {},
     "output_type": "execute_result"
    }
   ],
   "source": [
    "#ler CSV\n",
    "import pandas as pd\n",
    "df = pd.read_csv('Painel_BR.csv', sep=\",\",encoding='utf-8')\n",
    "df"
   ]
  },
  {
   "cell_type": "code",
   "execution_count": 2,
   "metadata": {},
   "outputs": [],
   "source": [
    "def formatar_ano(valor):\n",
    "    try:\n",
    "        # Tente converter o valor em um número inteiro e retornar como string\n",
    "        return str(int(float(valor)))\n",
    "    except ValueError:\n",
    "        # Se não for possível converter, mantenha o valor original\n",
    "        return valor\n",
    "\n",
    "# Aplique a função de formatação à coluna\n",
    "df['ANO_TRATAM'] = df['ANO_TRATAM'].apply(formatar_ano)"
   ]
  },
  {
   "cell_type": "code",
   "execution_count": 5,
   "metadata": {},
   "outputs": [],
   "source": [
    "df['ANO_TRATAM'] = pd.to_numeric(df['ANO_TRATAM'], errors='coerce')\n"
   ]
  },
  {
   "cell_type": "code",
   "execution_count": 6,
   "metadata": {},
   "outputs": [],
   "source": [
    "df['ANO_TRATAM'] = df['ANO_TRATAM'].fillna(0).astype(int)\n"
   ]
  },
  {
   "cell_type": "code",
   "execution_count": 4,
   "metadata": {},
   "outputs": [
    {
     "data": {
      "text/plain": [
       "0           NaN\n",
       "1           NaN\n",
       "2         20210\n",
       "3           NaN\n",
       "4           NaN\n",
       "          ...  \n",
       "106699    20220\n",
       "106700    20190\n",
       "106701    20190\n",
       "106702      NaN\n",
       "106703      NaN\n",
       "Name: ANO_TRATAM, Length: 106704, dtype: object"
      ]
     },
     "execution_count": 4,
     "metadata": {},
     "output_type": "execute_result"
    }
   ],
   "source": [
    "df['ANO_TRATAM']"
   ]
  },
  {
   "cell_type": "code",
   "execution_count": 12,
   "metadata": {},
   "outputs": [
    {
     "data": {
      "text/html": [
       "<div>\n",
       "<style scoped>\n",
       "    .dataframe tbody tr th:only-of-type {\n",
       "        vertical-align: middle;\n",
       "    }\n",
       "\n",
       "    .dataframe tbody tr th {\n",
       "        vertical-align: top;\n",
       "    }\n",
       "\n",
       "    .dataframe thead th {\n",
       "        text-align: right;\n",
       "    }\n",
       "</style>\n",
       "<table border=\"1\" class=\"dataframe\">\n",
       "  <thead>\n",
       "    <tr style=\"text-align: right;\">\n",
       "      <th></th>\n",
       "      <th>Unnamed: 0.2</th>\n",
       "      <th>Column1</th>\n",
       "      <th>Unnamed: 0.1</th>\n",
       "      <th>Unnamed: 0</th>\n",
       "      <th>ANO_DIAGN</th>\n",
       "      <th>ANOMES_DIA</th>\n",
       "      <th>ANO_TRATAM</th>\n",
       "      <th>ANOMES_TRA</th>\n",
       "      <th>UF_RESID</th>\n",
       "      <th>MUN_RESID</th>\n",
       "      <th>...</th>\n",
       "      <th>SEXO</th>\n",
       "      <th>ESTADIAM</th>\n",
       "      <th>CNES_DIAG</th>\n",
       "      <th>CNES_TRAT</th>\n",
       "      <th>TEMPO_TRAT</th>\n",
       "      <th>CNS_PAC</th>\n",
       "      <th>DIAG_DETH</th>\n",
       "      <th>DT_DIAG</th>\n",
       "      <th>DT_TRAT</th>\n",
       "      <th>DT_NASC</th>\n",
       "    </tr>\n",
       "  </thead>\n",
       "  <tbody>\n",
       "    <tr>\n",
       "      <th>0</th>\n",
       "      <td>0</td>\n",
       "      <td>0</td>\n",
       "      <td>0</td>\n",
       "      <td>5</td>\n",
       "      <td>2021</td>\n",
       "      <td>202105</td>\n",
       "      <td>nan</td>\n",
       "      <td>NaN</td>\n",
       "      <td>MA</td>\n",
       "      <td>210530</td>\n",
       "      <td>...</td>\n",
       "      <td>F</td>\n",
       "      <td>90.0</td>\n",
       "      <td>2531348 HOSPITAL SAO RAFAEL</td>\n",
       "      <td>NaN</td>\n",
       "      <td>999990.0</td>\n",
       "      <td>NaN</td>\n",
       "      <td>C79- Neoplasia maligna secundária de outras lo...</td>\n",
       "      <td>03/05/2021</td>\n",
       "      <td>NaN</td>\n",
       "      <td>26/09/2014</td>\n",
       "    </tr>\n",
       "    <tr>\n",
       "      <th>1</th>\n",
       "      <td>1</td>\n",
       "      <td>1</td>\n",
       "      <td>1</td>\n",
       "      <td>50</td>\n",
       "      <td>2021</td>\n",
       "      <td>202109</td>\n",
       "      <td>nan</td>\n",
       "      <td>NaN</td>\n",
       "      <td>AL</td>\n",
       "      <td>270030</td>\n",
       "      <td>...</td>\n",
       "      <td>F</td>\n",
       "      <td>90.0</td>\n",
       "      <td>2005069 NPDC</td>\n",
       "      <td>NaN</td>\n",
       "      <td>999990.0</td>\n",
       "      <td>NaN</td>\n",
       "      <td>D48- Neoplasia de comportamento incerto ou des...</td>\n",
       "      <td>21/09/2021</td>\n",
       "      <td>NaN</td>\n",
       "      <td>28/08/2012</td>\n",
       "    </tr>\n",
       "    <tr>\n",
       "      <th>2</th>\n",
       "      <td>2</td>\n",
       "      <td>2</td>\n",
       "      <td>2</td>\n",
       "      <td>98</td>\n",
       "      <td>2021</td>\n",
       "      <td>202104</td>\n",
       "      <td>2</td>\n",
       "      <td>2021040.0</td>\n",
       "      <td>GO</td>\n",
       "      <td>520870</td>\n",
       "      <td>...</td>\n",
       "      <td>M</td>\n",
       "      <td>10.0</td>\n",
       "      <td>6876617 HOSPITAL DA CRIANCA DE BRASILIA JOSE A...</td>\n",
       "      <td>6876617 HOSPITAL DA CRIANCA DE BRASILIA JOSE A...</td>\n",
       "      <td>0.0</td>\n",
       "      <td>NaN</td>\n",
       "      <td>C64- Neoplasia maligna do rim</td>\n",
       "      <td>14/04/2021</td>\n",
       "      <td>14/04/2021</td>\n",
       "      <td>30/01/2019</td>\n",
       "    </tr>\n",
       "    <tr>\n",
       "      <th>3</th>\n",
       "      <td>3</td>\n",
       "      <td>3</td>\n",
       "      <td>3</td>\n",
       "      <td>179</td>\n",
       "      <td>2021</td>\n",
       "      <td>202103</td>\n",
       "      <td>nan</td>\n",
       "      <td>NaN</td>\n",
       "      <td>MG</td>\n",
       "      <td>313620</td>\n",
       "      <td>...</td>\n",
       "      <td>M</td>\n",
       "      <td>90.0</td>\n",
       "      <td>2171554 CELULA LABORATORIO DE ANATOMIA PATOLOGICA</td>\n",
       "      <td>NaN</td>\n",
       "      <td>999990.0</td>\n",
       "      <td>NaN</td>\n",
       "      <td>D04- Carcinoma in situ da pele</td>\n",
       "      <td>19/03/2021</td>\n",
       "      <td>NaN</td>\n",
       "      <td>31/07/2007</td>\n",
       "    </tr>\n",
       "    <tr>\n",
       "      <th>4</th>\n",
       "      <td>4</td>\n",
       "      <td>4</td>\n",
       "      <td>4</td>\n",
       "      <td>225</td>\n",
       "      <td>2021</td>\n",
       "      <td>202101</td>\n",
       "      <td>nan</td>\n",
       "      <td>NaN</td>\n",
       "      <td>MG</td>\n",
       "      <td>314600</td>\n",
       "      <td>...</td>\n",
       "      <td>F</td>\n",
       "      <td>90.0</td>\n",
       "      <td>2081482 BOLDRINI CAMPINAS</td>\n",
       "      <td>NaN</td>\n",
       "      <td>999990.0</td>\n",
       "      <td>NaN</td>\n",
       "      <td>C85- Linfoma não Hodgkin de outros tipos e de ...</td>\n",
       "      <td>29/01/2021</td>\n",
       "      <td>NaN</td>\n",
       "      <td>06/02/2012</td>\n",
       "    </tr>\n",
       "    <tr>\n",
       "      <th>...</th>\n",
       "      <td>...</td>\n",
       "      <td>...</td>\n",
       "      <td>...</td>\n",
       "      <td>...</td>\n",
       "      <td>...</td>\n",
       "      <td>...</td>\n",
       "      <td>...</td>\n",
       "      <td>...</td>\n",
       "      <td>...</td>\n",
       "      <td>...</td>\n",
       "      <td>...</td>\n",
       "      <td>...</td>\n",
       "      <td>...</td>\n",
       "      <td>...</td>\n",
       "      <td>...</td>\n",
       "      <td>...</td>\n",
       "      <td>...</td>\n",
       "      <td>...</td>\n",
       "      <td>...</td>\n",
       "      <td>...</td>\n",
       "      <td>...</td>\n",
       "    </tr>\n",
       "    <tr>\n",
       "      <th>106699</th>\n",
       "      <td>106699</td>\n",
       "      <td>106699</td>\n",
       "      <td>106699</td>\n",
       "      <td>3720897</td>\n",
       "      <td>2019</td>\n",
       "      <td>201911</td>\n",
       "      <td>2</td>\n",
       "      <td>2022100.0</td>\n",
       "      <td>RR</td>\n",
       "      <td>140010</td>\n",
       "      <td>...</td>\n",
       "      <td>M</td>\n",
       "      <td>NaN</td>\n",
       "      <td>7068336 HOSPITAL DE AMOR AMAZONIA</td>\n",
       "      <td>7068336 HOSPITAL DE AMOR AMAZONIA</td>\n",
       "      <td>10530.0</td>\n",
       "      <td>NaN</td>\n",
       "      <td>C95- Leucemia de tipo celular não especificado</td>\n",
       "      <td>19/11/2019</td>\n",
       "      <td>07/10/2022</td>\n",
       "      <td>07/10/2014</td>\n",
       "    </tr>\n",
       "    <tr>\n",
       "      <th>106700</th>\n",
       "      <td>106700</td>\n",
       "      <td>106700</td>\n",
       "      <td>106700</td>\n",
       "      <td>3720938</td>\n",
       "      <td>2019</td>\n",
       "      <td>201901</td>\n",
       "      <td>1</td>\n",
       "      <td>2019010.0</td>\n",
       "      <td>SP</td>\n",
       "      <td>355030</td>\n",
       "      <td>...</td>\n",
       "      <td>F</td>\n",
       "      <td>NaN</td>\n",
       "      <td>2077531 A C CAMARGO CANCER CENTER</td>\n",
       "      <td>2077531 A C CAMARGO CANCER CENTER</td>\n",
       "      <td>150.0</td>\n",
       "      <td>NaN</td>\n",
       "      <td>C92- Leucemia mielóide</td>\n",
       "      <td>13/01/2019</td>\n",
       "      <td>28/01/2019</td>\n",
       "      <td>07/07/1999</td>\n",
       "    </tr>\n",
       "    <tr>\n",
       "      <th>106701</th>\n",
       "      <td>106701</td>\n",
       "      <td>106701</td>\n",
       "      <td>106701</td>\n",
       "      <td>3720944</td>\n",
       "      <td>2019</td>\n",
       "      <td>201906</td>\n",
       "      <td>1</td>\n",
       "      <td>2019060.0</td>\n",
       "      <td>ES</td>\n",
       "      <td>320465</td>\n",
       "      <td>...</td>\n",
       "      <td>F</td>\n",
       "      <td>NaN</td>\n",
       "      <td>0011800 HOSPITAL INFANTIL NOSSA SENHORA DA GLORIA</td>\n",
       "      <td>0011800 HOSPITAL INFANTIL NOSSA SENHORA DA GLORIA</td>\n",
       "      <td>10.0</td>\n",
       "      <td>NaN</td>\n",
       "      <td>C92- Leucemia mielóide</td>\n",
       "      <td>11/06/2019</td>\n",
       "      <td>12/06/2019</td>\n",
       "      <td>06/05/2010</td>\n",
       "    </tr>\n",
       "    <tr>\n",
       "      <th>106702</th>\n",
       "      <td>106702</td>\n",
       "      <td>106702</td>\n",
       "      <td>106702</td>\n",
       "      <td>3720949</td>\n",
       "      <td>2019</td>\n",
       "      <td>201905</td>\n",
       "      <td>nan</td>\n",
       "      <td>NaN</td>\n",
       "      <td>PE</td>\n",
       "      <td>260345</td>\n",
       "      <td>...</td>\n",
       "      <td>M</td>\n",
       "      <td>90.0</td>\n",
       "      <td>0000434 IMIP</td>\n",
       "      <td>NaN</td>\n",
       "      <td>999990.0</td>\n",
       "      <td>NaN</td>\n",
       "      <td>D37- Neoplasia de comportamento incerto ou des...</td>\n",
       "      <td>23/05/2019</td>\n",
       "      <td>NaN</td>\n",
       "      <td>01/04/2004</td>\n",
       "    </tr>\n",
       "    <tr>\n",
       "      <th>106703</th>\n",
       "      <td>106703</td>\n",
       "      <td>106703</td>\n",
       "      <td>106703</td>\n",
       "      <td>3721054</td>\n",
       "      <td>2019</td>\n",
       "      <td>201905</td>\n",
       "      <td>nan</td>\n",
       "      <td>NaN</td>\n",
       "      <td>SC</td>\n",
       "      <td>420820</td>\n",
       "      <td>...</td>\n",
       "      <td>F</td>\n",
       "      <td>90.0</td>\n",
       "      <td>2744961 PHD PATOLOGIA HUMANA DIAGNOSTICA</td>\n",
       "      <td>NaN</td>\n",
       "      <td>999990.0</td>\n",
       "      <td>NaN</td>\n",
       "      <td>D04- Carcinoma in situ da pele</td>\n",
       "      <td>29/05/2019</td>\n",
       "      <td>NaN</td>\n",
       "      <td>05/06/2000</td>\n",
       "    </tr>\n",
       "  </tbody>\n",
       "</table>\n",
       "<p>106704 rows × 27 columns</p>\n",
       "</div>"
      ],
      "text/plain": [
       "        Unnamed: 0.2  Column1  Unnamed: 0.1  Unnamed: 0  ANO_DIAGN  \\\n",
       "0                  0        0             0           5       2021   \n",
       "1                  1        1             1          50       2021   \n",
       "2                  2        2             2          98       2021   \n",
       "3                  3        3             3         179       2021   \n",
       "4                  4        4             4         225       2021   \n",
       "...              ...      ...           ...         ...        ...   \n",
       "106699        106699   106699        106699     3720897       2019   \n",
       "106700        106700   106700        106700     3720938       2019   \n",
       "106701        106701   106701        106701     3720944       2019   \n",
       "106702        106702   106702        106702     3720949       2019   \n",
       "106703        106703   106703        106703     3721054       2019   \n",
       "\n",
       "        ANOMES_DIA ANO_TRATAM  ANOMES_TRA UF_RESID  MUN_RESID  ... SEXO  \\\n",
       "0           202105        nan         NaN       MA     210530  ...    F   \n",
       "1           202109        nan         NaN       AL     270030  ...    F   \n",
       "2           202104          2   2021040.0       GO     520870  ...    M   \n",
       "3           202103        nan         NaN       MG     313620  ...    M   \n",
       "4           202101        nan         NaN       MG     314600  ...    F   \n",
       "...            ...        ...         ...      ...        ...  ...  ...   \n",
       "106699      201911          2   2022100.0       RR     140010  ...    M   \n",
       "106700      201901          1   2019010.0       SP     355030  ...    F   \n",
       "106701      201906          1   2019060.0       ES     320465  ...    F   \n",
       "106702      201905        nan         NaN       PE     260345  ...    M   \n",
       "106703      201905        nan         NaN       SC     420820  ...    F   \n",
       "\n",
       "        ESTADIAM                                          CNES_DIAG  \\\n",
       "0           90.0                        2531348 HOSPITAL SAO RAFAEL   \n",
       "1           90.0                                       2005069 NPDC   \n",
       "2           10.0  6876617 HOSPITAL DA CRIANCA DE BRASILIA JOSE A...   \n",
       "3           90.0  2171554 CELULA LABORATORIO DE ANATOMIA PATOLOGICA   \n",
       "4           90.0                          2081482 BOLDRINI CAMPINAS   \n",
       "...          ...                                                ...   \n",
       "106699       NaN                  7068336 HOSPITAL DE AMOR AMAZONIA   \n",
       "106700       NaN                  2077531 A C CAMARGO CANCER CENTER   \n",
       "106701       NaN  0011800 HOSPITAL INFANTIL NOSSA SENHORA DA GLORIA   \n",
       "106702      90.0                                       0000434 IMIP   \n",
       "106703      90.0           2744961 PHD PATOLOGIA HUMANA DIAGNOSTICA   \n",
       "\n",
       "                                                CNES_TRAT TEMPO_TRAT  CNS_PAC  \\\n",
       "0                                                     NaN   999990.0      NaN   \n",
       "1                                                     NaN   999990.0      NaN   \n",
       "2       6876617 HOSPITAL DA CRIANCA DE BRASILIA JOSE A...        0.0      NaN   \n",
       "3                                                     NaN   999990.0      NaN   \n",
       "4                                                     NaN   999990.0      NaN   \n",
       "...                                                   ...        ...      ...   \n",
       "106699                  7068336 HOSPITAL DE AMOR AMAZONIA    10530.0      NaN   \n",
       "106700                  2077531 A C CAMARGO CANCER CENTER      150.0      NaN   \n",
       "106701  0011800 HOSPITAL INFANTIL NOSSA SENHORA DA GLORIA       10.0      NaN   \n",
       "106702                                                NaN   999990.0      NaN   \n",
       "106703                                                NaN   999990.0      NaN   \n",
       "\n",
       "                                                DIAG_DETH     DT_DIAG  \\\n",
       "0       C79- Neoplasia maligna secundária de outras lo...  03/05/2021   \n",
       "1       D48- Neoplasia de comportamento incerto ou des...  21/09/2021   \n",
       "2                           C64- Neoplasia maligna do rim  14/04/2021   \n",
       "3                          D04- Carcinoma in situ da pele  19/03/2021   \n",
       "4       C85- Linfoma não Hodgkin de outros tipos e de ...  29/01/2021   \n",
       "...                                                   ...         ...   \n",
       "106699     C95- Leucemia de tipo celular não especificado  19/11/2019   \n",
       "106700                             C92- Leucemia mielóide  13/01/2019   \n",
       "106701                             C92- Leucemia mielóide  11/06/2019   \n",
       "106702  D37- Neoplasia de comportamento incerto ou des...  23/05/2019   \n",
       "106703                     D04- Carcinoma in situ da pele  29/05/2019   \n",
       "\n",
       "           DT_TRAT     DT_NASC  \n",
       "0              NaN  26/09/2014  \n",
       "1              NaN  28/08/2012  \n",
       "2       14/04/2021  30/01/2019  \n",
       "3              NaN  31/07/2007  \n",
       "4              NaN  06/02/2012  \n",
       "...            ...         ...  \n",
       "106699  07/10/2022  07/10/2014  \n",
       "106700  28/01/2019  07/07/1999  \n",
       "106701  12/06/2019  06/05/2010  \n",
       "106702         NaN  01/04/2004  \n",
       "106703         NaN  05/06/2000  \n",
       "\n",
       "[106704 rows x 27 columns]"
      ]
     },
     "execution_count": 12,
     "metadata": {},
     "output_type": "execute_result"
    }
   ],
   "source": [
    "df"
   ]
  },
  {
   "cell_type": "code",
   "execution_count": 5,
   "metadata": {},
   "outputs": [],
   "source": [
    "quantidadePacientes=df[((df['IDADE'] >= 0) & (df['IDADE'] <= 19))]\n",
    "\n",
    "quantidadePacientes.to_csv('painelBR_0_19.csv')"
   ]
  },
  {
   "cell_type": "code",
   "execution_count": 2,
   "metadata": {},
   "outputs": [
    {
     "data": {
      "text/html": [
       "<div>\n",
       "<style scoped>\n",
       "    .dataframe tbody tr th:only-of-type {\n",
       "        vertical-align: middle;\n",
       "    }\n",
       "\n",
       "    .dataframe tbody tr th {\n",
       "        vertical-align: top;\n",
       "    }\n",
       "\n",
       "    .dataframe thead th {\n",
       "        text-align: right;\n",
       "    }\n",
       "</style>\n",
       "<table border=\"1\" class=\"dataframe\">\n",
       "  <thead>\n",
       "    <tr style=\"text-align: right;\">\n",
       "      <th></th>\n",
       "      <th>diag</th>\n",
       "      <th>CID</th>\n",
       "    </tr>\n",
       "  </thead>\n",
       "  <tbody>\n",
       "    <tr>\n",
       "      <th>0</th>\n",
       "      <td>C00</td>\n",
       "      <td>C00- Neoplasia maligna do lábio</td>\n",
       "    </tr>\n",
       "    <tr>\n",
       "      <th>1</th>\n",
       "      <td>C01</td>\n",
       "      <td>C01- Neoplasia maligna da base da língua</td>\n",
       "    </tr>\n",
       "    <tr>\n",
       "      <th>2</th>\n",
       "      <td>C02</td>\n",
       "      <td>C02- Neoplasia maligna de outras partes e de p...</td>\n",
       "    </tr>\n",
       "    <tr>\n",
       "      <th>3</th>\n",
       "      <td>C03</td>\n",
       "      <td>C03- Neoplasia maligna da gengiva</td>\n",
       "    </tr>\n",
       "    <tr>\n",
       "      <th>4</th>\n",
       "      <td>C04</td>\n",
       "      <td>C04- Neoplasia maligna do assoalho da boca</td>\n",
       "    </tr>\n",
       "    <tr>\n",
       "      <th>...</th>\n",
       "      <td>...</td>\n",
       "      <td>...</td>\n",
       "    </tr>\n",
       "    <tr>\n",
       "      <th>104</th>\n",
       "      <td>D44</td>\n",
       "      <td>D44- Neoplasia de comportamento incerto ou des...</td>\n",
       "    </tr>\n",
       "    <tr>\n",
       "      <th>105</th>\n",
       "      <td>D45</td>\n",
       "      <td>D45- Policitemia vera</td>\n",
       "    </tr>\n",
       "    <tr>\n",
       "      <th>106</th>\n",
       "      <td>D46</td>\n",
       "      <td>D46- Síndromes mielodisplásicas</td>\n",
       "    </tr>\n",
       "    <tr>\n",
       "      <th>107</th>\n",
       "      <td>D47</td>\n",
       "      <td>D47- Outras neoplasias de comportamento incert...</td>\n",
       "    </tr>\n",
       "    <tr>\n",
       "      <th>108</th>\n",
       "      <td>D48</td>\n",
       "      <td>D48- Neoplasia de comportamento incerto ou des...</td>\n",
       "    </tr>\n",
       "  </tbody>\n",
       "</table>\n",
       "<p>109 rows × 2 columns</p>\n",
       "</div>"
      ],
      "text/plain": [
       "    diag                                                CID\n",
       "0    C00                    C00- Neoplasia maligna do lábio\n",
       "1    C01           C01- Neoplasia maligna da base da língua\n",
       "2    C02  C02- Neoplasia maligna de outras partes e de p...\n",
       "3    C03                  C03- Neoplasia maligna da gengiva\n",
       "4    C04         C04- Neoplasia maligna do assoalho da boca\n",
       "..   ...                                                ...\n",
       "104  D44  D44- Neoplasia de comportamento incerto ou des...\n",
       "105  D45                              D45- Policitemia vera\n",
       "106  D46                    D46- Síndromes mielodisplásicas\n",
       "107  D47  D47- Outras neoplasias de comportamento incert...\n",
       "108  D48  D48- Neoplasia de comportamento incerto ou des...\n",
       "\n",
       "[109 rows x 2 columns]"
      ]
     },
     "execution_count": 2,
     "metadata": {},
     "output_type": "execute_result"
    }
   ],
   "source": [
    "tabela_uf = pd.read_csv('cid-10.csv', sep=\";\",encoding='ISO-8859-1')\n",
    "tabela_uf"
   ]
  },
  {
   "cell_type": "code",
   "execution_count": 6,
   "metadata": {},
   "outputs": [
    {
     "data": {
      "text/html": [
       "<div>\n",
       "<style scoped>\n",
       "    .dataframe tbody tr th:only-of-type {\n",
       "        vertical-align: middle;\n",
       "    }\n",
       "\n",
       "    .dataframe tbody tr th {\n",
       "        vertical-align: top;\n",
       "    }\n",
       "\n",
       "    .dataframe thead th {\n",
       "        text-align: right;\n",
       "    }\n",
       "</style>\n",
       "<table border=\"1\" class=\"dataframe\">\n",
       "  <thead>\n",
       "    <tr style=\"text-align: right;\">\n",
       "      <th></th>\n",
       "      <th>Unnamed: 0.2</th>\n",
       "      <th>Unnamed: 0.1</th>\n",
       "      <th>Unnamed: 0</th>\n",
       "      <th>ANO_DIAGN</th>\n",
       "      <th>ANOMES_DIA</th>\n",
       "      <th>ANO_TRATAM</th>\n",
       "      <th>ANOMES_TRA</th>\n",
       "      <th>UF_RESID</th>\n",
       "      <th>MUN_RESID</th>\n",
       "      <th>UF_TRATAM</th>\n",
       "      <th>...</th>\n",
       "      <th>SEXO</th>\n",
       "      <th>ESTADIAM</th>\n",
       "      <th>CNES_DIAG</th>\n",
       "      <th>CNES_TRAT</th>\n",
       "      <th>TEMPO_TRAT</th>\n",
       "      <th>CNS_PAC</th>\n",
       "      <th>DIAG_DETH</th>\n",
       "      <th>DT_DIAG</th>\n",
       "      <th>DT_TRAT</th>\n",
       "      <th>DT_NASC</th>\n",
       "    </tr>\n",
       "  </thead>\n",
       "  <tbody>\n",
       "    <tr>\n",
       "      <th>0</th>\n",
       "      <td>0</td>\n",
       "      <td>0</td>\n",
       "      <td>5</td>\n",
       "      <td>2021</td>\n",
       "      <td>202105</td>\n",
       "      <td>NaN</td>\n",
       "      <td>NaN</td>\n",
       "      <td>MA</td>\n",
       "      <td>210530</td>\n",
       "      <td>NaN</td>\n",
       "      <td>...</td>\n",
       "      <td>F</td>\n",
       "      <td>9.0</td>\n",
       "      <td>2531348 HOSPITAL SAO RAFAEL</td>\n",
       "      <td>NaN</td>\n",
       "      <td>99999.0</td>\n",
       "      <td>NaN</td>\n",
       "      <td>C79- Neoplasia maligna secundÃ¡ria de outras l...</td>\n",
       "      <td>03/05/2021</td>\n",
       "      <td>NaN</td>\n",
       "      <td>26/09/2014</td>\n",
       "    </tr>\n",
       "    <tr>\n",
       "      <th>1</th>\n",
       "      <td>1</td>\n",
       "      <td>1</td>\n",
       "      <td>50</td>\n",
       "      <td>2021</td>\n",
       "      <td>202109</td>\n",
       "      <td>NaN</td>\n",
       "      <td>NaN</td>\n",
       "      <td>AL</td>\n",
       "      <td>270030</td>\n",
       "      <td>NaN</td>\n",
       "      <td>...</td>\n",
       "      <td>F</td>\n",
       "      <td>9.0</td>\n",
       "      <td>2005069 NPDC</td>\n",
       "      <td>NaN</td>\n",
       "      <td>99999.0</td>\n",
       "      <td>NaN</td>\n",
       "      <td>D48- Neoplasia de comportamento incerto ou des...</td>\n",
       "      <td>21/09/2021</td>\n",
       "      <td>NaN</td>\n",
       "      <td>28/08/2012</td>\n",
       "    </tr>\n",
       "    <tr>\n",
       "      <th>2</th>\n",
       "      <td>2</td>\n",
       "      <td>2</td>\n",
       "      <td>98</td>\n",
       "      <td>2021</td>\n",
       "      <td>202104</td>\n",
       "      <td>2021.0</td>\n",
       "      <td>202104.0</td>\n",
       "      <td>GO</td>\n",
       "      <td>520870</td>\n",
       "      <td>DF</td>\n",
       "      <td>...</td>\n",
       "      <td>M</td>\n",
       "      <td>1.0</td>\n",
       "      <td>6876617 HOSPITAL DA CRIANCA DE BRASILIA JOSE A...</td>\n",
       "      <td>6876617 HOSPITAL DA CRIANCA DE BRASILIA JOSE A...</td>\n",
       "      <td>0.0</td>\n",
       "      <td>NaN</td>\n",
       "      <td>C64- Neoplasia maligna do rim</td>\n",
       "      <td>14/04/2021</td>\n",
       "      <td>14/04/2021</td>\n",
       "      <td>30/01/2019</td>\n",
       "    </tr>\n",
       "    <tr>\n",
       "      <th>3</th>\n",
       "      <td>3</td>\n",
       "      <td>3</td>\n",
       "      <td>179</td>\n",
       "      <td>2021</td>\n",
       "      <td>202103</td>\n",
       "      <td>NaN</td>\n",
       "      <td>NaN</td>\n",
       "      <td>MG</td>\n",
       "      <td>313620</td>\n",
       "      <td>NaN</td>\n",
       "      <td>...</td>\n",
       "      <td>M</td>\n",
       "      <td>9.0</td>\n",
       "      <td>2171554 CELULA LABORATORIO DE ANATOMIA PATOLOGICA</td>\n",
       "      <td>NaN</td>\n",
       "      <td>99999.0</td>\n",
       "      <td>NaN</td>\n",
       "      <td>D04- Carcinoma in situ da pele</td>\n",
       "      <td>19/03/2021</td>\n",
       "      <td>NaN</td>\n",
       "      <td>31/07/2007</td>\n",
       "    </tr>\n",
       "    <tr>\n",
       "      <th>4</th>\n",
       "      <td>4</td>\n",
       "      <td>4</td>\n",
       "      <td>225</td>\n",
       "      <td>2021</td>\n",
       "      <td>202101</td>\n",
       "      <td>NaN</td>\n",
       "      <td>NaN</td>\n",
       "      <td>MG</td>\n",
       "      <td>314600</td>\n",
       "      <td>NaN</td>\n",
       "      <td>...</td>\n",
       "      <td>F</td>\n",
       "      <td>9.0</td>\n",
       "      <td>2081482 BOLDRINI CAMPINAS</td>\n",
       "      <td>NaN</td>\n",
       "      <td>99999.0</td>\n",
       "      <td>NaN</td>\n",
       "      <td>C85- Linfoma nÃ£o Hodgkin de outros tipos e de...</td>\n",
       "      <td>29/01/2021</td>\n",
       "      <td>NaN</td>\n",
       "      <td>06/02/2012</td>\n",
       "    </tr>\n",
       "    <tr>\n",
       "      <th>...</th>\n",
       "      <td>...</td>\n",
       "      <td>...</td>\n",
       "      <td>...</td>\n",
       "      <td>...</td>\n",
       "      <td>...</td>\n",
       "      <td>...</td>\n",
       "      <td>...</td>\n",
       "      <td>...</td>\n",
       "      <td>...</td>\n",
       "      <td>...</td>\n",
       "      <td>...</td>\n",
       "      <td>...</td>\n",
       "      <td>...</td>\n",
       "      <td>...</td>\n",
       "      <td>...</td>\n",
       "      <td>...</td>\n",
       "      <td>...</td>\n",
       "      <td>...</td>\n",
       "      <td>...</td>\n",
       "      <td>...</td>\n",
       "      <td>...</td>\n",
       "    </tr>\n",
       "    <tr>\n",
       "      <th>106699</th>\n",
       "      <td>106699</td>\n",
       "      <td>106699</td>\n",
       "      <td>3720897</td>\n",
       "      <td>2019</td>\n",
       "      <td>201911</td>\n",
       "      <td>2022.0</td>\n",
       "      <td>202210.0</td>\n",
       "      <td>RR</td>\n",
       "      <td>140010</td>\n",
       "      <td>RO</td>\n",
       "      <td>...</td>\n",
       "      <td>M</td>\n",
       "      <td>NaN</td>\n",
       "      <td>7068336 HOSPITAL DE AMOR AMAZONIA</td>\n",
       "      <td>7068336 HOSPITAL DE AMOR AMAZONIA</td>\n",
       "      <td>1053.0</td>\n",
       "      <td>NaN</td>\n",
       "      <td>C95- Leucemia de tipo celular nÃ£o especificado</td>\n",
       "      <td>19/11/2019</td>\n",
       "      <td>07/10/2022</td>\n",
       "      <td>07/10/2014</td>\n",
       "    </tr>\n",
       "    <tr>\n",
       "      <th>106700</th>\n",
       "      <td>106700</td>\n",
       "      <td>106700</td>\n",
       "      <td>3720938</td>\n",
       "      <td>2019</td>\n",
       "      <td>201901</td>\n",
       "      <td>2019.0</td>\n",
       "      <td>201901.0</td>\n",
       "      <td>SP</td>\n",
       "      <td>355030</td>\n",
       "      <td>SP</td>\n",
       "      <td>...</td>\n",
       "      <td>F</td>\n",
       "      <td>NaN</td>\n",
       "      <td>2077531 A C CAMARGO CANCER CENTER</td>\n",
       "      <td>2077531 A C CAMARGO CANCER CENTER</td>\n",
       "      <td>15.0</td>\n",
       "      <td>NaN</td>\n",
       "      <td>C92- Leucemia mielÃ³ide</td>\n",
       "      <td>13/01/2019</td>\n",
       "      <td>28/01/2019</td>\n",
       "      <td>07/07/1999</td>\n",
       "    </tr>\n",
       "    <tr>\n",
       "      <th>106701</th>\n",
       "      <td>106701</td>\n",
       "      <td>106701</td>\n",
       "      <td>3720944</td>\n",
       "      <td>2019</td>\n",
       "      <td>201906</td>\n",
       "      <td>2019.0</td>\n",
       "      <td>201906.0</td>\n",
       "      <td>ES</td>\n",
       "      <td>320465</td>\n",
       "      <td>ES</td>\n",
       "      <td>...</td>\n",
       "      <td>F</td>\n",
       "      <td>NaN</td>\n",
       "      <td>0011800 HOSPITAL INFANTIL NOSSA SENHORA DA GLORIA</td>\n",
       "      <td>0011800 HOSPITAL INFANTIL NOSSA SENHORA DA GLORIA</td>\n",
       "      <td>1.0</td>\n",
       "      <td>NaN</td>\n",
       "      <td>C92- Leucemia mielÃ³ide</td>\n",
       "      <td>11/06/2019</td>\n",
       "      <td>12/06/2019</td>\n",
       "      <td>06/05/2010</td>\n",
       "    </tr>\n",
       "    <tr>\n",
       "      <th>106702</th>\n",
       "      <td>106702</td>\n",
       "      <td>106702</td>\n",
       "      <td>3720949</td>\n",
       "      <td>2019</td>\n",
       "      <td>201905</td>\n",
       "      <td>NaN</td>\n",
       "      <td>NaN</td>\n",
       "      <td>PE</td>\n",
       "      <td>260345</td>\n",
       "      <td>NaN</td>\n",
       "      <td>...</td>\n",
       "      <td>M</td>\n",
       "      <td>9.0</td>\n",
       "      <td>0000434 IMIP</td>\n",
       "      <td>NaN</td>\n",
       "      <td>99999.0</td>\n",
       "      <td>NaN</td>\n",
       "      <td>D37- Neoplasia de comportamento incerto ou des...</td>\n",
       "      <td>23/05/2019</td>\n",
       "      <td>NaN</td>\n",
       "      <td>01/04/2004</td>\n",
       "    </tr>\n",
       "    <tr>\n",
       "      <th>106703</th>\n",
       "      <td>106703</td>\n",
       "      <td>106703</td>\n",
       "      <td>3721054</td>\n",
       "      <td>2019</td>\n",
       "      <td>201905</td>\n",
       "      <td>NaN</td>\n",
       "      <td>NaN</td>\n",
       "      <td>SC</td>\n",
       "      <td>420820</td>\n",
       "      <td>NaN</td>\n",
       "      <td>...</td>\n",
       "      <td>F</td>\n",
       "      <td>9.0</td>\n",
       "      <td>2744961 PHD PATOLOGIA HUMANA DIAGNOSTICA</td>\n",
       "      <td>NaN</td>\n",
       "      <td>99999.0</td>\n",
       "      <td>NaN</td>\n",
       "      <td>D04- Carcinoma in situ da pele</td>\n",
       "      <td>29/05/2019</td>\n",
       "      <td>NaN</td>\n",
       "      <td>05/06/2000</td>\n",
       "    </tr>\n",
       "  </tbody>\n",
       "</table>\n",
       "<p>106704 rows × 26 columns</p>\n",
       "</div>"
      ],
      "text/plain": [
       "        Unnamed: 0.2  Unnamed: 0.1  Unnamed: 0  ANO_DIAGN  ANOMES_DIA  \\\n",
       "0                  0             0           5       2021      202105   \n",
       "1                  1             1          50       2021      202109   \n",
       "2                  2             2          98       2021      202104   \n",
       "3                  3             3         179       2021      202103   \n",
       "4                  4             4         225       2021      202101   \n",
       "...              ...           ...         ...        ...         ...   \n",
       "106699        106699        106699     3720897       2019      201911   \n",
       "106700        106700        106700     3720938       2019      201901   \n",
       "106701        106701        106701     3720944       2019      201906   \n",
       "106702        106702        106702     3720949       2019      201905   \n",
       "106703        106703        106703     3721054       2019      201905   \n",
       "\n",
       "        ANO_TRATAM  ANOMES_TRA UF_RESID  MUN_RESID UF_TRATAM  ...  SEXO  \\\n",
       "0              NaN         NaN       MA     210530       NaN  ...     F   \n",
       "1              NaN         NaN       AL     270030       NaN  ...     F   \n",
       "2           2021.0    202104.0       GO     520870        DF  ...     M   \n",
       "3              NaN         NaN       MG     313620       NaN  ...     M   \n",
       "4              NaN         NaN       MG     314600       NaN  ...     F   \n",
       "...            ...         ...      ...        ...       ...  ...   ...   \n",
       "106699      2022.0    202210.0       RR     140010        RO  ...     M   \n",
       "106700      2019.0    201901.0       SP     355030        SP  ...     F   \n",
       "106701      2019.0    201906.0       ES     320465        ES  ...     F   \n",
       "106702         NaN         NaN       PE     260345       NaN  ...     M   \n",
       "106703         NaN         NaN       SC     420820       NaN  ...     F   \n",
       "\n",
       "       ESTADIAM                                          CNES_DIAG  \\\n",
       "0           9.0                        2531348 HOSPITAL SAO RAFAEL   \n",
       "1           9.0                                       2005069 NPDC   \n",
       "2           1.0  6876617 HOSPITAL DA CRIANCA DE BRASILIA JOSE A...   \n",
       "3           9.0  2171554 CELULA LABORATORIO DE ANATOMIA PATOLOGICA   \n",
       "4           9.0                          2081482 BOLDRINI CAMPINAS   \n",
       "...         ...                                                ...   \n",
       "106699      NaN                  7068336 HOSPITAL DE AMOR AMAZONIA   \n",
       "106700      NaN                  2077531 A C CAMARGO CANCER CENTER   \n",
       "106701      NaN  0011800 HOSPITAL INFANTIL NOSSA SENHORA DA GLORIA   \n",
       "106702      9.0                                       0000434 IMIP   \n",
       "106703      9.0           2744961 PHD PATOLOGIA HUMANA DIAGNOSTICA   \n",
       "\n",
       "                                                CNES_TRAT  TEMPO_TRAT  \\\n",
       "0                                                     NaN     99999.0   \n",
       "1                                                     NaN     99999.0   \n",
       "2       6876617 HOSPITAL DA CRIANCA DE BRASILIA JOSE A...         0.0   \n",
       "3                                                     NaN     99999.0   \n",
       "4                                                     NaN     99999.0   \n",
       "...                                                   ...         ...   \n",
       "106699                  7068336 HOSPITAL DE AMOR AMAZONIA      1053.0   \n",
       "106700                  2077531 A C CAMARGO CANCER CENTER        15.0   \n",
       "106701  0011800 HOSPITAL INFANTIL NOSSA SENHORA DA GLORIA         1.0   \n",
       "106702                                                NaN     99999.0   \n",
       "106703                                                NaN     99999.0   \n",
       "\n",
       "        CNS_PAC                                          DIAG_DETH  \\\n",
       "0           NaN  C79- Neoplasia maligna secundÃ¡ria de outras l...   \n",
       "1           NaN  D48- Neoplasia de comportamento incerto ou des...   \n",
       "2           NaN                      C64- Neoplasia maligna do rim   \n",
       "3           NaN                     D04- Carcinoma in situ da pele   \n",
       "4           NaN  C85- Linfoma nÃ£o Hodgkin de outros tipos e de...   \n",
       "...         ...                                                ...   \n",
       "106699      NaN    C95- Leucemia de tipo celular nÃ£o especificado   \n",
       "106700      NaN                            C92- Leucemia mielÃ³ide   \n",
       "106701      NaN                            C92- Leucemia mielÃ³ide   \n",
       "106702      NaN  D37- Neoplasia de comportamento incerto ou des...   \n",
       "106703      NaN                     D04- Carcinoma in situ da pele   \n",
       "\n",
       "           DT_DIAG     DT_TRAT     DT_NASC  \n",
       "0       03/05/2021         NaN  26/09/2014  \n",
       "1       21/09/2021         NaN  28/08/2012  \n",
       "2       14/04/2021  14/04/2021  30/01/2019  \n",
       "3       19/03/2021         NaN  31/07/2007  \n",
       "4       29/01/2021         NaN  06/02/2012  \n",
       "...            ...         ...         ...  \n",
       "106699  19/11/2019  07/10/2022  07/10/2014  \n",
       "106700  13/01/2019  28/01/2019  07/07/1999  \n",
       "106701  11/06/2019  12/06/2019  06/05/2010  \n",
       "106702  23/05/2019         NaN  01/04/2004  \n",
       "106703  29/05/2019         NaN  05/06/2000  \n",
       "\n",
       "[106704 rows x 26 columns]"
      ]
     },
     "execution_count": 6,
     "metadata": {},
     "output_type": "execute_result"
    }
   ],
   "source": [
    "df"
   ]
  },
  {
   "cell_type": "code",
   "execution_count": 24,
   "metadata": {},
   "outputs": [
    {
     "data": {
      "text/plain": [
       "0      C00 \n",
       "1      C01 \n",
       "2      C02 \n",
       "3      C03 \n",
       "4      C04 \n",
       "       ... \n",
       "104    D44 \n",
       "105    D45 \n",
       "106    D46 \n",
       "107    D47 \n",
       "108    D48 \n",
       "Name: diag, Length: 109, dtype: object"
      ]
     },
     "execution_count": 24,
     "metadata": {},
     "output_type": "execute_result"
    }
   ],
   "source": [
    "tabela_uf['diag']"
   ]
  },
  {
   "cell_type": "code",
   "execution_count": 3,
   "metadata": {},
   "outputs": [
    {
     "data": {
      "text/html": [
       "<div>\n",
       "<style scoped>\n",
       "    .dataframe tbody tr th:only-of-type {\n",
       "        vertical-align: middle;\n",
       "    }\n",
       "\n",
       "    .dataframe tbody tr th {\n",
       "        vertical-align: top;\n",
       "    }\n",
       "\n",
       "    .dataframe thead th {\n",
       "        text-align: right;\n",
       "    }\n",
       "</style>\n",
       "<table border=\"1\" class=\"dataframe\">\n",
       "  <thead>\n",
       "    <tr style=\"text-align: right;\">\n",
       "      <th></th>\n",
       "      <th>Categoria</th>\n",
       "      <th>Sexo</th>\n",
       "    </tr>\n",
       "  </thead>\n",
       "  <tbody>\n",
       "    <tr>\n",
       "      <th>0</th>\n",
       "      <td>M</td>\n",
       "      <td>Masculino</td>\n",
       "    </tr>\n",
       "    <tr>\n",
       "      <th>1</th>\n",
       "      <td>F</td>\n",
       "      <td>Feminino</td>\n",
       "    </tr>\n",
       "  </tbody>\n",
       "</table>\n",
       "</div>"
      ],
      "text/plain": [
       "  Categoria       Sexo\n",
       "0         M  Masculino\n",
       "1         F   Feminino"
      ]
     },
     "execution_count": 3,
     "metadata": {},
     "output_type": "execute_result"
    }
   ],
   "source": [
    "tabela_uf = pd.read_csv('sexoPO.csv', sep=\",\")\n",
    "tabela_uf"
   ]
  },
  {
   "cell_type": "code",
   "execution_count": 7,
   "metadata": {},
   "outputs": [],
   "source": [
    "tabela_uf = pd.read_csv('sexoPO.csv', sep=\",\")\n",
    "#tabela_uf = pd.read_csv('estab_trat.csv', sep=\";\",encoding='ISO-8859-1')\n",
    "tabela_uf['Categoria'] = tabela_uf['Categoria']\n",
    "codigo_uf = tabela_uf.set_index('Categoria')\n",
    "\n",
    "dicionario_uf = codigo_uf.to_dict()['Sexo']\n",
    "dicionario_uf\n",
    "\n",
    "df['SEXO'] = df['SEXO'].replace(dicionario_uf)\n",
    "#df['CNES_TRAT'] = df['CNES_TRAT'].replace(dicionario_uf)\n",
    "\n",
    "df.to_csv('Painel_BR_Final.csv')"
   ]
  },
  {
   "cell_type": "code",
   "execution_count": 4,
   "metadata": {},
   "outputs": [
    {
     "data": {
      "text/html": [
       "<div>\n",
       "<style scoped>\n",
       "    .dataframe tbody tr th:only-of-type {\n",
       "        vertical-align: middle;\n",
       "    }\n",
       "\n",
       "    .dataframe tbody tr th {\n",
       "        vertical-align: top;\n",
       "    }\n",
       "\n",
       "    .dataframe thead th {\n",
       "        text-align: right;\n",
       "    }\n",
       "</style>\n",
       "<table border=\"1\" class=\"dataframe\">\n",
       "  <thead>\n",
       "    <tr style=\"text-align: right;\">\n",
       "      <th></th>\n",
       "      <th>Unnamed: 0.1</th>\n",
       "      <th>Unnamed: 0</th>\n",
       "      <th>ANO_DIAGN</th>\n",
       "      <th>ANOMES_DIA</th>\n",
       "      <th>ANO_TRATAM</th>\n",
       "      <th>ANOMES_TRA</th>\n",
       "      <th>UF_RESID</th>\n",
       "      <th>MUN_RESID</th>\n",
       "      <th>UF_TRATAM</th>\n",
       "      <th>MUN_TRATAM</th>\n",
       "      <th>...</th>\n",
       "      <th>SEXO</th>\n",
       "      <th>ESTADIAM</th>\n",
       "      <th>CNES_DIAG</th>\n",
       "      <th>CNES_TRAT</th>\n",
       "      <th>TEMPO_TRAT</th>\n",
       "      <th>CNS_PAC</th>\n",
       "      <th>DIAG_DETH</th>\n",
       "      <th>DT_DIAG</th>\n",
       "      <th>DT_TRAT</th>\n",
       "      <th>DT_NASC</th>\n",
       "    </tr>\n",
       "  </thead>\n",
       "  <tbody>\n",
       "    <tr>\n",
       "      <th>0</th>\n",
       "      <td>0</td>\n",
       "      <td>5</td>\n",
       "      <td>2021</td>\n",
       "      <td>202105</td>\n",
       "      <td>NaN</td>\n",
       "      <td>NaN</td>\n",
       "      <td>MA</td>\n",
       "      <td>210530</td>\n",
       "      <td>NaN</td>\n",
       "      <td>NaN</td>\n",
       "      <td>...</td>\n",
       "      <td>F</td>\n",
       "      <td>9.0</td>\n",
       "      <td>2531348 HOSPITAL SAO RAFAEL</td>\n",
       "      <td>NaN</td>\n",
       "      <td>99999.0</td>\n",
       "      <td>NaN</td>\n",
       "      <td>C79- Neoplasia maligna secundária de outras lo...</td>\n",
       "      <td>03/05/2021</td>\n",
       "      <td>NaN</td>\n",
       "      <td>26/09/2014</td>\n",
       "    </tr>\n",
       "    <tr>\n",
       "      <th>1</th>\n",
       "      <td>1</td>\n",
       "      <td>50</td>\n",
       "      <td>2021</td>\n",
       "      <td>202109</td>\n",
       "      <td>NaN</td>\n",
       "      <td>NaN</td>\n",
       "      <td>AL</td>\n",
       "      <td>270030</td>\n",
       "      <td>NaN</td>\n",
       "      <td>NaN</td>\n",
       "      <td>...</td>\n",
       "      <td>F</td>\n",
       "      <td>9.0</td>\n",
       "      <td>2005069 NPDC</td>\n",
       "      <td>NaN</td>\n",
       "      <td>99999.0</td>\n",
       "      <td>NaN</td>\n",
       "      <td>D48- Neoplasia de comportamento incerto ou des...</td>\n",
       "      <td>21/09/2021</td>\n",
       "      <td>NaN</td>\n",
       "      <td>28/08/2012</td>\n",
       "    </tr>\n",
       "    <tr>\n",
       "      <th>2</th>\n",
       "      <td>2</td>\n",
       "      <td>98</td>\n",
       "      <td>2021</td>\n",
       "      <td>202104</td>\n",
       "      <td>2021.0</td>\n",
       "      <td>202104.0</td>\n",
       "      <td>GO</td>\n",
       "      <td>520870</td>\n",
       "      <td>DF</td>\n",
       "      <td>530010.0</td>\n",
       "      <td>...</td>\n",
       "      <td>M</td>\n",
       "      <td>1.0</td>\n",
       "      <td>6876617 HOSPITAL DA CRIANCA DE BRASILIA JOSE A...</td>\n",
       "      <td>6876617 HOSPITAL DA CRIANCA DE BRASILIA JOSE A...</td>\n",
       "      <td>0.0</td>\n",
       "      <td>NaN</td>\n",
       "      <td>C64- Neoplasia maligna do rim</td>\n",
       "      <td>14/04/2021</td>\n",
       "      <td>14/04/2021</td>\n",
       "      <td>30/01/2019</td>\n",
       "    </tr>\n",
       "    <tr>\n",
       "      <th>3</th>\n",
       "      <td>3</td>\n",
       "      <td>179</td>\n",
       "      <td>2021</td>\n",
       "      <td>202103</td>\n",
       "      <td>NaN</td>\n",
       "      <td>NaN</td>\n",
       "      <td>MG</td>\n",
       "      <td>313620</td>\n",
       "      <td>NaN</td>\n",
       "      <td>NaN</td>\n",
       "      <td>...</td>\n",
       "      <td>M</td>\n",
       "      <td>9.0</td>\n",
       "      <td>2171554 CELULA LABORATORIO DE ANATOMIA PATOLOGICA</td>\n",
       "      <td>NaN</td>\n",
       "      <td>99999.0</td>\n",
       "      <td>NaN</td>\n",
       "      <td>D04- Carcinoma in situ da pele</td>\n",
       "      <td>19/03/2021</td>\n",
       "      <td>NaN</td>\n",
       "      <td>31/07/2007</td>\n",
       "    </tr>\n",
       "    <tr>\n",
       "      <th>4</th>\n",
       "      <td>4</td>\n",
       "      <td>225</td>\n",
       "      <td>2021</td>\n",
       "      <td>202101</td>\n",
       "      <td>NaN</td>\n",
       "      <td>NaN</td>\n",
       "      <td>MG</td>\n",
       "      <td>314600</td>\n",
       "      <td>NaN</td>\n",
       "      <td>NaN</td>\n",
       "      <td>...</td>\n",
       "      <td>F</td>\n",
       "      <td>9.0</td>\n",
       "      <td>2081482 BOLDRINI CAMPINAS</td>\n",
       "      <td>NaN</td>\n",
       "      <td>99999.0</td>\n",
       "      <td>NaN</td>\n",
       "      <td>C85- Linfoma não Hodgkin de outros tipos e de ...</td>\n",
       "      <td>29/01/2021</td>\n",
       "      <td>NaN</td>\n",
       "      <td>06/02/2012</td>\n",
       "    </tr>\n",
       "    <tr>\n",
       "      <th>...</th>\n",
       "      <td>...</td>\n",
       "      <td>...</td>\n",
       "      <td>...</td>\n",
       "      <td>...</td>\n",
       "      <td>...</td>\n",
       "      <td>...</td>\n",
       "      <td>...</td>\n",
       "      <td>...</td>\n",
       "      <td>...</td>\n",
       "      <td>...</td>\n",
       "      <td>...</td>\n",
       "      <td>...</td>\n",
       "      <td>...</td>\n",
       "      <td>...</td>\n",
       "      <td>...</td>\n",
       "      <td>...</td>\n",
       "      <td>...</td>\n",
       "      <td>...</td>\n",
       "      <td>...</td>\n",
       "      <td>...</td>\n",
       "      <td>...</td>\n",
       "    </tr>\n",
       "    <tr>\n",
       "      <th>106699</th>\n",
       "      <td>106699</td>\n",
       "      <td>3720897</td>\n",
       "      <td>2019</td>\n",
       "      <td>201911</td>\n",
       "      <td>2022.0</td>\n",
       "      <td>202210.0</td>\n",
       "      <td>RR</td>\n",
       "      <td>140010</td>\n",
       "      <td>RO</td>\n",
       "      <td>110020.0</td>\n",
       "      <td>...</td>\n",
       "      <td>M</td>\n",
       "      <td>NaN</td>\n",
       "      <td>7068336 HOSPITAL DE AMOR AMAZONIA</td>\n",
       "      <td>7068336 HOSPITAL DE AMOR AMAZONIA</td>\n",
       "      <td>1053.0</td>\n",
       "      <td>NaN</td>\n",
       "      <td>C95- Leucemia de tipo celular não especificado</td>\n",
       "      <td>19/11/2019</td>\n",
       "      <td>07/10/2022</td>\n",
       "      <td>07/10/2014</td>\n",
       "    </tr>\n",
       "    <tr>\n",
       "      <th>106700</th>\n",
       "      <td>106700</td>\n",
       "      <td>3720938</td>\n",
       "      <td>2019</td>\n",
       "      <td>201901</td>\n",
       "      <td>2019.0</td>\n",
       "      <td>201901.0</td>\n",
       "      <td>SP</td>\n",
       "      <td>355030</td>\n",
       "      <td>SP</td>\n",
       "      <td>355030.0</td>\n",
       "      <td>...</td>\n",
       "      <td>F</td>\n",
       "      <td>NaN</td>\n",
       "      <td>2077531 A C CAMARGO CANCER CENTER</td>\n",
       "      <td>2077531 A C CAMARGO CANCER CENTER</td>\n",
       "      <td>15.0</td>\n",
       "      <td>NaN</td>\n",
       "      <td>C92- Leucemia mielóide</td>\n",
       "      <td>13/01/2019</td>\n",
       "      <td>28/01/2019</td>\n",
       "      <td>07/07/1999</td>\n",
       "    </tr>\n",
       "    <tr>\n",
       "      <th>106701</th>\n",
       "      <td>106701</td>\n",
       "      <td>3720944</td>\n",
       "      <td>2019</td>\n",
       "      <td>201906</td>\n",
       "      <td>2019.0</td>\n",
       "      <td>201906.0</td>\n",
       "      <td>ES</td>\n",
       "      <td>320465</td>\n",
       "      <td>ES</td>\n",
       "      <td>320530.0</td>\n",
       "      <td>...</td>\n",
       "      <td>F</td>\n",
       "      <td>NaN</td>\n",
       "      <td>0011800 HOSPITAL INFANTIL NOSSA SENHORA DA GLORIA</td>\n",
       "      <td>0011800 HOSPITAL INFANTIL NOSSA SENHORA DA GLORIA</td>\n",
       "      <td>1.0</td>\n",
       "      <td>NaN</td>\n",
       "      <td>C92- Leucemia mielóide</td>\n",
       "      <td>11/06/2019</td>\n",
       "      <td>12/06/2019</td>\n",
       "      <td>06/05/2010</td>\n",
       "    </tr>\n",
       "    <tr>\n",
       "      <th>106702</th>\n",
       "      <td>106702</td>\n",
       "      <td>3720949</td>\n",
       "      <td>2019</td>\n",
       "      <td>201905</td>\n",
       "      <td>NaN</td>\n",
       "      <td>NaN</td>\n",
       "      <td>PE</td>\n",
       "      <td>260345</td>\n",
       "      <td>NaN</td>\n",
       "      <td>NaN</td>\n",
       "      <td>...</td>\n",
       "      <td>M</td>\n",
       "      <td>9.0</td>\n",
       "      <td>0000434 IMIP</td>\n",
       "      <td>NaN</td>\n",
       "      <td>99999.0</td>\n",
       "      <td>NaN</td>\n",
       "      <td>D37- Neoplasia de comportamento incerto ou des...</td>\n",
       "      <td>23/05/2019</td>\n",
       "      <td>NaN</td>\n",
       "      <td>01/04/2004</td>\n",
       "    </tr>\n",
       "    <tr>\n",
       "      <th>106703</th>\n",
       "      <td>106703</td>\n",
       "      <td>3721054</td>\n",
       "      <td>2019</td>\n",
       "      <td>201905</td>\n",
       "      <td>NaN</td>\n",
       "      <td>NaN</td>\n",
       "      <td>SC</td>\n",
       "      <td>420820</td>\n",
       "      <td>NaN</td>\n",
       "      <td>NaN</td>\n",
       "      <td>...</td>\n",
       "      <td>F</td>\n",
       "      <td>9.0</td>\n",
       "      <td>2744961 PHD PATOLOGIA HUMANA DIAGNOSTICA</td>\n",
       "      <td>NaN</td>\n",
       "      <td>99999.0</td>\n",
       "      <td>NaN</td>\n",
       "      <td>D04- Carcinoma in situ da pele</td>\n",
       "      <td>29/05/2019</td>\n",
       "      <td>NaN</td>\n",
       "      <td>05/06/2000</td>\n",
       "    </tr>\n",
       "  </tbody>\n",
       "</table>\n",
       "<p>106704 rows × 25 columns</p>\n",
       "</div>"
      ],
      "text/plain": [
       "        Unnamed: 0.1  Unnamed: 0  ANO_DIAGN  ANOMES_DIA  ANO_TRATAM  \\\n",
       "0                  0           5       2021      202105         NaN   \n",
       "1                  1          50       2021      202109         NaN   \n",
       "2                  2          98       2021      202104      2021.0   \n",
       "3                  3         179       2021      202103         NaN   \n",
       "4                  4         225       2021      202101         NaN   \n",
       "...              ...         ...        ...         ...         ...   \n",
       "106699        106699     3720897       2019      201911      2022.0   \n",
       "106700        106700     3720938       2019      201901      2019.0   \n",
       "106701        106701     3720944       2019      201906      2019.0   \n",
       "106702        106702     3720949       2019      201905         NaN   \n",
       "106703        106703     3721054       2019      201905         NaN   \n",
       "\n",
       "        ANOMES_TRA UF_RESID  MUN_RESID UF_TRATAM  MUN_TRATAM  ... SEXO  \\\n",
       "0              NaN       MA     210530       NaN         NaN  ...    F   \n",
       "1              NaN       AL     270030       NaN         NaN  ...    F   \n",
       "2         202104.0       GO     520870        DF    530010.0  ...    M   \n",
       "3              NaN       MG     313620       NaN         NaN  ...    M   \n",
       "4              NaN       MG     314600       NaN         NaN  ...    F   \n",
       "...            ...      ...        ...       ...         ...  ...  ...   \n",
       "106699    202210.0       RR     140010        RO    110020.0  ...    M   \n",
       "106700    201901.0       SP     355030        SP    355030.0  ...    F   \n",
       "106701    201906.0       ES     320465        ES    320530.0  ...    F   \n",
       "106702         NaN       PE     260345       NaN         NaN  ...    M   \n",
       "106703         NaN       SC     420820       NaN         NaN  ...    F   \n",
       "\n",
       "        ESTADIAM                                          CNES_DIAG  \\\n",
       "0            9.0                        2531348 HOSPITAL SAO RAFAEL   \n",
       "1            9.0                                       2005069 NPDC   \n",
       "2            1.0  6876617 HOSPITAL DA CRIANCA DE BRASILIA JOSE A...   \n",
       "3            9.0  2171554 CELULA LABORATORIO DE ANATOMIA PATOLOGICA   \n",
       "4            9.0                          2081482 BOLDRINI CAMPINAS   \n",
       "...          ...                                                ...   \n",
       "106699       NaN                  7068336 HOSPITAL DE AMOR AMAZONIA   \n",
       "106700       NaN                  2077531 A C CAMARGO CANCER CENTER   \n",
       "106701       NaN  0011800 HOSPITAL INFANTIL NOSSA SENHORA DA GLORIA   \n",
       "106702       9.0                                       0000434 IMIP   \n",
       "106703       9.0           2744961 PHD PATOLOGIA HUMANA DIAGNOSTICA   \n",
       "\n",
       "                                                CNES_TRAT  TEMPO_TRAT CNS_PAC  \\\n",
       "0                                                     NaN     99999.0     NaN   \n",
       "1                                                     NaN     99999.0     NaN   \n",
       "2       6876617 HOSPITAL DA CRIANCA DE BRASILIA JOSE A...         0.0     NaN   \n",
       "3                                                     NaN     99999.0     NaN   \n",
       "4                                                     NaN     99999.0     NaN   \n",
       "...                                                   ...         ...     ...   \n",
       "106699                  7068336 HOSPITAL DE AMOR AMAZONIA      1053.0     NaN   \n",
       "106700                  2077531 A C CAMARGO CANCER CENTER        15.0     NaN   \n",
       "106701  0011800 HOSPITAL INFANTIL NOSSA SENHORA DA GLORIA         1.0     NaN   \n",
       "106702                                                NaN     99999.0     NaN   \n",
       "106703                                                NaN     99999.0     NaN   \n",
       "\n",
       "                                                DIAG_DETH     DT_DIAG  \\\n",
       "0       C79- Neoplasia maligna secundária de outras lo...  03/05/2021   \n",
       "1       D48- Neoplasia de comportamento incerto ou des...  21/09/2021   \n",
       "2                           C64- Neoplasia maligna do rim  14/04/2021   \n",
       "3                          D04- Carcinoma in situ da pele  19/03/2021   \n",
       "4       C85- Linfoma não Hodgkin de outros tipos e de ...  29/01/2021   \n",
       "...                                                   ...         ...   \n",
       "106699     C95- Leucemia de tipo celular não especificado  19/11/2019   \n",
       "106700                             C92- Leucemia mielóide  13/01/2019   \n",
       "106701                             C92- Leucemia mielóide  11/06/2019   \n",
       "106702  D37- Neoplasia de comportamento incerto ou des...  23/05/2019   \n",
       "106703                     D04- Carcinoma in situ da pele  29/05/2019   \n",
       "\n",
       "           DT_TRAT     DT_NASC  \n",
       "0              NaN  26/09/2014  \n",
       "1              NaN  28/08/2012  \n",
       "2       14/04/2021  30/01/2019  \n",
       "3              NaN  31/07/2007  \n",
       "4              NaN  06/02/2012  \n",
       "...            ...         ...  \n",
       "106699  07/10/2022  07/10/2014  \n",
       "106700  28/01/2019  07/07/1999  \n",
       "106701  12/06/2019  06/05/2010  \n",
       "106702         NaN  01/04/2004  \n",
       "106703         NaN  05/06/2000  \n",
       "\n",
       "[106704 rows x 25 columns]"
      ]
     },
     "execution_count": 4,
     "metadata": {},
     "output_type": "execute_result"
    }
   ],
   "source": [
    "tabela_uf = pd.read_csv('https://raw.githubusercontent.com/andrejarenkow/csv/master/cod_uf.csv')\n",
    "tabela_uf['Código UF'] = tabela_uf['Código UF']\n",
    "codigo_uf = tabela_uf.set_index('Código UF')\n",
    "\n",
    "dicionario_uf = codigo_uf.to_dict()['UF']\n",
    "\n",
    "df['UF_RESID'] = df['UF_RESID'].replace(dicionario_uf)\n",
    "df['UF_DIAGN'] = df['UF_DIAGN'].replace(dicionario_uf)\n",
    "df['UF_TRATAM'] = df['UF_TRATAM'].replace(dicionario_uf)\n",
    "\n",
    "df"
   ]
  },
  {
   "cell_type": "code",
   "execution_count": 5,
   "metadata": {},
   "outputs": [],
   "source": [
    "df.to_csv('Painel_BR_0_19_3.csv')"
   ]
  },
  {
   "cell_type": "code",
   "execution_count": 23,
   "metadata": {},
   "outputs": [
    {
     "data": {
      "text/html": [
       "<div>\n",
       "<style scoped>\n",
       "    .dataframe tbody tr th:only-of-type {\n",
       "        vertical-align: middle;\n",
       "    }\n",
       "\n",
       "    .dataframe tbody tr th {\n",
       "        vertical-align: top;\n",
       "    }\n",
       "\n",
       "    .dataframe thead th {\n",
       "        text-align: right;\n",
       "    }\n",
       "</style>\n",
       "<table border=\"1\" class=\"dataframe\">\n",
       "  <thead>\n",
       "    <tr style=\"text-align: right;\">\n",
       "      <th></th>\n",
       "      <th>Unnamed: 0</th>\n",
       "      <th>ANO_DIAGN</th>\n",
       "      <th>ANOMES_DIA</th>\n",
       "      <th>ANO_TRATAM</th>\n",
       "      <th>ANOMES_TRA</th>\n",
       "      <th>UF_RESID</th>\n",
       "      <th>MUN_RESID</th>\n",
       "      <th>UF_TRATAM</th>\n",
       "      <th>MUN_TRATAM</th>\n",
       "      <th>UF_DIAGN</th>\n",
       "      <th>...</th>\n",
       "      <th>SEXO</th>\n",
       "      <th>ESTADIAM</th>\n",
       "      <th>CNES_DIAG</th>\n",
       "      <th>CNES_TRAT</th>\n",
       "      <th>TEMPO_TRAT</th>\n",
       "      <th>CNS_PAC</th>\n",
       "      <th>DIAG_DETH</th>\n",
       "      <th>DT_DIAG</th>\n",
       "      <th>DT_TRAT</th>\n",
       "      <th>DT_NASC</th>\n",
       "    </tr>\n",
       "  </thead>\n",
       "  <tbody>\n",
       "    <tr>\n",
       "      <th>0</th>\n",
       "      <td>666</td>\n",
       "      <td>2013</td>\n",
       "      <td>201305</td>\n",
       "      <td>2013.0</td>\n",
       "      <td>201305.0</td>\n",
       "      <td>RS</td>\n",
       "      <td>431580</td>\n",
       "      <td>RS</td>\n",
       "      <td>431490.0</td>\n",
       "      <td>RS</td>\n",
       "      <td>...</td>\n",
       "      <td>M</td>\n",
       "      <td>NaN</td>\n",
       "      <td>HOSPITAL NOSSA SENHORA DA CONCEICAO SA</td>\n",
       "      <td>HOSPITAL NOSSA SENHORA DA CONCEICAO SA</td>\n",
       "      <td>0.0</td>\n",
       "      <td>NaN</td>\n",
       "      <td>C91</td>\n",
       "      <td>01/05/2013</td>\n",
       "      <td>01/05/2013</td>\n",
       "      <td>09/12/1999</td>\n",
       "    </tr>\n",
       "    <tr>\n",
       "      <th>1</th>\n",
       "      <td>756</td>\n",
       "      <td>2013</td>\n",
       "      <td>201301</td>\n",
       "      <td>2013.0</td>\n",
       "      <td>201303.0</td>\n",
       "      <td>RS</td>\n",
       "      <td>430210</td>\n",
       "      <td>RS</td>\n",
       "      <td>430210.0</td>\n",
       "      <td>RS</td>\n",
       "      <td>...</td>\n",
       "      <td>M</td>\n",
       "      <td>4.0</td>\n",
       "      <td>HOSPITAL TACCHINI</td>\n",
       "      <td>HOSPITAL TACCHINI</td>\n",
       "      <td>67.0</td>\n",
       "      <td>NaN</td>\n",
       "      <td>C81</td>\n",
       "      <td>04/01/2013</td>\n",
       "      <td>12/03/2013</td>\n",
       "      <td>22/02/1993</td>\n",
       "    </tr>\n",
       "    <tr>\n",
       "      <th>2</th>\n",
       "      <td>950</td>\n",
       "      <td>2013</td>\n",
       "      <td>201301</td>\n",
       "      <td>2013.0</td>\n",
       "      <td>201301.0</td>\n",
       "      <td>RS</td>\n",
       "      <td>431265</td>\n",
       "      <td>RS</td>\n",
       "      <td>431410.0</td>\n",
       "      <td>RS</td>\n",
       "      <td>...</td>\n",
       "      <td>M</td>\n",
       "      <td>NaN</td>\n",
       "      <td>HOSPITAL DE CLINICAS</td>\n",
       "      <td>HOSPITAL DE CLINICAS</td>\n",
       "      <td>0.0</td>\n",
       "      <td>NaN</td>\n",
       "      <td>C91</td>\n",
       "      <td>31/01/2013</td>\n",
       "      <td>31/01/2013</td>\n",
       "      <td>05/07/1995</td>\n",
       "    </tr>\n",
       "    <tr>\n",
       "      <th>3</th>\n",
       "      <td>1139</td>\n",
       "      <td>2013</td>\n",
       "      <td>201310</td>\n",
       "      <td>2013.0</td>\n",
       "      <td>201310.0</td>\n",
       "      <td>RS</td>\n",
       "      <td>430510</td>\n",
       "      <td>RS</td>\n",
       "      <td>430510.0</td>\n",
       "      <td>RS</td>\n",
       "      <td>...</td>\n",
       "      <td>M</td>\n",
       "      <td>NaN</td>\n",
       "      <td>HOSPITAL GERAL</td>\n",
       "      <td>HOSPITAL GERAL</td>\n",
       "      <td>13.0</td>\n",
       "      <td>NaN</td>\n",
       "      <td>D46</td>\n",
       "      <td>10/10/2013</td>\n",
       "      <td>23/10/2013</td>\n",
       "      <td>14/05/2001</td>\n",
       "    </tr>\n",
       "    <tr>\n",
       "      <th>4</th>\n",
       "      <td>2122</td>\n",
       "      <td>2013</td>\n",
       "      <td>201306</td>\n",
       "      <td>2013.0</td>\n",
       "      <td>201306.0</td>\n",
       "      <td>RS</td>\n",
       "      <td>430790</td>\n",
       "      <td>RS</td>\n",
       "      <td>430510.0</td>\n",
       "      <td>RS</td>\n",
       "      <td>...</td>\n",
       "      <td>F</td>\n",
       "      <td>5.0</td>\n",
       "      <td>HOSPITAL TACCHINI</td>\n",
       "      <td>HOSPITAL POMPEIA</td>\n",
       "      <td>2.0</td>\n",
       "      <td>NaN</td>\n",
       "      <td>C71</td>\n",
       "      <td>05/06/2013</td>\n",
       "      <td>07/06/2013</td>\n",
       "      <td>10/10/2001</td>\n",
       "    </tr>\n",
       "    <tr>\n",
       "      <th>...</th>\n",
       "      <td>...</td>\n",
       "      <td>...</td>\n",
       "      <td>...</td>\n",
       "      <td>...</td>\n",
       "      <td>...</td>\n",
       "      <td>...</td>\n",
       "      <td>...</td>\n",
       "      <td>...</td>\n",
       "      <td>...</td>\n",
       "      <td>...</td>\n",
       "      <td>...</td>\n",
       "      <td>...</td>\n",
       "      <td>...</td>\n",
       "      <td>...</td>\n",
       "      <td>...</td>\n",
       "      <td>...</td>\n",
       "      <td>...</td>\n",
       "      <td>...</td>\n",
       "      <td>...</td>\n",
       "      <td>...</td>\n",
       "      <td>...</td>\n",
       "    </tr>\n",
       "    <tr>\n",
       "      <th>9545</th>\n",
       "      <td>3720331</td>\n",
       "      <td>2023</td>\n",
       "      <td>202303</td>\n",
       "      <td>NaN</td>\n",
       "      <td>NaN</td>\n",
       "      <td>RS</td>\n",
       "      <td>431490</td>\n",
       "      <td>NaN</td>\n",
       "      <td>NaN</td>\n",
       "      <td>RS</td>\n",
       "      <td>...</td>\n",
       "      <td>M</td>\n",
       "      <td>9.0</td>\n",
       "      <td>HOSPITAL DE CLINICAS</td>\n",
       "      <td>NaN</td>\n",
       "      <td>99999.0</td>\n",
       "      <td>NaN</td>\n",
       "      <td>C15</td>\n",
       "      <td>02/03/2023</td>\n",
       "      <td>NaN</td>\n",
       "      <td>07/07/2011</td>\n",
       "    </tr>\n",
       "    <tr>\n",
       "      <th>9546</th>\n",
       "      <td>3720587</td>\n",
       "      <td>2023</td>\n",
       "      <td>202301</td>\n",
       "      <td>2023.0</td>\n",
       "      <td>202301.0</td>\n",
       "      <td>RS</td>\n",
       "      <td>431620</td>\n",
       "      <td>RS</td>\n",
       "      <td>431620.0</td>\n",
       "      <td>RS</td>\n",
       "      <td>...</td>\n",
       "      <td>F</td>\n",
       "      <td>5.0</td>\n",
       "      <td>HOSPITAL PADRE EUGENIO</td>\n",
       "      <td>HOSPITAL PADRE EUGENIO</td>\n",
       "      <td>0.0</td>\n",
       "      <td>NaN</td>\n",
       "      <td>D48</td>\n",
       "      <td>26/01/2023</td>\n",
       "      <td>26/01/2023</td>\n",
       "      <td>03/11/2003</td>\n",
       "    </tr>\n",
       "    <tr>\n",
       "      <th>9547</th>\n",
       "      <td>3720835</td>\n",
       "      <td>2023</td>\n",
       "      <td>202301</td>\n",
       "      <td>NaN</td>\n",
       "      <td>NaN</td>\n",
       "      <td>RS</td>\n",
       "      <td>431380</td>\n",
       "      <td>NaN</td>\n",
       "      <td>NaN</td>\n",
       "      <td>RS</td>\n",
       "      <td>...</td>\n",
       "      <td>F</td>\n",
       "      <td>9.0</td>\n",
       "      <td>INSTITUTO DE PATOLOGIA DE PASSO FUNDO E OU IPPF</td>\n",
       "      <td>NaN</td>\n",
       "      <td>99999.0</td>\n",
       "      <td>NaN</td>\n",
       "      <td>C18</td>\n",
       "      <td>13/01/2023</td>\n",
       "      <td>NaN</td>\n",
       "      <td>22/04/2004</td>\n",
       "    </tr>\n",
       "    <tr>\n",
       "      <th>9548</th>\n",
       "      <td>3720895</td>\n",
       "      <td>2023</td>\n",
       "      <td>202304</td>\n",
       "      <td>NaN</td>\n",
       "      <td>NaN</td>\n",
       "      <td>RS</td>\n",
       "      <td>431920</td>\n",
       "      <td>NaN</td>\n",
       "      <td>NaN</td>\n",
       "      <td>RS</td>\n",
       "      <td>...</td>\n",
       "      <td>M</td>\n",
       "      <td>9.0</td>\n",
       "      <td>HOSPITAL SAO VICENTE DE PAULO</td>\n",
       "      <td>NaN</td>\n",
       "      <td>99999.0</td>\n",
       "      <td>NaN</td>\n",
       "      <td>C40</td>\n",
       "      <td>24/04/2023</td>\n",
       "      <td>NaN</td>\n",
       "      <td>20/01/2009</td>\n",
       "    </tr>\n",
       "    <tr>\n",
       "      <th>9549</th>\n",
       "      <td>3720988</td>\n",
       "      <td>2023</td>\n",
       "      <td>202304</td>\n",
       "      <td>NaN</td>\n",
       "      <td>NaN</td>\n",
       "      <td>RS</td>\n",
       "      <td>431490</td>\n",
       "      <td>NaN</td>\n",
       "      <td>NaN</td>\n",
       "      <td>RS</td>\n",
       "      <td>...</td>\n",
       "      <td>M</td>\n",
       "      <td>9.0</td>\n",
       "      <td>HOSPITAL DE CLINICAS</td>\n",
       "      <td>NaN</td>\n",
       "      <td>99999.0</td>\n",
       "      <td>NaN</td>\n",
       "      <td>C18</td>\n",
       "      <td>04/04/2023</td>\n",
       "      <td>NaN</td>\n",
       "      <td>04/06/2018</td>\n",
       "    </tr>\n",
       "  </tbody>\n",
       "</table>\n",
       "<p>9550 rows × 24 columns</p>\n",
       "</div>"
      ],
      "text/plain": [
       "      Unnamed: 0  ANO_DIAGN  ANOMES_DIA  ANO_TRATAM  ANOMES_TRA UF_RESID  \\\n",
       "0            666       2013      201305      2013.0    201305.0       RS   \n",
       "1            756       2013      201301      2013.0    201303.0       RS   \n",
       "2            950       2013      201301      2013.0    201301.0       RS   \n",
       "3           1139       2013      201310      2013.0    201310.0       RS   \n",
       "4           2122       2013      201306      2013.0    201306.0       RS   \n",
       "...          ...        ...         ...         ...         ...      ...   \n",
       "9545     3720331       2023      202303         NaN         NaN       RS   \n",
       "9546     3720587       2023      202301      2023.0    202301.0       RS   \n",
       "9547     3720835       2023      202301         NaN         NaN       RS   \n",
       "9548     3720895       2023      202304         NaN         NaN       RS   \n",
       "9549     3720988       2023      202304         NaN         NaN       RS   \n",
       "\n",
       "      MUN_RESID UF_TRATAM  MUN_TRATAM UF_DIAGN  ...  SEXO  ESTADIAM  \\\n",
       "0        431580        RS    431490.0       RS  ...     M       NaN   \n",
       "1        430210        RS    430210.0       RS  ...     M       4.0   \n",
       "2        431265        RS    431410.0       RS  ...     M       NaN   \n",
       "3        430510        RS    430510.0       RS  ...     M       NaN   \n",
       "4        430790        RS    430510.0       RS  ...     F       5.0   \n",
       "...         ...       ...         ...      ...  ...   ...       ...   \n",
       "9545     431490       NaN         NaN       RS  ...     M       9.0   \n",
       "9546     431620        RS    431620.0       RS  ...     F       5.0   \n",
       "9547     431380       NaN         NaN       RS  ...     F       9.0   \n",
       "9548     431920       NaN         NaN       RS  ...     M       9.0   \n",
       "9549     431490       NaN         NaN       RS  ...     M       9.0   \n",
       "\n",
       "                                            CNES_DIAG  \\\n",
       "0              HOSPITAL NOSSA SENHORA DA CONCEICAO SA   \n",
       "1                                   HOSPITAL TACCHINI   \n",
       "2                                HOSPITAL DE CLINICAS   \n",
       "3                                      HOSPITAL GERAL   \n",
       "4                                   HOSPITAL TACCHINI   \n",
       "...                                               ...   \n",
       "9545                             HOSPITAL DE CLINICAS   \n",
       "9546                           HOSPITAL PADRE EUGENIO   \n",
       "9547  INSTITUTO DE PATOLOGIA DE PASSO FUNDO E OU IPPF   \n",
       "9548                    HOSPITAL SAO VICENTE DE PAULO   \n",
       "9549                             HOSPITAL DE CLINICAS   \n",
       "\n",
       "                                   CNES_TRAT TEMPO_TRAT  CNS_PAC DIAG_DETH  \\\n",
       "0     HOSPITAL NOSSA SENHORA DA CONCEICAO SA        0.0      NaN       C91   \n",
       "1                          HOSPITAL TACCHINI       67.0      NaN       C81   \n",
       "2                       HOSPITAL DE CLINICAS        0.0      NaN       C91   \n",
       "3                             HOSPITAL GERAL       13.0      NaN       D46   \n",
       "4                           HOSPITAL POMPEIA        2.0      NaN       C71   \n",
       "...                                      ...        ...      ...       ...   \n",
       "9545                                     NaN    99999.0      NaN       C15   \n",
       "9546                  HOSPITAL PADRE EUGENIO        0.0      NaN       D48   \n",
       "9547                                     NaN    99999.0      NaN       C18   \n",
       "9548                                     NaN    99999.0      NaN       C40   \n",
       "9549                                     NaN    99999.0      NaN       C18   \n",
       "\n",
       "         DT_DIAG     DT_TRAT     DT_NASC  \n",
       "0     01/05/2013  01/05/2013  09/12/1999  \n",
       "1     04/01/2013  12/03/2013  22/02/1993  \n",
       "2     31/01/2013  31/01/2013  05/07/1995  \n",
       "3     10/10/2013  23/10/2013  14/05/2001  \n",
       "4     05/06/2013  07/06/2013  10/10/2001  \n",
       "...          ...         ...         ...  \n",
       "9545  02/03/2023         NaN  07/07/2011  \n",
       "9546  26/01/2023  26/01/2023  03/11/2003  \n",
       "9547  13/01/2023         NaN  22/04/2004  \n",
       "9548  24/04/2023         NaN  20/01/2009  \n",
       "9549  04/04/2023         NaN  04/06/2018  \n",
       "\n",
       "[9550 rows x 24 columns]"
      ]
     },
     "execution_count": 23,
     "metadata": {},
     "output_type": "execute_result"
    }
   ],
   "source": [
    "df"
   ]
  },
  {
   "cell_type": "code",
   "execution_count": 24,
   "metadata": {},
   "outputs": [
    {
     "name": "stdout",
     "output_type": "stream",
     "text": [
      "      Unnamed: 0  ANO_DIAGN  ANOMES_DIA  ANO_TRATAM  ANOMES_TRA UF_RESID  \\\n",
      "0            666       2013      201305      2013.0    201305.0       RS   \n",
      "1            756       2013      201301      2013.0    201303.0       RS   \n",
      "2            950       2013      201301      2013.0    201301.0       RS   \n",
      "3           1139       2013      201310      2013.0    201310.0       RS   \n",
      "4           2122       2013      201306      2013.0    201306.0       RS   \n",
      "...          ...        ...         ...         ...         ...      ...   \n",
      "9545     3720331       2023      202303         NaN         NaN       RS   \n",
      "9546     3720587       2023      202301      2023.0    202301.0       RS   \n",
      "9547     3720835       2023      202301         NaN         NaN       RS   \n",
      "9548     3720895       2023      202304         NaN         NaN       RS   \n",
      "9549     3720988       2023      202304         NaN         NaN       RS   \n",
      "\n",
      "      MUN_RESID UF_TRATAM  MUN_TRATAM UF_DIAGN  ...  ESTADIAM  \\\n",
      "0        431580        RS    431490.0       RS  ...       NaN   \n",
      "1        430210        RS    430210.0       RS  ...       4.0   \n",
      "2        431265        RS    431410.0       RS  ...       NaN   \n",
      "3        430510        RS    430510.0       RS  ...       NaN   \n",
      "4        430790        RS    430510.0       RS  ...       5.0   \n",
      "...         ...       ...         ...      ...  ...       ...   \n",
      "9545     431490       NaN         NaN       RS  ...       9.0   \n",
      "9546     431620        RS    431620.0       RS  ...       5.0   \n",
      "9547     431380       NaN         NaN       RS  ...       9.0   \n",
      "9548     431920       NaN         NaN       RS  ...       9.0   \n",
      "9549     431490       NaN         NaN       RS  ...       9.0   \n",
      "\n",
      "                                            CNES_DIAG  \\\n",
      "0              HOSPITAL NOSSA SENHORA DA CONCEICAO SA   \n",
      "1                                   HOSPITAL TACCHINI   \n",
      "2                                HOSPITAL DE CLINICAS   \n",
      "3                                      HOSPITAL GERAL   \n",
      "4                                   HOSPITAL TACCHINI   \n",
      "...                                               ...   \n",
      "9545                             HOSPITAL DE CLINICAS   \n",
      "9546                           HOSPITAL PADRE EUGENIO   \n",
      "9547  INSTITUTO DE PATOLOGIA DE PASSO FUNDO E OU IPPF   \n",
      "9548                    HOSPITAL SAO VICENTE DE PAULO   \n",
      "9549                             HOSPITAL DE CLINICAS   \n",
      "\n",
      "                                   CNES_TRAT  TEMPO_TRAT CNS_PAC  DIAG_DETH  \\\n",
      "0     HOSPITAL NOSSA SENHORA DA CONCEICAO SA         0.0     NaN        C91   \n",
      "1                          HOSPITAL TACCHINI        67.0     NaN        C81   \n",
      "2                       HOSPITAL DE CLINICAS         0.0     NaN        C91   \n",
      "3                             HOSPITAL GERAL        13.0     NaN        D46   \n",
      "4                           HOSPITAL POMPEIA         2.0     NaN        C71   \n",
      "...                                      ...         ...     ...        ...   \n",
      "9545                                     NaN     99999.0     NaN        C15   \n",
      "9546                  HOSPITAL PADRE EUGENIO         0.0     NaN        D48   \n",
      "9547                                     NaN     99999.0     NaN        C18   \n",
      "9548                                     NaN     99999.0     NaN        C40   \n",
      "9549                                     NaN     99999.0     NaN        C18   \n",
      "\n",
      "         DT_DIAG     DT_TRAT     DT_NASC  \\\n",
      "0     01/05/2013  01/05/2013  09/12/1999   \n",
      "1     04/01/2013  12/03/2013  22/02/1993   \n",
      "2     31/01/2013  31/01/2013  05/07/1995   \n",
      "3     10/10/2013  23/10/2013  14/05/2001   \n",
      "4     05/06/2013  07/06/2013  10/10/2001   \n",
      "...          ...         ...         ...   \n",
      "9545  02/03/2023         NaN  07/07/2011   \n",
      "9546  26/01/2023  26/01/2023  03/11/2003   \n",
      "9547  13/01/2023         NaN  22/04/2004   \n",
      "9548  24/04/2023         NaN  20/01/2009   \n",
      "9549  04/04/2023         NaN  04/06/2018   \n",
      "\n",
      "                                                  estab  \n",
      "0                HOSPITAL NOSSA SENHORA DA CONCEICAO SA  \n",
      "1                                     HOSPITAL TACCHINI  \n",
      "2                                  HOSPITAL DE CLINICAS  \n",
      "3                                        HOSPITAL GERAL  \n",
      "4     IRMANDADE DA SANTA CASA DE MISERICORDIA DE POR...  \n",
      "...                                                 ...  \n",
      "9545                                                NaN  \n",
      "9546                                                NaN  \n",
      "9547                                                NaN  \n",
      "9548                                                NaN  \n",
      "9549                                                NaN  \n",
      "\n",
      "[9550 rows x 25 columns]\n"
     ]
    }
   ],
   "source": [
    "import pandas as pd\n",
    "\n",
    "# Combinar as colunas CNES_DIAG e CNES_TRAT em uma nova coluna \"estab\"\n",
    "df['estab'] = pd.concat([df['CNES_DIAG'], df['CNES_TRAT']]).drop_duplicates().reset_index(drop=True)\n",
    "\n",
    "print(df)\n"
   ]
  },
  {
   "cell_type": "code",
   "execution_count": 25,
   "metadata": {},
   "outputs": [
    {
     "data": {
      "text/html": [
       "<div>\n",
       "<style scoped>\n",
       "    .dataframe tbody tr th:only-of-type {\n",
       "        vertical-align: middle;\n",
       "    }\n",
       "\n",
       "    .dataframe tbody tr th {\n",
       "        vertical-align: top;\n",
       "    }\n",
       "\n",
       "    .dataframe thead th {\n",
       "        text-align: right;\n",
       "    }\n",
       "</style>\n",
       "<table border=\"1\" class=\"dataframe\">\n",
       "  <thead>\n",
       "    <tr style=\"text-align: right;\">\n",
       "      <th></th>\n",
       "      <th>Unnamed: 0</th>\n",
       "      <th>ANO_DIAGN</th>\n",
       "      <th>ANOMES_DIA</th>\n",
       "      <th>ANO_TRATAM</th>\n",
       "      <th>ANOMES_TRA</th>\n",
       "      <th>UF_RESID</th>\n",
       "      <th>MUN_RESID</th>\n",
       "      <th>UF_TRATAM</th>\n",
       "      <th>MUN_TRATAM</th>\n",
       "      <th>UF_DIAGN</th>\n",
       "      <th>...</th>\n",
       "      <th>ESTADIAM</th>\n",
       "      <th>CNES_DIAG</th>\n",
       "      <th>CNES_TRAT</th>\n",
       "      <th>TEMPO_TRAT</th>\n",
       "      <th>CNS_PAC</th>\n",
       "      <th>DIAG_DETH</th>\n",
       "      <th>DT_DIAG</th>\n",
       "      <th>DT_TRAT</th>\n",
       "      <th>DT_NASC</th>\n",
       "      <th>estab</th>\n",
       "    </tr>\n",
       "  </thead>\n",
       "  <tbody>\n",
       "    <tr>\n",
       "      <th>0</th>\n",
       "      <td>666</td>\n",
       "      <td>2013</td>\n",
       "      <td>201305</td>\n",
       "      <td>2013.0</td>\n",
       "      <td>201305.0</td>\n",
       "      <td>RS</td>\n",
       "      <td>431580</td>\n",
       "      <td>RS</td>\n",
       "      <td>431490.0</td>\n",
       "      <td>RS</td>\n",
       "      <td>...</td>\n",
       "      <td>NaN</td>\n",
       "      <td>HOSPITAL NOSSA SENHORA DA CONCEICAO SA</td>\n",
       "      <td>HOSPITAL NOSSA SENHORA DA CONCEICAO SA</td>\n",
       "      <td>0.0</td>\n",
       "      <td>NaN</td>\n",
       "      <td>C91</td>\n",
       "      <td>01/05/2013</td>\n",
       "      <td>01/05/2013</td>\n",
       "      <td>09/12/1999</td>\n",
       "      <td>HOSPITAL NOSSA SENHORA DA CONCEICAO SA</td>\n",
       "    </tr>\n",
       "    <tr>\n",
       "      <th>1</th>\n",
       "      <td>756</td>\n",
       "      <td>2013</td>\n",
       "      <td>201301</td>\n",
       "      <td>2013.0</td>\n",
       "      <td>201303.0</td>\n",
       "      <td>RS</td>\n",
       "      <td>430210</td>\n",
       "      <td>RS</td>\n",
       "      <td>430210.0</td>\n",
       "      <td>RS</td>\n",
       "      <td>...</td>\n",
       "      <td>4.0</td>\n",
       "      <td>HOSPITAL TACCHINI</td>\n",
       "      <td>HOSPITAL TACCHINI</td>\n",
       "      <td>67.0</td>\n",
       "      <td>NaN</td>\n",
       "      <td>C81</td>\n",
       "      <td>04/01/2013</td>\n",
       "      <td>12/03/2013</td>\n",
       "      <td>22/02/1993</td>\n",
       "      <td>HOSPITAL TACCHINI</td>\n",
       "    </tr>\n",
       "    <tr>\n",
       "      <th>2</th>\n",
       "      <td>950</td>\n",
       "      <td>2013</td>\n",
       "      <td>201301</td>\n",
       "      <td>2013.0</td>\n",
       "      <td>201301.0</td>\n",
       "      <td>RS</td>\n",
       "      <td>431265</td>\n",
       "      <td>RS</td>\n",
       "      <td>431410.0</td>\n",
       "      <td>RS</td>\n",
       "      <td>...</td>\n",
       "      <td>NaN</td>\n",
       "      <td>HOSPITAL DE CLINICAS</td>\n",
       "      <td>HOSPITAL DE CLINICAS</td>\n",
       "      <td>0.0</td>\n",
       "      <td>NaN</td>\n",
       "      <td>C91</td>\n",
       "      <td>31/01/2013</td>\n",
       "      <td>31/01/2013</td>\n",
       "      <td>05/07/1995</td>\n",
       "      <td>HOSPITAL DE CLINICAS</td>\n",
       "    </tr>\n",
       "    <tr>\n",
       "      <th>3</th>\n",
       "      <td>1139</td>\n",
       "      <td>2013</td>\n",
       "      <td>201310</td>\n",
       "      <td>2013.0</td>\n",
       "      <td>201310.0</td>\n",
       "      <td>RS</td>\n",
       "      <td>430510</td>\n",
       "      <td>RS</td>\n",
       "      <td>430510.0</td>\n",
       "      <td>RS</td>\n",
       "      <td>...</td>\n",
       "      <td>NaN</td>\n",
       "      <td>HOSPITAL GERAL</td>\n",
       "      <td>HOSPITAL GERAL</td>\n",
       "      <td>13.0</td>\n",
       "      <td>NaN</td>\n",
       "      <td>D46</td>\n",
       "      <td>10/10/2013</td>\n",
       "      <td>23/10/2013</td>\n",
       "      <td>14/05/2001</td>\n",
       "      <td>HOSPITAL GERAL</td>\n",
       "    </tr>\n",
       "    <tr>\n",
       "      <th>4</th>\n",
       "      <td>2122</td>\n",
       "      <td>2013</td>\n",
       "      <td>201306</td>\n",
       "      <td>2013.0</td>\n",
       "      <td>201306.0</td>\n",
       "      <td>RS</td>\n",
       "      <td>430790</td>\n",
       "      <td>RS</td>\n",
       "      <td>430510.0</td>\n",
       "      <td>RS</td>\n",
       "      <td>...</td>\n",
       "      <td>5.0</td>\n",
       "      <td>HOSPITAL TACCHINI</td>\n",
       "      <td>HOSPITAL POMPEIA</td>\n",
       "      <td>2.0</td>\n",
       "      <td>NaN</td>\n",
       "      <td>C71</td>\n",
       "      <td>05/06/2013</td>\n",
       "      <td>07/06/2013</td>\n",
       "      <td>10/10/2001</td>\n",
       "      <td>IRMANDADE DA SANTA CASA DE MISERICORDIA DE POR...</td>\n",
       "    </tr>\n",
       "    <tr>\n",
       "      <th>...</th>\n",
       "      <td>...</td>\n",
       "      <td>...</td>\n",
       "      <td>...</td>\n",
       "      <td>...</td>\n",
       "      <td>...</td>\n",
       "      <td>...</td>\n",
       "      <td>...</td>\n",
       "      <td>...</td>\n",
       "      <td>...</td>\n",
       "      <td>...</td>\n",
       "      <td>...</td>\n",
       "      <td>...</td>\n",
       "      <td>...</td>\n",
       "      <td>...</td>\n",
       "      <td>...</td>\n",
       "      <td>...</td>\n",
       "      <td>...</td>\n",
       "      <td>...</td>\n",
       "      <td>...</td>\n",
       "      <td>...</td>\n",
       "      <td>...</td>\n",
       "    </tr>\n",
       "    <tr>\n",
       "      <th>9545</th>\n",
       "      <td>3720331</td>\n",
       "      <td>2023</td>\n",
       "      <td>202303</td>\n",
       "      <td>NaN</td>\n",
       "      <td>NaN</td>\n",
       "      <td>RS</td>\n",
       "      <td>431490</td>\n",
       "      <td>NaN</td>\n",
       "      <td>NaN</td>\n",
       "      <td>RS</td>\n",
       "      <td>...</td>\n",
       "      <td>9.0</td>\n",
       "      <td>HOSPITAL DE CLINICAS</td>\n",
       "      <td>NaN</td>\n",
       "      <td>99999.0</td>\n",
       "      <td>NaN</td>\n",
       "      <td>C15</td>\n",
       "      <td>02/03/2023</td>\n",
       "      <td>NaN</td>\n",
       "      <td>07/07/2011</td>\n",
       "      <td>NaN</td>\n",
       "    </tr>\n",
       "    <tr>\n",
       "      <th>9546</th>\n",
       "      <td>3720587</td>\n",
       "      <td>2023</td>\n",
       "      <td>202301</td>\n",
       "      <td>2023.0</td>\n",
       "      <td>202301.0</td>\n",
       "      <td>RS</td>\n",
       "      <td>431620</td>\n",
       "      <td>RS</td>\n",
       "      <td>431620.0</td>\n",
       "      <td>RS</td>\n",
       "      <td>...</td>\n",
       "      <td>5.0</td>\n",
       "      <td>HOSPITAL PADRE EUGENIO</td>\n",
       "      <td>HOSPITAL PADRE EUGENIO</td>\n",
       "      <td>0.0</td>\n",
       "      <td>NaN</td>\n",
       "      <td>D48</td>\n",
       "      <td>26/01/2023</td>\n",
       "      <td>26/01/2023</td>\n",
       "      <td>03/11/2003</td>\n",
       "      <td>NaN</td>\n",
       "    </tr>\n",
       "    <tr>\n",
       "      <th>9547</th>\n",
       "      <td>3720835</td>\n",
       "      <td>2023</td>\n",
       "      <td>202301</td>\n",
       "      <td>NaN</td>\n",
       "      <td>NaN</td>\n",
       "      <td>RS</td>\n",
       "      <td>431380</td>\n",
       "      <td>NaN</td>\n",
       "      <td>NaN</td>\n",
       "      <td>RS</td>\n",
       "      <td>...</td>\n",
       "      <td>9.0</td>\n",
       "      <td>INSTITUTO DE PATOLOGIA DE PASSO FUNDO E OU IPPF</td>\n",
       "      <td>NaN</td>\n",
       "      <td>99999.0</td>\n",
       "      <td>NaN</td>\n",
       "      <td>C18</td>\n",
       "      <td>13/01/2023</td>\n",
       "      <td>NaN</td>\n",
       "      <td>22/04/2004</td>\n",
       "      <td>NaN</td>\n",
       "    </tr>\n",
       "    <tr>\n",
       "      <th>9548</th>\n",
       "      <td>3720895</td>\n",
       "      <td>2023</td>\n",
       "      <td>202304</td>\n",
       "      <td>NaN</td>\n",
       "      <td>NaN</td>\n",
       "      <td>RS</td>\n",
       "      <td>431920</td>\n",
       "      <td>NaN</td>\n",
       "      <td>NaN</td>\n",
       "      <td>RS</td>\n",
       "      <td>...</td>\n",
       "      <td>9.0</td>\n",
       "      <td>HOSPITAL SAO VICENTE DE PAULO</td>\n",
       "      <td>NaN</td>\n",
       "      <td>99999.0</td>\n",
       "      <td>NaN</td>\n",
       "      <td>C40</td>\n",
       "      <td>24/04/2023</td>\n",
       "      <td>NaN</td>\n",
       "      <td>20/01/2009</td>\n",
       "      <td>NaN</td>\n",
       "    </tr>\n",
       "    <tr>\n",
       "      <th>9549</th>\n",
       "      <td>3720988</td>\n",
       "      <td>2023</td>\n",
       "      <td>202304</td>\n",
       "      <td>NaN</td>\n",
       "      <td>NaN</td>\n",
       "      <td>RS</td>\n",
       "      <td>431490</td>\n",
       "      <td>NaN</td>\n",
       "      <td>NaN</td>\n",
       "      <td>RS</td>\n",
       "      <td>...</td>\n",
       "      <td>9.0</td>\n",
       "      <td>HOSPITAL DE CLINICAS</td>\n",
       "      <td>NaN</td>\n",
       "      <td>99999.0</td>\n",
       "      <td>NaN</td>\n",
       "      <td>C18</td>\n",
       "      <td>04/04/2023</td>\n",
       "      <td>NaN</td>\n",
       "      <td>04/06/2018</td>\n",
       "      <td>NaN</td>\n",
       "    </tr>\n",
       "  </tbody>\n",
       "</table>\n",
       "<p>9550 rows × 25 columns</p>\n",
       "</div>"
      ],
      "text/plain": [
       "      Unnamed: 0  ANO_DIAGN  ANOMES_DIA  ANO_TRATAM  ANOMES_TRA UF_RESID  \\\n",
       "0            666       2013      201305      2013.0    201305.0       RS   \n",
       "1            756       2013      201301      2013.0    201303.0       RS   \n",
       "2            950       2013      201301      2013.0    201301.0       RS   \n",
       "3           1139       2013      201310      2013.0    201310.0       RS   \n",
       "4           2122       2013      201306      2013.0    201306.0       RS   \n",
       "...          ...        ...         ...         ...         ...      ...   \n",
       "9545     3720331       2023      202303         NaN         NaN       RS   \n",
       "9546     3720587       2023      202301      2023.0    202301.0       RS   \n",
       "9547     3720835       2023      202301         NaN         NaN       RS   \n",
       "9548     3720895       2023      202304         NaN         NaN       RS   \n",
       "9549     3720988       2023      202304         NaN         NaN       RS   \n",
       "\n",
       "      MUN_RESID UF_TRATAM  MUN_TRATAM UF_DIAGN  ...  ESTADIAM  \\\n",
       "0        431580        RS    431490.0       RS  ...       NaN   \n",
       "1        430210        RS    430210.0       RS  ...       4.0   \n",
       "2        431265        RS    431410.0       RS  ...       NaN   \n",
       "3        430510        RS    430510.0       RS  ...       NaN   \n",
       "4        430790        RS    430510.0       RS  ...       5.0   \n",
       "...         ...       ...         ...      ...  ...       ...   \n",
       "9545     431490       NaN         NaN       RS  ...       9.0   \n",
       "9546     431620        RS    431620.0       RS  ...       5.0   \n",
       "9547     431380       NaN         NaN       RS  ...       9.0   \n",
       "9548     431920       NaN         NaN       RS  ...       9.0   \n",
       "9549     431490       NaN         NaN       RS  ...       9.0   \n",
       "\n",
       "                                            CNES_DIAG  \\\n",
       "0              HOSPITAL NOSSA SENHORA DA CONCEICAO SA   \n",
       "1                                   HOSPITAL TACCHINI   \n",
       "2                                HOSPITAL DE CLINICAS   \n",
       "3                                      HOSPITAL GERAL   \n",
       "4                                   HOSPITAL TACCHINI   \n",
       "...                                               ...   \n",
       "9545                             HOSPITAL DE CLINICAS   \n",
       "9546                           HOSPITAL PADRE EUGENIO   \n",
       "9547  INSTITUTO DE PATOLOGIA DE PASSO FUNDO E OU IPPF   \n",
       "9548                    HOSPITAL SAO VICENTE DE PAULO   \n",
       "9549                             HOSPITAL DE CLINICAS   \n",
       "\n",
       "                                   CNES_TRAT  TEMPO_TRAT CNS_PAC  DIAG_DETH  \\\n",
       "0     HOSPITAL NOSSA SENHORA DA CONCEICAO SA         0.0     NaN        C91   \n",
       "1                          HOSPITAL TACCHINI        67.0     NaN        C81   \n",
       "2                       HOSPITAL DE CLINICAS         0.0     NaN        C91   \n",
       "3                             HOSPITAL GERAL        13.0     NaN        D46   \n",
       "4                           HOSPITAL POMPEIA         2.0     NaN        C71   \n",
       "...                                      ...         ...     ...        ...   \n",
       "9545                                     NaN     99999.0     NaN        C15   \n",
       "9546                  HOSPITAL PADRE EUGENIO         0.0     NaN        D48   \n",
       "9547                                     NaN     99999.0     NaN        C18   \n",
       "9548                                     NaN     99999.0     NaN        C40   \n",
       "9549                                     NaN     99999.0     NaN        C18   \n",
       "\n",
       "         DT_DIAG     DT_TRAT     DT_NASC  \\\n",
       "0     01/05/2013  01/05/2013  09/12/1999   \n",
       "1     04/01/2013  12/03/2013  22/02/1993   \n",
       "2     31/01/2013  31/01/2013  05/07/1995   \n",
       "3     10/10/2013  23/10/2013  14/05/2001   \n",
       "4     05/06/2013  07/06/2013  10/10/2001   \n",
       "...          ...         ...         ...   \n",
       "9545  02/03/2023         NaN  07/07/2011   \n",
       "9546  26/01/2023  26/01/2023  03/11/2003   \n",
       "9547  13/01/2023         NaN  22/04/2004   \n",
       "9548  24/04/2023         NaN  20/01/2009   \n",
       "9549  04/04/2023         NaN  04/06/2018   \n",
       "\n",
       "                                                  estab  \n",
       "0                HOSPITAL NOSSA SENHORA DA CONCEICAO SA  \n",
       "1                                     HOSPITAL TACCHINI  \n",
       "2                                  HOSPITAL DE CLINICAS  \n",
       "3                                        HOSPITAL GERAL  \n",
       "4     IRMANDADE DA SANTA CASA DE MISERICORDIA DE POR...  \n",
       "...                                                 ...  \n",
       "9545                                                NaN  \n",
       "9546                                                NaN  \n",
       "9547                                                NaN  \n",
       "9548                                                NaN  \n",
       "9549                                                NaN  \n",
       "\n",
       "[9550 rows x 25 columns]"
      ]
     },
     "execution_count": 25,
     "metadata": {},
     "output_type": "execute_result"
    }
   ],
   "source": [
    "df"
   ]
  },
  {
   "cell_type": "code",
   "execution_count": 7,
   "metadata": {},
   "outputs": [
    {
     "name": "stdout",
     "output_type": "stream",
     "text": [
      "Foram encontradas datas de nascimento duplicadas:\n",
      "      Unnamed: 0  ANO_DIAGN  ANOMES_DIA  ANO_TRATAM  ANOMES_TRA  UF_RESID  \\\n",
      "0            666       2013      201305      2013.0    201305.0        43   \n",
      "3           1139       2013      201310      2013.0    201310.0        43   \n",
      "4           2122       2013      201306      2013.0    201306.0        43   \n",
      "5           2284       2013      201304      2013.0    201304.0        43   \n",
      "6           2846       2013      201310      2013.0    201310.0        43   \n",
      "...          ...        ...         ...         ...         ...       ...   \n",
      "9544     3720304       2023      202304         NaN         NaN        43   \n",
      "9545     3720331       2023      202303         NaN         NaN        43   \n",
      "9546     3720587       2023      202301      2023.0    202301.0        43   \n",
      "9547     3720835       2023      202301         NaN         NaN        43   \n",
      "9549     3720988       2023      202304         NaN         NaN        43   \n",
      "\n",
      "      MUN_RESID  UF_TRATAM  MUN_TRATAM  UF_DIAGN  ...  SEXO  ESTADIAM  \\\n",
      "0        431580       43.0    431490.0        43  ...     M       NaN   \n",
      "3        430510       43.0    430510.0        43  ...     M       NaN   \n",
      "4        430790       43.0    430510.0        43  ...     F       5.0   \n",
      "5        431490       43.0    431490.0        43  ...     F       0.0   \n",
      "6        430510       43.0    430510.0        43  ...     M       1.0   \n",
      "...         ...        ...         ...       ...  ...   ...       ...   \n",
      "9544     431535        NaN         NaN        43  ...     F       9.0   \n",
      "9545     431490        NaN         NaN        43  ...     M       9.0   \n",
      "9546     431620       43.0    431620.0        43  ...     F       5.0   \n",
      "9547     431380        NaN         NaN        43  ...     F       9.0   \n",
      "9549     431490        NaN         NaN        43  ...     M       9.0   \n",
      "\n",
      "      CNES_DIAG  CNES_TRAT TEMPO_TRAT  CNS_PAC  DIAG_DETH     DT_DIAG  \\\n",
      "0       2237571  2237571.0        0.0      NaN        C91  01/05/2013   \n",
      "3       2223538  2223538.0       13.0      NaN        D46  10/10/2013   \n",
      "4       2241021  2223546.0        2.0      NaN        C71  05/06/2013   \n",
      "5       2237253  2237253.0        6.0      NaN        C49  24/04/2013   \n",
      "6       2223538  2223538.0       13.0      NaN        C00  10/10/2013   \n",
      "...         ...        ...        ...      ...        ...         ...   \n",
      "9544    6123791        NaN    99999.0      NaN        C16  17/04/2023   \n",
      "9545    2237601        NaN    99999.0      NaN        C15  02/03/2023   \n",
      "9546    2235447  2235447.0        0.0      NaN        D48  26/01/2023   \n",
      "9547    2245213        NaN    99999.0      NaN        C18  13/01/2023   \n",
      "9549    2237601        NaN    99999.0      NaN        C18  04/04/2023   \n",
      "\n",
      "         DT_TRAT    DT_NASC  \n",
      "0     01/05/2013 1999-12-09  \n",
      "3     23/10/2013 2001-05-14  \n",
      "4     07/06/2013 2001-10-10  \n",
      "5     30/04/2013 1998-07-09  \n",
      "6     23/10/2013 2001-05-14  \n",
      "...          ...        ...  \n",
      "9544         NaN 2006-01-15  \n",
      "9545         NaN 2011-07-07  \n",
      "9546  26/01/2023 2003-11-03  \n",
      "9547         NaN 2004-04-22  \n",
      "9549         NaN 2018-06-04  \n",
      "\n",
      "[6750 rows x 24 columns]\n"
     ]
    }
   ],
   "source": [
    "import pandas as pd\n",
    "\n",
    "# Carregar o arquivo CSV para um DataFrame\n",
    "file_path = 'PORS0_19.csv'\n",
    "df = pd.read_csv(file_path)\n",
    "\n",
    "# Converter a coluna de datas para o formato de data com o formato correto\n",
    "df['DT_NASC'] = pd.to_datetime(df['DT_NASC'], format='%d/%m/%Y')\n",
    "\n",
    "# Identificar linhas duplicadas com base na coluna de datas\n",
    "duplicates = df[df.duplicated(subset='DT_NASC', keep=False)]\n",
    "\n",
    "if not duplicates.empty:\n",
    "    print(\"Foram encontradas datas de nascimento duplicadas:\")\n",
    "    print(duplicates)\n",
    "else:\n",
    "    print(\"Não foram encontradas datas de nascimento duplicadas.\")\n"
   ]
  },
  {
   "cell_type": "code",
   "execution_count": 3,
   "metadata": {},
   "outputs": [
    {
     "data": {
      "text/html": [
       "<div>\n",
       "<style scoped>\n",
       "    .dataframe tbody tr th:only-of-type {\n",
       "        vertical-align: middle;\n",
       "    }\n",
       "\n",
       "    .dataframe tbody tr th {\n",
       "        vertical-align: top;\n",
       "    }\n",
       "\n",
       "    .dataframe thead th {\n",
       "        text-align: right;\n",
       "    }\n",
       "</style>\n",
       "<table border=\"1\" class=\"dataframe\">\n",
       "  <thead>\n",
       "    <tr style=\"text-align: right;\">\n",
       "      <th></th>\n",
       "      <th>Unnamed: 0</th>\n",
       "      <th>ANO_DIAGN</th>\n",
       "      <th>ANOMES_DIA</th>\n",
       "      <th>ANO_TRATAM</th>\n",
       "      <th>ANOMES_TRA</th>\n",
       "      <th>UF_RESID</th>\n",
       "      <th>MUN_RESID</th>\n",
       "      <th>UF_TRATAM</th>\n",
       "      <th>MUN_TRATAM</th>\n",
       "      <th>UF_DIAGN</th>\n",
       "      <th>...</th>\n",
       "      <th>SEXO</th>\n",
       "      <th>ESTADIAM</th>\n",
       "      <th>CNES_DIAG</th>\n",
       "      <th>CNES_TRAT</th>\n",
       "      <th>TEMPO_TRAT</th>\n",
       "      <th>CNS_PAC</th>\n",
       "      <th>DIAG_DETH</th>\n",
       "      <th>DT_DIAG</th>\n",
       "      <th>DT_TRAT</th>\n",
       "      <th>DT_NASC</th>\n",
       "    </tr>\n",
       "  </thead>\n",
       "  <tbody>\n",
       "    <tr>\n",
       "      <th>0</th>\n",
       "      <td>666</td>\n",
       "      <td>2013</td>\n",
       "      <td>201305</td>\n",
       "      <td>2013.0</td>\n",
       "      <td>201305.0</td>\n",
       "      <td>43</td>\n",
       "      <td>431580</td>\n",
       "      <td>43.0</td>\n",
       "      <td>431490.0</td>\n",
       "      <td>43</td>\n",
       "      <td>...</td>\n",
       "      <td>M</td>\n",
       "      <td>NaN</td>\n",
       "      <td>HOSPITAL NOSSA SENHORA DA CONCEICAO SA</td>\n",
       "      <td>HOSPITAL NOSSA SENHORA DA CONCEICAO SA</td>\n",
       "      <td>0.0</td>\n",
       "      <td>NaN</td>\n",
       "      <td>C91</td>\n",
       "      <td>01/05/2013</td>\n",
       "      <td>01/05/2013</td>\n",
       "      <td>09/12/1999</td>\n",
       "    </tr>\n",
       "    <tr>\n",
       "      <th>1</th>\n",
       "      <td>756</td>\n",
       "      <td>2013</td>\n",
       "      <td>201301</td>\n",
       "      <td>2013.0</td>\n",
       "      <td>201303.0</td>\n",
       "      <td>43</td>\n",
       "      <td>430210</td>\n",
       "      <td>43.0</td>\n",
       "      <td>430210.0</td>\n",
       "      <td>43</td>\n",
       "      <td>...</td>\n",
       "      <td>M</td>\n",
       "      <td>4.0</td>\n",
       "      <td>HOSPITAL TACCHINI</td>\n",
       "      <td>HOSPITAL TACCHINI</td>\n",
       "      <td>67.0</td>\n",
       "      <td>NaN</td>\n",
       "      <td>C81</td>\n",
       "      <td>04/01/2013</td>\n",
       "      <td>12/03/2013</td>\n",
       "      <td>22/02/1993</td>\n",
       "    </tr>\n",
       "    <tr>\n",
       "      <th>2</th>\n",
       "      <td>950</td>\n",
       "      <td>2013</td>\n",
       "      <td>201301</td>\n",
       "      <td>2013.0</td>\n",
       "      <td>201301.0</td>\n",
       "      <td>43</td>\n",
       "      <td>431265</td>\n",
       "      <td>43.0</td>\n",
       "      <td>431410.0</td>\n",
       "      <td>43</td>\n",
       "      <td>...</td>\n",
       "      <td>M</td>\n",
       "      <td>NaN</td>\n",
       "      <td>HOSPITAL DE CLINICAS</td>\n",
       "      <td>HOSPITAL DE CLINICAS</td>\n",
       "      <td>0.0</td>\n",
       "      <td>NaN</td>\n",
       "      <td>C91</td>\n",
       "      <td>31/01/2013</td>\n",
       "      <td>31/01/2013</td>\n",
       "      <td>05/07/1995</td>\n",
       "    </tr>\n",
       "    <tr>\n",
       "      <th>3</th>\n",
       "      <td>1139</td>\n",
       "      <td>2013</td>\n",
       "      <td>201310</td>\n",
       "      <td>2013.0</td>\n",
       "      <td>201310.0</td>\n",
       "      <td>43</td>\n",
       "      <td>430510</td>\n",
       "      <td>43.0</td>\n",
       "      <td>430510.0</td>\n",
       "      <td>43</td>\n",
       "      <td>...</td>\n",
       "      <td>M</td>\n",
       "      <td>NaN</td>\n",
       "      <td>HOSPITAL GERAL</td>\n",
       "      <td>HOSPITAL GERAL</td>\n",
       "      <td>13.0</td>\n",
       "      <td>NaN</td>\n",
       "      <td>D46</td>\n",
       "      <td>10/10/2013</td>\n",
       "      <td>23/10/2013</td>\n",
       "      <td>14/05/2001</td>\n",
       "    </tr>\n",
       "    <tr>\n",
       "      <th>4</th>\n",
       "      <td>2122</td>\n",
       "      <td>2013</td>\n",
       "      <td>201306</td>\n",
       "      <td>2013.0</td>\n",
       "      <td>201306.0</td>\n",
       "      <td>43</td>\n",
       "      <td>430790</td>\n",
       "      <td>43.0</td>\n",
       "      <td>430510.0</td>\n",
       "      <td>43</td>\n",
       "      <td>...</td>\n",
       "      <td>F</td>\n",
       "      <td>5.0</td>\n",
       "      <td>HOSPITAL TACCHINI</td>\n",
       "      <td>HOSPITAL POMPEIA</td>\n",
       "      <td>2.0</td>\n",
       "      <td>NaN</td>\n",
       "      <td>C71</td>\n",
       "      <td>05/06/2013</td>\n",
       "      <td>07/06/2013</td>\n",
       "      <td>10/10/2001</td>\n",
       "    </tr>\n",
       "    <tr>\n",
       "      <th>...</th>\n",
       "      <td>...</td>\n",
       "      <td>...</td>\n",
       "      <td>...</td>\n",
       "      <td>...</td>\n",
       "      <td>...</td>\n",
       "      <td>...</td>\n",
       "      <td>...</td>\n",
       "      <td>...</td>\n",
       "      <td>...</td>\n",
       "      <td>...</td>\n",
       "      <td>...</td>\n",
       "      <td>...</td>\n",
       "      <td>...</td>\n",
       "      <td>...</td>\n",
       "      <td>...</td>\n",
       "      <td>...</td>\n",
       "      <td>...</td>\n",
       "      <td>...</td>\n",
       "      <td>...</td>\n",
       "      <td>...</td>\n",
       "      <td>...</td>\n",
       "    </tr>\n",
       "    <tr>\n",
       "      <th>9545</th>\n",
       "      <td>3720331</td>\n",
       "      <td>2023</td>\n",
       "      <td>202303</td>\n",
       "      <td>NaN</td>\n",
       "      <td>NaN</td>\n",
       "      <td>43</td>\n",
       "      <td>431490</td>\n",
       "      <td>NaN</td>\n",
       "      <td>NaN</td>\n",
       "      <td>43</td>\n",
       "      <td>...</td>\n",
       "      <td>M</td>\n",
       "      <td>9.0</td>\n",
       "      <td>HOSPITAL DE CLINICAS</td>\n",
       "      <td>NaN</td>\n",
       "      <td>99999.0</td>\n",
       "      <td>NaN</td>\n",
       "      <td>C15</td>\n",
       "      <td>02/03/2023</td>\n",
       "      <td>NaN</td>\n",
       "      <td>07/07/2011</td>\n",
       "    </tr>\n",
       "    <tr>\n",
       "      <th>9546</th>\n",
       "      <td>3720587</td>\n",
       "      <td>2023</td>\n",
       "      <td>202301</td>\n",
       "      <td>2023.0</td>\n",
       "      <td>202301.0</td>\n",
       "      <td>43</td>\n",
       "      <td>431620</td>\n",
       "      <td>43.0</td>\n",
       "      <td>431620.0</td>\n",
       "      <td>43</td>\n",
       "      <td>...</td>\n",
       "      <td>F</td>\n",
       "      <td>5.0</td>\n",
       "      <td>HOSPITAL PADRE EUGENIO</td>\n",
       "      <td>HOSPITAL PADRE EUGENIO</td>\n",
       "      <td>0.0</td>\n",
       "      <td>NaN</td>\n",
       "      <td>D48</td>\n",
       "      <td>26/01/2023</td>\n",
       "      <td>26/01/2023</td>\n",
       "      <td>03/11/2003</td>\n",
       "    </tr>\n",
       "    <tr>\n",
       "      <th>9547</th>\n",
       "      <td>3720835</td>\n",
       "      <td>2023</td>\n",
       "      <td>202301</td>\n",
       "      <td>NaN</td>\n",
       "      <td>NaN</td>\n",
       "      <td>43</td>\n",
       "      <td>431380</td>\n",
       "      <td>NaN</td>\n",
       "      <td>NaN</td>\n",
       "      <td>43</td>\n",
       "      <td>...</td>\n",
       "      <td>F</td>\n",
       "      <td>9.0</td>\n",
       "      <td>2245213</td>\n",
       "      <td>NaN</td>\n",
       "      <td>99999.0</td>\n",
       "      <td>NaN</td>\n",
       "      <td>C18</td>\n",
       "      <td>13/01/2023</td>\n",
       "      <td>NaN</td>\n",
       "      <td>22/04/2004</td>\n",
       "    </tr>\n",
       "    <tr>\n",
       "      <th>9548</th>\n",
       "      <td>3720895</td>\n",
       "      <td>2023</td>\n",
       "      <td>202304</td>\n",
       "      <td>NaN</td>\n",
       "      <td>NaN</td>\n",
       "      <td>43</td>\n",
       "      <td>431920</td>\n",
       "      <td>NaN</td>\n",
       "      <td>NaN</td>\n",
       "      <td>43</td>\n",
       "      <td>...</td>\n",
       "      <td>M</td>\n",
       "      <td>9.0</td>\n",
       "      <td>HOSPITAL SAO VICENTE DE PAULO</td>\n",
       "      <td>NaN</td>\n",
       "      <td>99999.0</td>\n",
       "      <td>NaN</td>\n",
       "      <td>C40</td>\n",
       "      <td>24/04/2023</td>\n",
       "      <td>NaN</td>\n",
       "      <td>20/01/2009</td>\n",
       "    </tr>\n",
       "    <tr>\n",
       "      <th>9549</th>\n",
       "      <td>3720988</td>\n",
       "      <td>2023</td>\n",
       "      <td>202304</td>\n",
       "      <td>NaN</td>\n",
       "      <td>NaN</td>\n",
       "      <td>43</td>\n",
       "      <td>431490</td>\n",
       "      <td>NaN</td>\n",
       "      <td>NaN</td>\n",
       "      <td>43</td>\n",
       "      <td>...</td>\n",
       "      <td>M</td>\n",
       "      <td>9.0</td>\n",
       "      <td>HOSPITAL DE CLINICAS</td>\n",
       "      <td>NaN</td>\n",
       "      <td>99999.0</td>\n",
       "      <td>NaN</td>\n",
       "      <td>C18</td>\n",
       "      <td>04/04/2023</td>\n",
       "      <td>NaN</td>\n",
       "      <td>04/06/2018</td>\n",
       "    </tr>\n",
       "  </tbody>\n",
       "</table>\n",
       "<p>9550 rows × 24 columns</p>\n",
       "</div>"
      ],
      "text/plain": [
       "      Unnamed: 0  ANO_DIAGN  ANOMES_DIA  ANO_TRATAM  ANOMES_TRA  UF_RESID  \\\n",
       "0            666       2013      201305      2013.0    201305.0        43   \n",
       "1            756       2013      201301      2013.0    201303.0        43   \n",
       "2            950       2013      201301      2013.0    201301.0        43   \n",
       "3           1139       2013      201310      2013.0    201310.0        43   \n",
       "4           2122       2013      201306      2013.0    201306.0        43   \n",
       "...          ...        ...         ...         ...         ...       ...   \n",
       "9545     3720331       2023      202303         NaN         NaN        43   \n",
       "9546     3720587       2023      202301      2023.0    202301.0        43   \n",
       "9547     3720835       2023      202301         NaN         NaN        43   \n",
       "9548     3720895       2023      202304         NaN         NaN        43   \n",
       "9549     3720988       2023      202304         NaN         NaN        43   \n",
       "\n",
       "      MUN_RESID  UF_TRATAM  MUN_TRATAM  UF_DIAGN  ...  SEXO  ESTADIAM  \\\n",
       "0        431580       43.0    431490.0        43  ...     M       NaN   \n",
       "1        430210       43.0    430210.0        43  ...     M       4.0   \n",
       "2        431265       43.0    431410.0        43  ...     M       NaN   \n",
       "3        430510       43.0    430510.0        43  ...     M       NaN   \n",
       "4        430790       43.0    430510.0        43  ...     F       5.0   \n",
       "...         ...        ...         ...       ...  ...   ...       ...   \n",
       "9545     431490        NaN         NaN        43  ...     M       9.0   \n",
       "9546     431620       43.0    431620.0        43  ...     F       5.0   \n",
       "9547     431380        NaN         NaN        43  ...     F       9.0   \n",
       "9548     431920        NaN         NaN        43  ...     M       9.0   \n",
       "9549     431490        NaN         NaN        43  ...     M       9.0   \n",
       "\n",
       "                                   CNES_DIAG  \\\n",
       "0     HOSPITAL NOSSA SENHORA DA CONCEICAO SA   \n",
       "1                          HOSPITAL TACCHINI   \n",
       "2                       HOSPITAL DE CLINICAS   \n",
       "3                             HOSPITAL GERAL   \n",
       "4                          HOSPITAL TACCHINI   \n",
       "...                                      ...   \n",
       "9545                    HOSPITAL DE CLINICAS   \n",
       "9546                  HOSPITAL PADRE EUGENIO   \n",
       "9547                                 2245213   \n",
       "9548           HOSPITAL SAO VICENTE DE PAULO   \n",
       "9549                    HOSPITAL DE CLINICAS   \n",
       "\n",
       "                                   CNES_TRAT TEMPO_TRAT  CNS_PAC DIAG_DETH  \\\n",
       "0     HOSPITAL NOSSA SENHORA DA CONCEICAO SA        0.0      NaN       C91   \n",
       "1                          HOSPITAL TACCHINI       67.0      NaN       C81   \n",
       "2                       HOSPITAL DE CLINICAS        0.0      NaN       C91   \n",
       "3                             HOSPITAL GERAL       13.0      NaN       D46   \n",
       "4                           HOSPITAL POMPEIA        2.0      NaN       C71   \n",
       "...                                      ...        ...      ...       ...   \n",
       "9545                                     NaN    99999.0      NaN       C15   \n",
       "9546                  HOSPITAL PADRE EUGENIO        0.0      NaN       D48   \n",
       "9547                                     NaN    99999.0      NaN       C18   \n",
       "9548                                     NaN    99999.0      NaN       C40   \n",
       "9549                                     NaN    99999.0      NaN       C18   \n",
       "\n",
       "         DT_DIAG     DT_TRAT     DT_NASC  \n",
       "0     01/05/2013  01/05/2013  09/12/1999  \n",
       "1     04/01/2013  12/03/2013  22/02/1993  \n",
       "2     31/01/2013  31/01/2013  05/07/1995  \n",
       "3     10/10/2013  23/10/2013  14/05/2001  \n",
       "4     05/06/2013  07/06/2013  10/10/2001  \n",
       "...          ...         ...         ...  \n",
       "9545  02/03/2023         NaN  07/07/2011  \n",
       "9546  26/01/2023  26/01/2023  03/11/2003  \n",
       "9547  13/01/2023         NaN  22/04/2004  \n",
       "9548  24/04/2023         NaN  20/01/2009  \n",
       "9549  04/04/2023         NaN  04/06/2018  \n",
       "\n",
       "[9550 rows x 24 columns]"
      ]
     },
     "execution_count": 3,
     "metadata": {},
     "output_type": "execute_result"
    }
   ],
   "source": [
    "#calcular quantidades de uma filtragem\n",
    "\n",
    "quantidadePacientesClinicas=df[(df['UF_DIAGN'] == 43) & ((df['IDADE'] >= 0) & (df['IDADE'] <= 19))]\n",
    "\n",
    "quantidadePacientesClinicas\n",
    "#print(f'Quantidade : {quantidadePacientesClinicas}')\n",
    "#2237571"
   ]
  },
  {
   "cell_type": "code",
   "execution_count": 16,
   "metadata": {},
   "outputs": [
    {
     "data": {
      "text/html": [
       "<div>\n",
       "<style scoped>\n",
       "    .dataframe tbody tr th:only-of-type {\n",
       "        vertical-align: middle;\n",
       "    }\n",
       "\n",
       "    .dataframe tbody tr th {\n",
       "        vertical-align: top;\n",
       "    }\n",
       "\n",
       "    .dataframe thead th {\n",
       "        text-align: right;\n",
       "    }\n",
       "</style>\n",
       "<table border=\"1\" class=\"dataframe\">\n",
       "  <thead>\n",
       "    <tr style=\"text-align: right;\">\n",
       "      <th></th>\n",
       "      <th>QUANT</th>\n",
       "    </tr>\n",
       "    <tr>\n",
       "      <th>DIAG_DETH</th>\n",
       "      <th></th>\n",
       "    </tr>\n",
       "  </thead>\n",
       "  <tbody>\n",
       "    <tr>\n",
       "      <th>C00</th>\n",
       "      <td>15</td>\n",
       "    </tr>\n",
       "    <tr>\n",
       "      <th>C02</th>\n",
       "      <td>2</td>\n",
       "    </tr>\n",
       "    <tr>\n",
       "      <th>C06</th>\n",
       "      <td>1</td>\n",
       "    </tr>\n",
       "    <tr>\n",
       "      <th>C08</th>\n",
       "      <td>1</td>\n",
       "    </tr>\n",
       "    <tr>\n",
       "      <th>C16</th>\n",
       "      <td>1</td>\n",
       "    </tr>\n",
       "    <tr>\n",
       "      <th>C17</th>\n",
       "      <td>3</td>\n",
       "    </tr>\n",
       "    <tr>\n",
       "      <th>C18</th>\n",
       "      <td>36</td>\n",
       "    </tr>\n",
       "    <tr>\n",
       "      <th>C20</th>\n",
       "      <td>1</td>\n",
       "    </tr>\n",
       "    <tr>\n",
       "      <th>C21</th>\n",
       "      <td>1</td>\n",
       "    </tr>\n",
       "    <tr>\n",
       "      <th>C22</th>\n",
       "      <td>3</td>\n",
       "    </tr>\n",
       "    <tr>\n",
       "      <th>C25</th>\n",
       "      <td>1</td>\n",
       "    </tr>\n",
       "    <tr>\n",
       "      <th>C33</th>\n",
       "      <td>1</td>\n",
       "    </tr>\n",
       "    <tr>\n",
       "      <th>C34</th>\n",
       "      <td>7</td>\n",
       "    </tr>\n",
       "    <tr>\n",
       "      <th>C38</th>\n",
       "      <td>3</td>\n",
       "    </tr>\n",
       "    <tr>\n",
       "      <th>C40</th>\n",
       "      <td>9</td>\n",
       "    </tr>\n",
       "    <tr>\n",
       "      <th>C41</th>\n",
       "      <td>8</td>\n",
       "    </tr>\n",
       "    <tr>\n",
       "      <th>C43</th>\n",
       "      <td>2</td>\n",
       "    </tr>\n",
       "    <tr>\n",
       "      <th>C44</th>\n",
       "      <td>18</td>\n",
       "    </tr>\n",
       "    <tr>\n",
       "      <th>C46</th>\n",
       "      <td>1</td>\n",
       "    </tr>\n",
       "    <tr>\n",
       "      <th>C48</th>\n",
       "      <td>1</td>\n",
       "    </tr>\n",
       "    <tr>\n",
       "      <th>C49</th>\n",
       "      <td>14</td>\n",
       "    </tr>\n",
       "    <tr>\n",
       "      <th>C50</th>\n",
       "      <td>5</td>\n",
       "    </tr>\n",
       "    <tr>\n",
       "      <th>C51</th>\n",
       "      <td>1</td>\n",
       "    </tr>\n",
       "    <tr>\n",
       "      <th>C55</th>\n",
       "      <td>1</td>\n",
       "    </tr>\n",
       "    <tr>\n",
       "      <th>C56</th>\n",
       "      <td>6</td>\n",
       "    </tr>\n",
       "    <tr>\n",
       "      <th>C57</th>\n",
       "      <td>2</td>\n",
       "    </tr>\n",
       "    <tr>\n",
       "      <th>C58</th>\n",
       "      <td>1</td>\n",
       "    </tr>\n",
       "    <tr>\n",
       "      <th>C62</th>\n",
       "      <td>7</td>\n",
       "    </tr>\n",
       "    <tr>\n",
       "      <th>C64</th>\n",
       "      <td>4</td>\n",
       "    </tr>\n",
       "    <tr>\n",
       "      <th>C65</th>\n",
       "      <td>1</td>\n",
       "    </tr>\n",
       "    <tr>\n",
       "      <th>C69</th>\n",
       "      <td>2</td>\n",
       "    </tr>\n",
       "    <tr>\n",
       "      <th>C71</th>\n",
       "      <td>27</td>\n",
       "    </tr>\n",
       "    <tr>\n",
       "      <th>C72</th>\n",
       "      <td>8</td>\n",
       "    </tr>\n",
       "    <tr>\n",
       "      <th>C73</th>\n",
       "      <td>3</td>\n",
       "    </tr>\n",
       "    <tr>\n",
       "      <th>C74</th>\n",
       "      <td>5</td>\n",
       "    </tr>\n",
       "    <tr>\n",
       "      <th>C75</th>\n",
       "      <td>2</td>\n",
       "    </tr>\n",
       "    <tr>\n",
       "      <th>C76</th>\n",
       "      <td>3</td>\n",
       "    </tr>\n",
       "    <tr>\n",
       "      <th>C77</th>\n",
       "      <td>11</td>\n",
       "    </tr>\n",
       "    <tr>\n",
       "      <th>C78</th>\n",
       "      <td>5</td>\n",
       "    </tr>\n",
       "    <tr>\n",
       "      <th>C79</th>\n",
       "      <td>32</td>\n",
       "    </tr>\n",
       "    <tr>\n",
       "      <th>C80</th>\n",
       "      <td>12</td>\n",
       "    </tr>\n",
       "    <tr>\n",
       "      <th>C81</th>\n",
       "      <td>21</td>\n",
       "    </tr>\n",
       "    <tr>\n",
       "      <th>C83</th>\n",
       "      <td>15</td>\n",
       "    </tr>\n",
       "    <tr>\n",
       "      <th>C85</th>\n",
       "      <td>1</td>\n",
       "    </tr>\n",
       "    <tr>\n",
       "      <th>C91</th>\n",
       "      <td>40</td>\n",
       "    </tr>\n",
       "    <tr>\n",
       "      <th>C92</th>\n",
       "      <td>18</td>\n",
       "    </tr>\n",
       "    <tr>\n",
       "      <th>C93</th>\n",
       "      <td>1</td>\n",
       "    </tr>\n",
       "    <tr>\n",
       "      <th>C95</th>\n",
       "      <td>15</td>\n",
       "    </tr>\n",
       "    <tr>\n",
       "      <th>C96</th>\n",
       "      <td>4</td>\n",
       "    </tr>\n",
       "    <tr>\n",
       "      <th>D00</th>\n",
       "      <td>1</td>\n",
       "    </tr>\n",
       "    <tr>\n",
       "      <th>D04</th>\n",
       "      <td>3</td>\n",
       "    </tr>\n",
       "    <tr>\n",
       "      <th>D06</th>\n",
       "      <td>2</td>\n",
       "    </tr>\n",
       "    <tr>\n",
       "      <th>D37</th>\n",
       "      <td>5</td>\n",
       "    </tr>\n",
       "    <tr>\n",
       "      <th>D39</th>\n",
       "      <td>1</td>\n",
       "    </tr>\n",
       "    <tr>\n",
       "      <th>D40</th>\n",
       "      <td>2</td>\n",
       "    </tr>\n",
       "    <tr>\n",
       "      <th>D41</th>\n",
       "      <td>1</td>\n",
       "    </tr>\n",
       "    <tr>\n",
       "      <th>D43</th>\n",
       "      <td>3</td>\n",
       "    </tr>\n",
       "    <tr>\n",
       "      <th>D44</th>\n",
       "      <td>2</td>\n",
       "    </tr>\n",
       "    <tr>\n",
       "      <th>D46</th>\n",
       "      <td>9</td>\n",
       "    </tr>\n",
       "    <tr>\n",
       "      <th>D48</th>\n",
       "      <td>10</td>\n",
       "    </tr>\n",
       "  </tbody>\n",
       "</table>\n",
       "</div>"
      ],
      "text/plain": [
       "           QUANT\n",
       "DIAG_DETH       \n",
       "C00           15\n",
       "C02            2\n",
       "C06            1\n",
       "C08            1\n",
       "C16            1\n",
       "C17            3\n",
       "C18           36\n",
       "C20            1\n",
       "C21            1\n",
       "C22            3\n",
       "C25            1\n",
       "C33            1\n",
       "C34            7\n",
       "C38            3\n",
       "C40            9\n",
       "C41            8\n",
       "C43            2\n",
       "C44           18\n",
       "C46            1\n",
       "C48            1\n",
       "C49           14\n",
       "C50            5\n",
       "C51            1\n",
       "C55            1\n",
       "C56            6\n",
       "C57            2\n",
       "C58            1\n",
       "C62            7\n",
       "C64            4\n",
       "C65            1\n",
       "C69            2\n",
       "C71           27\n",
       "C72            8\n",
       "C73            3\n",
       "C74            5\n",
       "C75            2\n",
       "C76            3\n",
       "C77           11\n",
       "C78            5\n",
       "C79           32\n",
       "C80           12\n",
       "C81           21\n",
       "C83           15\n",
       "C85            1\n",
       "C91           40\n",
       "C92           18\n",
       "C93            1\n",
       "C95           15\n",
       "C96            4\n",
       "D00            1\n",
       "D04            3\n",
       "D06            2\n",
       "D37            5\n",
       "D39            1\n",
       "D40            2\n",
       "D41            1\n",
       "D43            3\n",
       "D44            2\n",
       "D46            9\n",
       "D48           10"
      ]
     },
     "execution_count": 16,
     "metadata": {},
     "output_type": "execute_result"
    }
   ],
   "source": [
    "#Verificar tabelas \n",
    "df['IDADE'] = pd.to_numeric(df['IDADE'])\n",
    "filtro = df[(df['CNES_DIAG'] == 'HOSPITAL GERAL')]\n",
    "conta = filtro.groupby(['DIAG_DETH']).agg({\n",
    "    \"DIAG_DETH\": [('QUANT', 'count')]})\n",
    "conta.columns = conta.columns.droplevel()\n",
    "conta\n",
    "\n",
    "#filtro.to_csv('RS.csv')"
   ]
  },
  {
   "cell_type": "code",
   "execution_count": 15,
   "metadata": {},
   "outputs": [
    {
     "data": {
      "text/html": [
       "<div>\n",
       "<style scoped>\n",
       "    .dataframe tbody tr th:only-of-type {\n",
       "        vertical-align: middle;\n",
       "    }\n",
       "\n",
       "    .dataframe tbody tr th {\n",
       "        vertical-align: top;\n",
       "    }\n",
       "\n",
       "    .dataframe thead th {\n",
       "        text-align: right;\n",
       "    }\n",
       "</style>\n",
       "<table border=\"1\" class=\"dataframe\">\n",
       "  <thead>\n",
       "    <tr style=\"text-align: right;\">\n",
       "      <th></th>\n",
       "      <th>Unnamed: 0</th>\n",
       "      <th>ANO_DIAGN</th>\n",
       "      <th>ANOMES_DIA</th>\n",
       "      <th>ANO_TRATAM</th>\n",
       "      <th>ANOMES_TRA</th>\n",
       "      <th>UF_RESID</th>\n",
       "      <th>MUN_RESID</th>\n",
       "      <th>UF_TRATAM</th>\n",
       "      <th>MUN_TRATAM</th>\n",
       "      <th>UF_DIAGN</th>\n",
       "      <th>...</th>\n",
       "      <th>SEXO</th>\n",
       "      <th>ESTADIAM</th>\n",
       "      <th>CNES_DIAG</th>\n",
       "      <th>CNES_TRAT</th>\n",
       "      <th>TEMPO_TRAT</th>\n",
       "      <th>CNS_PAC</th>\n",
       "      <th>DIAG_DETH</th>\n",
       "      <th>DT_DIAG</th>\n",
       "      <th>DT_TRAT</th>\n",
       "      <th>DT_NASC</th>\n",
       "    </tr>\n",
       "  </thead>\n",
       "  <tbody>\n",
       "    <tr>\n",
       "      <th>0</th>\n",
       "      <td>666</td>\n",
       "      <td>2013</td>\n",
       "      <td>201305</td>\n",
       "      <td>2013.0</td>\n",
       "      <td>201305.0</td>\n",
       "      <td>43</td>\n",
       "      <td>431580</td>\n",
       "      <td>43.0</td>\n",
       "      <td>431490.0</td>\n",
       "      <td>43</td>\n",
       "      <td>...</td>\n",
       "      <td>M</td>\n",
       "      <td>NaN</td>\n",
       "      <td>HOSPITAL NOSSA SENHORA DA CONCEICAO SA</td>\n",
       "      <td>HOSPITAL NOSSA SENHORA DA CONCEICAO SA</td>\n",
       "      <td>0.0</td>\n",
       "      <td>NaN</td>\n",
       "      <td>C91</td>\n",
       "      <td>01/05/2013</td>\n",
       "      <td>01/05/2013</td>\n",
       "      <td>09/12/1999</td>\n",
       "    </tr>\n",
       "    <tr>\n",
       "      <th>1</th>\n",
       "      <td>756</td>\n",
       "      <td>2013</td>\n",
       "      <td>201301</td>\n",
       "      <td>2013.0</td>\n",
       "      <td>201303.0</td>\n",
       "      <td>43</td>\n",
       "      <td>430210</td>\n",
       "      <td>43.0</td>\n",
       "      <td>430210.0</td>\n",
       "      <td>43</td>\n",
       "      <td>...</td>\n",
       "      <td>M</td>\n",
       "      <td>4.0</td>\n",
       "      <td>HOSPITAL TACCHINI</td>\n",
       "      <td>HOSPITAL TACCHINI</td>\n",
       "      <td>67.0</td>\n",
       "      <td>NaN</td>\n",
       "      <td>C81</td>\n",
       "      <td>04/01/2013</td>\n",
       "      <td>12/03/2013</td>\n",
       "      <td>22/02/1993</td>\n",
       "    </tr>\n",
       "    <tr>\n",
       "      <th>2</th>\n",
       "      <td>950</td>\n",
       "      <td>2013</td>\n",
       "      <td>201301</td>\n",
       "      <td>2013.0</td>\n",
       "      <td>201301.0</td>\n",
       "      <td>43</td>\n",
       "      <td>431265</td>\n",
       "      <td>43.0</td>\n",
       "      <td>431410.0</td>\n",
       "      <td>43</td>\n",
       "      <td>...</td>\n",
       "      <td>M</td>\n",
       "      <td>NaN</td>\n",
       "      <td>HOSPITAL DE CLINICAS</td>\n",
       "      <td>HOSPITAL DE CLINICAS</td>\n",
       "      <td>0.0</td>\n",
       "      <td>NaN</td>\n",
       "      <td>C91</td>\n",
       "      <td>31/01/2013</td>\n",
       "      <td>31/01/2013</td>\n",
       "      <td>05/07/1995</td>\n",
       "    </tr>\n",
       "    <tr>\n",
       "      <th>3</th>\n",
       "      <td>1139</td>\n",
       "      <td>2013</td>\n",
       "      <td>201310</td>\n",
       "      <td>2013.0</td>\n",
       "      <td>201310.0</td>\n",
       "      <td>43</td>\n",
       "      <td>430510</td>\n",
       "      <td>43.0</td>\n",
       "      <td>430510.0</td>\n",
       "      <td>43</td>\n",
       "      <td>...</td>\n",
       "      <td>M</td>\n",
       "      <td>NaN</td>\n",
       "      <td>HOSPITAL GERAL</td>\n",
       "      <td>HOSPITAL GERAL</td>\n",
       "      <td>13.0</td>\n",
       "      <td>NaN</td>\n",
       "      <td>D46</td>\n",
       "      <td>10/10/2013</td>\n",
       "      <td>23/10/2013</td>\n",
       "      <td>14/05/2001</td>\n",
       "    </tr>\n",
       "    <tr>\n",
       "      <th>4</th>\n",
       "      <td>2122</td>\n",
       "      <td>2013</td>\n",
       "      <td>201306</td>\n",
       "      <td>2013.0</td>\n",
       "      <td>201306.0</td>\n",
       "      <td>43</td>\n",
       "      <td>430790</td>\n",
       "      <td>43.0</td>\n",
       "      <td>430510.0</td>\n",
       "      <td>43</td>\n",
       "      <td>...</td>\n",
       "      <td>F</td>\n",
       "      <td>5.0</td>\n",
       "      <td>HOSPITAL TACCHINI</td>\n",
       "      <td>HOSPITAL POMPEIA</td>\n",
       "      <td>2.0</td>\n",
       "      <td>NaN</td>\n",
       "      <td>C71</td>\n",
       "      <td>05/06/2013</td>\n",
       "      <td>07/06/2013</td>\n",
       "      <td>10/10/2001</td>\n",
       "    </tr>\n",
       "    <tr>\n",
       "      <th>...</th>\n",
       "      <td>...</td>\n",
       "      <td>...</td>\n",
       "      <td>...</td>\n",
       "      <td>...</td>\n",
       "      <td>...</td>\n",
       "      <td>...</td>\n",
       "      <td>...</td>\n",
       "      <td>...</td>\n",
       "      <td>...</td>\n",
       "      <td>...</td>\n",
       "      <td>...</td>\n",
       "      <td>...</td>\n",
       "      <td>...</td>\n",
       "      <td>...</td>\n",
       "      <td>...</td>\n",
       "      <td>...</td>\n",
       "      <td>...</td>\n",
       "      <td>...</td>\n",
       "      <td>...</td>\n",
       "      <td>...</td>\n",
       "      <td>...</td>\n",
       "    </tr>\n",
       "    <tr>\n",
       "      <th>9531</th>\n",
       "      <td>3717186</td>\n",
       "      <td>2023</td>\n",
       "      <td>202304</td>\n",
       "      <td>2023.0</td>\n",
       "      <td>202304.0</td>\n",
       "      <td>43</td>\n",
       "      <td>431490</td>\n",
       "      <td>43.0</td>\n",
       "      <td>431490.0</td>\n",
       "      <td>43</td>\n",
       "      <td>...</td>\n",
       "      <td>M</td>\n",
       "      <td>5.0</td>\n",
       "      <td>HOSPITAL NOSSA SENHORA DA CONCEICAO SA</td>\n",
       "      <td>HOSPITAL NOSSA SENHORA DA CONCEICAO SA</td>\n",
       "      <td>0.0</td>\n",
       "      <td>NaN</td>\n",
       "      <td>C73</td>\n",
       "      <td>18/04/2023</td>\n",
       "      <td>18/04/2023</td>\n",
       "      <td>15/10/2012</td>\n",
       "    </tr>\n",
       "    <tr>\n",
       "      <th>9535</th>\n",
       "      <td>3717751</td>\n",
       "      <td>2023</td>\n",
       "      <td>202304</td>\n",
       "      <td>2023.0</td>\n",
       "      <td>202304.0</td>\n",
       "      <td>43</td>\n",
       "      <td>430460</td>\n",
       "      <td>43.0</td>\n",
       "      <td>430460.0</td>\n",
       "      <td>43</td>\n",
       "      <td>...</td>\n",
       "      <td>F</td>\n",
       "      <td>5.0</td>\n",
       "      <td>HOSPITAL NOSSA SENHORA DAS GRACAS</td>\n",
       "      <td>HOSPITAL NOSSA SENHORA DAS GRACAS</td>\n",
       "      <td>0.0</td>\n",
       "      <td>NaN</td>\n",
       "      <td>C56</td>\n",
       "      <td>28/04/2023</td>\n",
       "      <td>28/04/2023</td>\n",
       "      <td>09/02/2006</td>\n",
       "    </tr>\n",
       "    <tr>\n",
       "      <th>9537</th>\n",
       "      <td>3717973</td>\n",
       "      <td>2023</td>\n",
       "      <td>202301</td>\n",
       "      <td>2023.0</td>\n",
       "      <td>202301.0</td>\n",
       "      <td>43</td>\n",
       "      <td>431490</td>\n",
       "      <td>43.0</td>\n",
       "      <td>431490.0</td>\n",
       "      <td>43</td>\n",
       "      <td>...</td>\n",
       "      <td>F</td>\n",
       "      <td>NaN</td>\n",
       "      <td>HOSPITAL DE CLINICAS</td>\n",
       "      <td>HOSPITAL DE CLINICAS</td>\n",
       "      <td>0.0</td>\n",
       "      <td>NaN</td>\n",
       "      <td>C92</td>\n",
       "      <td>23/01/2023</td>\n",
       "      <td>23/01/2023</td>\n",
       "      <td>06/07/2011</td>\n",
       "    </tr>\n",
       "    <tr>\n",
       "      <th>9538</th>\n",
       "      <td>3718606</td>\n",
       "      <td>2023</td>\n",
       "      <td>202303</td>\n",
       "      <td>2023.0</td>\n",
       "      <td>202303.0</td>\n",
       "      <td>43</td>\n",
       "      <td>432270</td>\n",
       "      <td>43.0</td>\n",
       "      <td>431140.0</td>\n",
       "      <td>43</td>\n",
       "      <td>...</td>\n",
       "      <td>M</td>\n",
       "      <td>5.0</td>\n",
       "      <td>HOSPITAL BRUNO BORN</td>\n",
       "      <td>HOSPITAL BRUNO BORN</td>\n",
       "      <td>0.0</td>\n",
       "      <td>NaN</td>\n",
       "      <td>C18</td>\n",
       "      <td>24/03/2023</td>\n",
       "      <td>24/03/2023</td>\n",
       "      <td>24/11/2020</td>\n",
       "    </tr>\n",
       "    <tr>\n",
       "      <th>9546</th>\n",
       "      <td>3720587</td>\n",
       "      <td>2023</td>\n",
       "      <td>202301</td>\n",
       "      <td>2023.0</td>\n",
       "      <td>202301.0</td>\n",
       "      <td>43</td>\n",
       "      <td>431620</td>\n",
       "      <td>43.0</td>\n",
       "      <td>431620.0</td>\n",
       "      <td>43</td>\n",
       "      <td>...</td>\n",
       "      <td>F</td>\n",
       "      <td>5.0</td>\n",
       "      <td>HOSPITAL PADRE EUGENIO</td>\n",
       "      <td>HOSPITAL PADRE EUGENIO</td>\n",
       "      <td>0.0</td>\n",
       "      <td>NaN</td>\n",
       "      <td>D48</td>\n",
       "      <td>26/01/2023</td>\n",
       "      <td>26/01/2023</td>\n",
       "      <td>03/11/2003</td>\n",
       "    </tr>\n",
       "  </tbody>\n",
       "</table>\n",
       "<p>4500 rows × 24 columns</p>\n",
       "</div>"
      ],
      "text/plain": [
       "      Unnamed: 0  ANO_DIAGN  ANOMES_DIA  ANO_TRATAM  ANOMES_TRA  UF_RESID  \\\n",
       "0            666       2013      201305      2013.0    201305.0        43   \n",
       "1            756       2013      201301      2013.0    201303.0        43   \n",
       "2            950       2013      201301      2013.0    201301.0        43   \n",
       "3           1139       2013      201310      2013.0    201310.0        43   \n",
       "4           2122       2013      201306      2013.0    201306.0        43   \n",
       "...          ...        ...         ...         ...         ...       ...   \n",
       "9531     3717186       2023      202304      2023.0    202304.0        43   \n",
       "9535     3717751       2023      202304      2023.0    202304.0        43   \n",
       "9537     3717973       2023      202301      2023.0    202301.0        43   \n",
       "9538     3718606       2023      202303      2023.0    202303.0        43   \n",
       "9546     3720587       2023      202301      2023.0    202301.0        43   \n",
       "\n",
       "      MUN_RESID  UF_TRATAM  MUN_TRATAM  UF_DIAGN  ...  SEXO  ESTADIAM  \\\n",
       "0        431580       43.0    431490.0        43  ...     M       NaN   \n",
       "1        430210       43.0    430210.0        43  ...     M       4.0   \n",
       "2        431265       43.0    431410.0        43  ...     M       NaN   \n",
       "3        430510       43.0    430510.0        43  ...     M       NaN   \n",
       "4        430790       43.0    430510.0        43  ...     F       5.0   \n",
       "...         ...        ...         ...       ...  ...   ...       ...   \n",
       "9531     431490       43.0    431490.0        43  ...     M       5.0   \n",
       "9535     430460       43.0    430460.0        43  ...     F       5.0   \n",
       "9537     431490       43.0    431490.0        43  ...     F       NaN   \n",
       "9538     432270       43.0    431140.0        43  ...     M       5.0   \n",
       "9546     431620       43.0    431620.0        43  ...     F       5.0   \n",
       "\n",
       "                                   CNES_DIAG  \\\n",
       "0     HOSPITAL NOSSA SENHORA DA CONCEICAO SA   \n",
       "1                          HOSPITAL TACCHINI   \n",
       "2                       HOSPITAL DE CLINICAS   \n",
       "3                             HOSPITAL GERAL   \n",
       "4                          HOSPITAL TACCHINI   \n",
       "...                                      ...   \n",
       "9531  HOSPITAL NOSSA SENHORA DA CONCEICAO SA   \n",
       "9535       HOSPITAL NOSSA SENHORA DAS GRACAS   \n",
       "9537                    HOSPITAL DE CLINICAS   \n",
       "9538                     HOSPITAL BRUNO BORN   \n",
       "9546                  HOSPITAL PADRE EUGENIO   \n",
       "\n",
       "                                   CNES_TRAT TEMPO_TRAT  CNS_PAC DIAG_DETH  \\\n",
       "0     HOSPITAL NOSSA SENHORA DA CONCEICAO SA        0.0      NaN       C91   \n",
       "1                          HOSPITAL TACCHINI       67.0      NaN       C81   \n",
       "2                       HOSPITAL DE CLINICAS        0.0      NaN       C91   \n",
       "3                             HOSPITAL GERAL       13.0      NaN       D46   \n",
       "4                           HOSPITAL POMPEIA        2.0      NaN       C71   \n",
       "...                                      ...        ...      ...       ...   \n",
       "9531  HOSPITAL NOSSA SENHORA DA CONCEICAO SA        0.0      NaN       C73   \n",
       "9535       HOSPITAL NOSSA SENHORA DAS GRACAS        0.0      NaN       C56   \n",
       "9537                    HOSPITAL DE CLINICAS        0.0      NaN       C92   \n",
       "9538                     HOSPITAL BRUNO BORN        0.0      NaN       C18   \n",
       "9546                  HOSPITAL PADRE EUGENIO        0.0      NaN       D48   \n",
       "\n",
       "         DT_DIAG     DT_TRAT     DT_NASC  \n",
       "0     01/05/2013  01/05/2013  09/12/1999  \n",
       "1     04/01/2013  12/03/2013  22/02/1993  \n",
       "2     31/01/2013  31/01/2013  05/07/1995  \n",
       "3     10/10/2013  23/10/2013  14/05/2001  \n",
       "4     05/06/2013  07/06/2013  10/10/2001  \n",
       "...          ...         ...         ...  \n",
       "9531  18/04/2023  18/04/2023  15/10/2012  \n",
       "9535  28/04/2023  28/04/2023  09/02/2006  \n",
       "9537  23/01/2023  23/01/2023  06/07/2011  \n",
       "9538  24/03/2023  24/03/2023  24/11/2020  \n",
       "9546  26/01/2023  26/01/2023  03/11/2003  \n",
       "\n",
       "[4500 rows x 24 columns]"
      ]
     },
     "execution_count": 15,
     "metadata": {},
     "output_type": "execute_result"
    }
   ],
   "source": [
    "import pandas as pd\n",
    "df['IDADE'] = pd.to_numeric(df['IDADE'])\n",
    "filtro = df[(df['UF_TRATAM'] == 43) ]\n",
    "filtro\n"
   ]
  },
  {
   "cell_type": "code",
   "execution_count": 17,
   "metadata": {},
   "outputs": [
    {
     "name": "stdout",
     "output_type": "stream",
     "text": [
      "Quantidade total de casos:  2719\n"
     ]
    },
    {
     "data": {
      "text/html": [
       "<div>\n",
       "<style scoped>\n",
       "    .dataframe tbody tr th:only-of-type {\n",
       "        vertical-align: middle;\n",
       "    }\n",
       "\n",
       "    .dataframe tbody tr th {\n",
       "        vertical-align: top;\n",
       "    }\n",
       "\n",
       "    .dataframe thead th {\n",
       "        text-align: right;\n",
       "    }\n",
       "</style>\n",
       "<table border=\"1\" class=\"dataframe\">\n",
       "  <thead>\n",
       "    <tr style=\"text-align: right;\">\n",
       "      <th></th>\n",
       "      <th>DIAG_DETH</th>\n",
       "      <th>QUANT</th>\n",
       "    </tr>\n",
       "  </thead>\n",
       "  <tbody>\n",
       "    <tr>\n",
       "      <th>0</th>\n",
       "      <td>C07</td>\n",
       "      <td>2</td>\n",
       "    </tr>\n",
       "    <tr>\n",
       "      <th>1</th>\n",
       "      <td>C11</td>\n",
       "      <td>2</td>\n",
       "    </tr>\n",
       "    <tr>\n",
       "      <th>2</th>\n",
       "      <td>C14</td>\n",
       "      <td>1</td>\n",
       "    </tr>\n",
       "    <tr>\n",
       "      <th>3</th>\n",
       "      <td>C15</td>\n",
       "      <td>2</td>\n",
       "    </tr>\n",
       "    <tr>\n",
       "      <th>4</th>\n",
       "      <td>C17</td>\n",
       "      <td>2</td>\n",
       "    </tr>\n",
       "    <tr>\n",
       "      <th>5</th>\n",
       "      <td>C18</td>\n",
       "      <td>3</td>\n",
       "    </tr>\n",
       "    <tr>\n",
       "      <th>6</th>\n",
       "      <td>C20</td>\n",
       "      <td>1</td>\n",
       "    </tr>\n",
       "    <tr>\n",
       "      <th>7</th>\n",
       "      <td>C22</td>\n",
       "      <td>7</td>\n",
       "    </tr>\n",
       "    <tr>\n",
       "      <th>8</th>\n",
       "      <td>C25</td>\n",
       "      <td>3</td>\n",
       "    </tr>\n",
       "    <tr>\n",
       "      <th>9</th>\n",
       "      <td>C30</td>\n",
       "      <td>3</td>\n",
       "    </tr>\n",
       "    <tr>\n",
       "      <th>10</th>\n",
       "      <td>C31</td>\n",
       "      <td>2</td>\n",
       "    </tr>\n",
       "    <tr>\n",
       "      <th>11</th>\n",
       "      <td>C32</td>\n",
       "      <td>2</td>\n",
       "    </tr>\n",
       "    <tr>\n",
       "      <th>12</th>\n",
       "      <td>C34</td>\n",
       "      <td>5</td>\n",
       "    </tr>\n",
       "    <tr>\n",
       "      <th>13</th>\n",
       "      <td>C38</td>\n",
       "      <td>2</td>\n",
       "    </tr>\n",
       "    <tr>\n",
       "      <th>14</th>\n",
       "      <td>C41</td>\n",
       "      <td>2</td>\n",
       "    </tr>\n",
       "    <tr>\n",
       "      <th>15</th>\n",
       "      <td>C43</td>\n",
       "      <td>2</td>\n",
       "    </tr>\n",
       "    <tr>\n",
       "      <th>16</th>\n",
       "      <td>C48</td>\n",
       "      <td>8</td>\n",
       "    </tr>\n",
       "    <tr>\n",
       "      <th>17</th>\n",
       "      <td>C49</td>\n",
       "      <td>34</td>\n",
       "    </tr>\n",
       "    <tr>\n",
       "      <th>18</th>\n",
       "      <td>C50</td>\n",
       "      <td>1</td>\n",
       "    </tr>\n",
       "    <tr>\n",
       "      <th>19</th>\n",
       "      <td>C56</td>\n",
       "      <td>6</td>\n",
       "    </tr>\n",
       "    <tr>\n",
       "      <th>20</th>\n",
       "      <td>C57</td>\n",
       "      <td>1</td>\n",
       "    </tr>\n",
       "    <tr>\n",
       "      <th>21</th>\n",
       "      <td>C62</td>\n",
       "      <td>18</td>\n",
       "    </tr>\n",
       "    <tr>\n",
       "      <th>22</th>\n",
       "      <td>C64</td>\n",
       "      <td>17</td>\n",
       "    </tr>\n",
       "    <tr>\n",
       "      <th>23</th>\n",
       "      <td>C65</td>\n",
       "      <td>2</td>\n",
       "    </tr>\n",
       "    <tr>\n",
       "      <th>24</th>\n",
       "      <td>C67</td>\n",
       "      <td>2</td>\n",
       "    </tr>\n",
       "    <tr>\n",
       "      <th>25</th>\n",
       "      <td>C69</td>\n",
       "      <td>2</td>\n",
       "    </tr>\n",
       "    <tr>\n",
       "      <th>26</th>\n",
       "      <td>C71</td>\n",
       "      <td>44</td>\n",
       "    </tr>\n",
       "    <tr>\n",
       "      <th>27</th>\n",
       "      <td>C72</td>\n",
       "      <td>10</td>\n",
       "    </tr>\n",
       "    <tr>\n",
       "      <th>28</th>\n",
       "      <td>C73</td>\n",
       "      <td>7</td>\n",
       "    </tr>\n",
       "    <tr>\n",
       "      <th>29</th>\n",
       "      <td>C74</td>\n",
       "      <td>28</td>\n",
       "    </tr>\n",
       "    <tr>\n",
       "      <th>30</th>\n",
       "      <td>C76</td>\n",
       "      <td>5</td>\n",
       "    </tr>\n",
       "    <tr>\n",
       "      <th>31</th>\n",
       "      <td>C77</td>\n",
       "      <td>3</td>\n",
       "    </tr>\n",
       "    <tr>\n",
       "      <th>32</th>\n",
       "      <td>C78</td>\n",
       "      <td>7</td>\n",
       "    </tr>\n",
       "    <tr>\n",
       "      <th>33</th>\n",
       "      <td>C79</td>\n",
       "      <td>2</td>\n",
       "    </tr>\n",
       "    <tr>\n",
       "      <th>34</th>\n",
       "      <td>C81</td>\n",
       "      <td>23</td>\n",
       "    </tr>\n",
       "    <tr>\n",
       "      <th>35</th>\n",
       "      <td>C83</td>\n",
       "      <td>24</td>\n",
       "    </tr>\n",
       "    <tr>\n",
       "      <th>36</th>\n",
       "      <td>C85</td>\n",
       "      <td>2</td>\n",
       "    </tr>\n",
       "    <tr>\n",
       "      <th>37</th>\n",
       "      <td>C91</td>\n",
       "      <td>95</td>\n",
       "    </tr>\n",
       "    <tr>\n",
       "      <th>38</th>\n",
       "      <td>C92</td>\n",
       "      <td>73</td>\n",
       "    </tr>\n",
       "    <tr>\n",
       "      <th>39</th>\n",
       "      <td>C93</td>\n",
       "      <td>2</td>\n",
       "    </tr>\n",
       "    <tr>\n",
       "      <th>40</th>\n",
       "      <td>C95</td>\n",
       "      <td>6</td>\n",
       "    </tr>\n",
       "    <tr>\n",
       "      <th>41</th>\n",
       "      <td>C96</td>\n",
       "      <td>11</td>\n",
       "    </tr>\n",
       "    <tr>\n",
       "      <th>42</th>\n",
       "      <td>D01</td>\n",
       "      <td>2</td>\n",
       "    </tr>\n",
       "    <tr>\n",
       "      <th>43</th>\n",
       "      <td>D09</td>\n",
       "      <td>1</td>\n",
       "    </tr>\n",
       "    <tr>\n",
       "      <th>44</th>\n",
       "      <td>D39</td>\n",
       "      <td>5</td>\n",
       "    </tr>\n",
       "    <tr>\n",
       "      <th>45</th>\n",
       "      <td>D40</td>\n",
       "      <td>7</td>\n",
       "    </tr>\n",
       "    <tr>\n",
       "      <th>46</th>\n",
       "      <td>D41</td>\n",
       "      <td>1</td>\n",
       "    </tr>\n",
       "    <tr>\n",
       "      <th>47</th>\n",
       "      <td>D43</td>\n",
       "      <td>34</td>\n",
       "    </tr>\n",
       "    <tr>\n",
       "      <th>48</th>\n",
       "      <td>D44</td>\n",
       "      <td>8</td>\n",
       "    </tr>\n",
       "    <tr>\n",
       "      <th>49</th>\n",
       "      <td>D46</td>\n",
       "      <td>1</td>\n",
       "    </tr>\n",
       "    <tr>\n",
       "      <th>50</th>\n",
       "      <td>D47</td>\n",
       "      <td>1</td>\n",
       "    </tr>\n",
       "    <tr>\n",
       "      <th>51</th>\n",
       "      <td>D48</td>\n",
       "      <td>12</td>\n",
       "    </tr>\n",
       "  </tbody>\n",
       "</table>\n",
       "</div>"
      ],
      "text/plain": [
       "   DIAG_DETH  QUANT\n",
       "0        C07      2\n",
       "1        C11      2\n",
       "2        C14      1\n",
       "3        C15      2\n",
       "4        C17      2\n",
       "5        C18      3\n",
       "6        C20      1\n",
       "7        C22      7\n",
       "8        C25      3\n",
       "9        C30      3\n",
       "10       C31      2\n",
       "11       C32      2\n",
       "12       C34      5\n",
       "13       C38      2\n",
       "14       C41      2\n",
       "15       C43      2\n",
       "16       C48      8\n",
       "17       C49     34\n",
       "18       C50      1\n",
       "19       C56      6\n",
       "20       C57      1\n",
       "21       C62     18\n",
       "22       C64     17\n",
       "23       C65      2\n",
       "24       C67      2\n",
       "25       C69      2\n",
       "26       C71     44\n",
       "27       C72     10\n",
       "28       C73      7\n",
       "29       C74     28\n",
       "30       C76      5\n",
       "31       C77      3\n",
       "32       C78      7\n",
       "33       C79      2\n",
       "34       C81     23\n",
       "35       C83     24\n",
       "36       C85      2\n",
       "37       C91     95\n",
       "38       C92     73\n",
       "39       C93      2\n",
       "40       C95      6\n",
       "41       C96     11\n",
       "42       D01      2\n",
       "43       D09      1\n",
       "44       D39      5\n",
       "45       D40      7\n",
       "46       D41      1\n",
       "47       D43     34\n",
       "48       D44      8\n",
       "49       D46      1\n",
       "50       D47      1\n",
       "51       D48     12"
      ]
     },
     "metadata": {},
     "output_type": "display_data"
    }
   ],
   "source": [
    "#Hospital de Clínicas de Porto Alegre 2237601\n",
    "\n",
    "#Hospital da criança Conceição 2237571\n",
    "\n",
    "#Hospital da criança Santo Antônio 2237253\n",
    "\n",
    "#Hospital Geral de Caxias do Sul 2223538\n",
    "\n",
    "#Hospital São Vicente de Paulo 2246988\n",
    "\n",
    "#Hospital Universitário de Santa Maria 2244306\n",
    "\n",
    "\n",
    "# Aplicando o filtro para selecionar pacientes com idade entre 0 e 19 anos\n",
    "import pandas as pd\n",
    "from IPython.display import display\n",
    "filtro = df[(df['CNES_DIAG'] == 2237571) & ((df['IDADE'] >= 0) & (df['IDADE'] <= 19))]\n",
    "\n",
    "conta = filtro.groupby('DIAG_DETH').size().reset_index(name='QUANT')\n",
    "\n",
    "#quantidade_total = filtro['DIAG_DETH'].count()\n",
    "print(\"Quantidade total de casos: \", quantidade_total)\n",
    "# Exibindo o resultado\n",
    "display(conta)\n",
    "\n",
    "\n",
    "conta.to_csv('diagnostico2.csv')"
   ]
  },
  {
   "cell_type": "code",
   "execution_count": 5,
   "metadata": {},
   "outputs": [
    {
     "name": "stdout",
     "output_type": "stream",
     "text": [
      "Opções de Estado disponíveis:\n",
      "1. RS\n",
      "2. AM\n",
      "Arquivo HTML gerado: graficos_RS.html\n"
     ]
    }
   ],
   "source": [
    "import pandas as pd\n",
    "import plotly.graph_objects as go\n",
    "from plotly.subplots import make_subplots\n",
    "\n",
    "# Supondo que você já tenha o DataFrame df com os dados\n",
    "\n",
    "# Criando um dicionário com os CNES_TRAT dos hospitais\n",
    "hospitais = {\n",
    "    'RS': 43,\n",
    "    'AM': 13,\n",
    "}\n",
    "\n",
    "# Exibindo as opções de hospitais disponíveis para o usuário\n",
    "print(\"Opções de Estado disponíveis:\")\n",
    "for idx, hospital in enumerate(hospitais.keys(), start=1):\n",
    "    print(f\"{idx}. {hospital}\")\n",
    "\n",
    "# Solicitando ao usuário que selecione o hospital\n",
    "opcao_input = input(\"Digite o número correspondente ao hospital desejado: \")\n",
    "\n",
    "# Verificando se a opção selecionada é válida\n",
    "if opcao_input.isdigit():\n",
    "    opcao = int(opcao_input)\n",
    "    if opcao >= 1 and opcao <= len(hospitais):\n",
    "        hospital_input = list(hospitais.keys())[opcao - 1]\n",
    "        cnes_trat = hospitais[hospital_input]\n",
    "\n",
    "        # Aplicando o filtro para selecionar pacientes com idade entre 0 e 19 e o CNES_DIAG especificado\n",
    "        filtro_diag = df[(df['UF_TRATAM'] == cnes_trat) & ((df['IDADE'] >= 0) & (df['IDADE'] <= 19))]\n",
    "\n",
    "        # Contando as ocorrências de diagnósticos para CNES_DIAG\n",
    "        contagem_diag = filtro_diag['ANO_TRATAM'].value_counts().nlargest(15)\n",
    "\n",
    "        # Aplicando o filtro para selecionar pacientes com idade entre 0 e 19 e o CNES_TRAT especificado\n",
    "        filtro_trat = df[(df['UF_DIAGN'] == cnes_trat) & ((df['IDADE'] >= 0) & (df['IDADE'] <= 19))]\n",
    "\n",
    "        # Contando as ocorrências de diagnósticos para CNES_TRAT\n",
    "        contagem_trat = filtro_trat['ANO_DIAGN'].value_counts().nlargest(15)\n",
    "\n",
    "        # Criando subplots\n",
    "        fig = make_subplots(rows=2, cols=1, subplot_titles=[\n",
    "            f'Contagem de Diagnósticos por Ano ({hospital_input} - UF_TRATAM = {cnes_trat})',\n",
    "            f'Contagem de Tratamentos por Ano ({hospital_input} - UF_DIAGN = {cnes_trat})'\n",
    "        ])\n",
    "\n",
    "        # Adicionando gráfico de barras para contagem de diagnósticos\n",
    "        fig.add_trace(go.Bar(x=contagem_diag.index, y=contagem_diag.values), row=1, col=1)\n",
    "        fig.add_annotation(text=f'Total: {contagem_diag.sum()}', x=contagem_diag.index[0], y=contagem_diag.values[0] + 10)\n",
    "\n",
    "        # Adicionando gráfico de barras para contagem de tratamentos\n",
    "        fig.add_trace(go.Bar(x=contagem_trat.index, y=contagem_trat.values), row=2, col=1)\n",
    "        fig.add_annotation(text=f'Total: {contagem_trat.sum()}', x=contagem_trat.index[0], y=contagem_trat.values[0] + 10)\n",
    "\n",
    "        fig.update_layout(title_text=f'Gráficos para {hospital_input}', showlegend=False)\n",
    "        \n",
    "        # Salvar o gráfico em um arquivo HTML\n",
    "        html_filename = f'graficos_{hospital_input}.html'\n",
    "        fig.write_html(html_filename)\n",
    "        print(f'Arquivo HTML gerado: {html_filename}')\n",
    "    \n",
    "    else:\n",
    "        print(\"Opção inválida. Selecione um número correspondente a um hospital válido.\")\n",
    "else:\n",
    "    print(\"Opção inválida. Selecione um número correspondente a um hospital válido.\")\n"
   ]
  },
  {
   "cell_type": "code",
   "execution_count": 3,
   "metadata": {},
   "outputs": [
    {
     "name": "stdout",
     "output_type": "stream",
     "text": [
      "Opções de hospitais disponíveis:\n",
      "1. Hospital de Clínicas de Porto Alegre\n",
      "2. Hospital da criança Conceição\n",
      "3. Hospital da criança Santo Antônio\n",
      "4. Hospital Geral de Caxias do Sul\n",
      "5. Hospital São Vicente de Paulo\n",
      "6. Hospital Universitário de Santa Maria\n"
     ]
    },
    {
     "data": {
      "application/vnd.plotly.v1+json": {
       "config": {
        "plotlyServerURL": "https://plot.ly"
       },
       "data": [
        {
         "hole": 0.4,
         "hoverinfo": "label+value+percent",
         "labels": [
          "C71",
          "C91",
          "C49",
          "D48",
          "C81",
          "C79",
          "C83",
          "C72",
          "C92",
          "D43",
          "C64",
          "C40",
          "C74",
          "C96",
          "C58"
         ],
         "marker": {
          "colors": [
           "lightblue",
           "lightgreen",
           "lightpink",
           "lightyellow",
           "lightcoral",
           "lightsalmon",
           "lightseagreen",
           "lightskyblue",
           "lightcyan",
           "lightsteelblue",
           "lightgoldenrodyellow",
           "lightgreen",
           "lightcoral",
           "lightblue",
           "lightpink"
          ]
         },
         "type": "pie",
         "values": [
          150,
          137,
          79,
          68,
          63,
          62,
          61,
          58,
          51,
          47,
          41,
          33,
          27,
          26,
          25
         ]
        }
       ],
       "layout": {
        "annotations": [
         {
          "font": {
           "size": 16
          },
          "showarrow": false,
          "text": "Total: 1288",
          "x": 0.5,
          "y": 0.5
         }
        ],
        "template": {
         "data": {
          "bar": [
           {
            "error_x": {
             "color": "#2a3f5f"
            },
            "error_y": {
             "color": "#2a3f5f"
            },
            "marker": {
             "line": {
              "color": "white",
              "width": 0.5
             },
             "pattern": {
              "fillmode": "overlay",
              "size": 10,
              "solidity": 0.2
             }
            },
            "type": "bar"
           }
          ],
          "barpolar": [
           {
            "marker": {
             "line": {
              "color": "white",
              "width": 0.5
             },
             "pattern": {
              "fillmode": "overlay",
              "size": 10,
              "solidity": 0.2
             }
            },
            "type": "barpolar"
           }
          ],
          "carpet": [
           {
            "aaxis": {
             "endlinecolor": "#2a3f5f",
             "gridcolor": "#C8D4E3",
             "linecolor": "#C8D4E3",
             "minorgridcolor": "#C8D4E3",
             "startlinecolor": "#2a3f5f"
            },
            "baxis": {
             "endlinecolor": "#2a3f5f",
             "gridcolor": "#C8D4E3",
             "linecolor": "#C8D4E3",
             "minorgridcolor": "#C8D4E3",
             "startlinecolor": "#2a3f5f"
            },
            "type": "carpet"
           }
          ],
          "choropleth": [
           {
            "colorbar": {
             "outlinewidth": 0,
             "ticks": ""
            },
            "type": "choropleth"
           }
          ],
          "contour": [
           {
            "colorbar": {
             "outlinewidth": 0,
             "ticks": ""
            },
            "colorscale": [
             [
              0,
              "#0d0887"
             ],
             [
              0.1111111111111111,
              "#46039f"
             ],
             [
              0.2222222222222222,
              "#7201a8"
             ],
             [
              0.3333333333333333,
              "#9c179e"
             ],
             [
              0.4444444444444444,
              "#bd3786"
             ],
             [
              0.5555555555555556,
              "#d8576b"
             ],
             [
              0.6666666666666666,
              "#ed7953"
             ],
             [
              0.7777777777777778,
              "#fb9f3a"
             ],
             [
              0.8888888888888888,
              "#fdca26"
             ],
             [
              1,
              "#f0f921"
             ]
            ],
            "type": "contour"
           }
          ],
          "contourcarpet": [
           {
            "colorbar": {
             "outlinewidth": 0,
             "ticks": ""
            },
            "type": "contourcarpet"
           }
          ],
          "heatmap": [
           {
            "colorbar": {
             "outlinewidth": 0,
             "ticks": ""
            },
            "colorscale": [
             [
              0,
              "#0d0887"
             ],
             [
              0.1111111111111111,
              "#46039f"
             ],
             [
              0.2222222222222222,
              "#7201a8"
             ],
             [
              0.3333333333333333,
              "#9c179e"
             ],
             [
              0.4444444444444444,
              "#bd3786"
             ],
             [
              0.5555555555555556,
              "#d8576b"
             ],
             [
              0.6666666666666666,
              "#ed7953"
             ],
             [
              0.7777777777777778,
              "#fb9f3a"
             ],
             [
              0.8888888888888888,
              "#fdca26"
             ],
             [
              1,
              "#f0f921"
             ]
            ],
            "type": "heatmap"
           }
          ],
          "heatmapgl": [
           {
            "colorbar": {
             "outlinewidth": 0,
             "ticks": ""
            },
            "colorscale": [
             [
              0,
              "#0d0887"
             ],
             [
              0.1111111111111111,
              "#46039f"
             ],
             [
              0.2222222222222222,
              "#7201a8"
             ],
             [
              0.3333333333333333,
              "#9c179e"
             ],
             [
              0.4444444444444444,
              "#bd3786"
             ],
             [
              0.5555555555555556,
              "#d8576b"
             ],
             [
              0.6666666666666666,
              "#ed7953"
             ],
             [
              0.7777777777777778,
              "#fb9f3a"
             ],
             [
              0.8888888888888888,
              "#fdca26"
             ],
             [
              1,
              "#f0f921"
             ]
            ],
            "type": "heatmapgl"
           }
          ],
          "histogram": [
           {
            "marker": {
             "pattern": {
              "fillmode": "overlay",
              "size": 10,
              "solidity": 0.2
             }
            },
            "type": "histogram"
           }
          ],
          "histogram2d": [
           {
            "colorbar": {
             "outlinewidth": 0,
             "ticks": ""
            },
            "colorscale": [
             [
              0,
              "#0d0887"
             ],
             [
              0.1111111111111111,
              "#46039f"
             ],
             [
              0.2222222222222222,
              "#7201a8"
             ],
             [
              0.3333333333333333,
              "#9c179e"
             ],
             [
              0.4444444444444444,
              "#bd3786"
             ],
             [
              0.5555555555555556,
              "#d8576b"
             ],
             [
              0.6666666666666666,
              "#ed7953"
             ],
             [
              0.7777777777777778,
              "#fb9f3a"
             ],
             [
              0.8888888888888888,
              "#fdca26"
             ],
             [
              1,
              "#f0f921"
             ]
            ],
            "type": "histogram2d"
           }
          ],
          "histogram2dcontour": [
           {
            "colorbar": {
             "outlinewidth": 0,
             "ticks": ""
            },
            "colorscale": [
             [
              0,
              "#0d0887"
             ],
             [
              0.1111111111111111,
              "#46039f"
             ],
             [
              0.2222222222222222,
              "#7201a8"
             ],
             [
              0.3333333333333333,
              "#9c179e"
             ],
             [
              0.4444444444444444,
              "#bd3786"
             ],
             [
              0.5555555555555556,
              "#d8576b"
             ],
             [
              0.6666666666666666,
              "#ed7953"
             ],
             [
              0.7777777777777778,
              "#fb9f3a"
             ],
             [
              0.8888888888888888,
              "#fdca26"
             ],
             [
              1,
              "#f0f921"
             ]
            ],
            "type": "histogram2dcontour"
           }
          ],
          "mesh3d": [
           {
            "colorbar": {
             "outlinewidth": 0,
             "ticks": ""
            },
            "type": "mesh3d"
           }
          ],
          "parcoords": [
           {
            "line": {
             "colorbar": {
              "outlinewidth": 0,
              "ticks": ""
             }
            },
            "type": "parcoords"
           }
          ],
          "pie": [
           {
            "automargin": true,
            "type": "pie"
           }
          ],
          "scatter": [
           {
            "fillpattern": {
             "fillmode": "overlay",
             "size": 10,
             "solidity": 0.2
            },
            "type": "scatter"
           }
          ],
          "scatter3d": [
           {
            "line": {
             "colorbar": {
              "outlinewidth": 0,
              "ticks": ""
             }
            },
            "marker": {
             "colorbar": {
              "outlinewidth": 0,
              "ticks": ""
             }
            },
            "type": "scatter3d"
           }
          ],
          "scattercarpet": [
           {
            "marker": {
             "colorbar": {
              "outlinewidth": 0,
              "ticks": ""
             }
            },
            "type": "scattercarpet"
           }
          ],
          "scattergeo": [
           {
            "marker": {
             "colorbar": {
              "outlinewidth": 0,
              "ticks": ""
             }
            },
            "type": "scattergeo"
           }
          ],
          "scattergl": [
           {
            "marker": {
             "colorbar": {
              "outlinewidth": 0,
              "ticks": ""
             }
            },
            "type": "scattergl"
           }
          ],
          "scattermapbox": [
           {
            "marker": {
             "colorbar": {
              "outlinewidth": 0,
              "ticks": ""
             }
            },
            "type": "scattermapbox"
           }
          ],
          "scatterpolar": [
           {
            "marker": {
             "colorbar": {
              "outlinewidth": 0,
              "ticks": ""
             }
            },
            "type": "scatterpolar"
           }
          ],
          "scatterpolargl": [
           {
            "marker": {
             "colorbar": {
              "outlinewidth": 0,
              "ticks": ""
             }
            },
            "type": "scatterpolargl"
           }
          ],
          "scatterternary": [
           {
            "marker": {
             "colorbar": {
              "outlinewidth": 0,
              "ticks": ""
             }
            },
            "type": "scatterternary"
           }
          ],
          "surface": [
           {
            "colorbar": {
             "outlinewidth": 0,
             "ticks": ""
            },
            "colorscale": [
             [
              0,
              "#0d0887"
             ],
             [
              0.1111111111111111,
              "#46039f"
             ],
             [
              0.2222222222222222,
              "#7201a8"
             ],
             [
              0.3333333333333333,
              "#9c179e"
             ],
             [
              0.4444444444444444,
              "#bd3786"
             ],
             [
              0.5555555555555556,
              "#d8576b"
             ],
             [
              0.6666666666666666,
              "#ed7953"
             ],
             [
              0.7777777777777778,
              "#fb9f3a"
             ],
             [
              0.8888888888888888,
              "#fdca26"
             ],
             [
              1,
              "#f0f921"
             ]
            ],
            "type": "surface"
           }
          ],
          "table": [
           {
            "cells": {
             "fill": {
              "color": "#EBF0F8"
             },
             "line": {
              "color": "white"
             }
            },
            "header": {
             "fill": {
              "color": "#C8D4E3"
             },
             "line": {
              "color": "white"
             }
            },
            "type": "table"
           }
          ]
         },
         "layout": {
          "annotationdefaults": {
           "arrowcolor": "#2a3f5f",
           "arrowhead": 0,
           "arrowwidth": 1
          },
          "autotypenumbers": "strict",
          "coloraxis": {
           "colorbar": {
            "outlinewidth": 0,
            "ticks": ""
           }
          },
          "colorscale": {
           "diverging": [
            [
             0,
             "#8e0152"
            ],
            [
             0.1,
             "#c51b7d"
            ],
            [
             0.2,
             "#de77ae"
            ],
            [
             0.3,
             "#f1b6da"
            ],
            [
             0.4,
             "#fde0ef"
            ],
            [
             0.5,
             "#f7f7f7"
            ],
            [
             0.6,
             "#e6f5d0"
            ],
            [
             0.7,
             "#b8e186"
            ],
            [
             0.8,
             "#7fbc41"
            ],
            [
             0.9,
             "#4d9221"
            ],
            [
             1,
             "#276419"
            ]
           ],
           "sequential": [
            [
             0,
             "#0d0887"
            ],
            [
             0.1111111111111111,
             "#46039f"
            ],
            [
             0.2222222222222222,
             "#7201a8"
            ],
            [
             0.3333333333333333,
             "#9c179e"
            ],
            [
             0.4444444444444444,
             "#bd3786"
            ],
            [
             0.5555555555555556,
             "#d8576b"
            ],
            [
             0.6666666666666666,
             "#ed7953"
            ],
            [
             0.7777777777777778,
             "#fb9f3a"
            ],
            [
             0.8888888888888888,
             "#fdca26"
            ],
            [
             1,
             "#f0f921"
            ]
           ],
           "sequentialminus": [
            [
             0,
             "#0d0887"
            ],
            [
             0.1111111111111111,
             "#46039f"
            ],
            [
             0.2222222222222222,
             "#7201a8"
            ],
            [
             0.3333333333333333,
             "#9c179e"
            ],
            [
             0.4444444444444444,
             "#bd3786"
            ],
            [
             0.5555555555555556,
             "#d8576b"
            ],
            [
             0.6666666666666666,
             "#ed7953"
            ],
            [
             0.7777777777777778,
             "#fb9f3a"
            ],
            [
             0.8888888888888888,
             "#fdca26"
            ],
            [
             1,
             "#f0f921"
            ]
           ]
          },
          "colorway": [
           "#636efa",
           "#EF553B",
           "#00cc96",
           "#ab63fa",
           "#FFA15A",
           "#19d3f3",
           "#FF6692",
           "#B6E880",
           "#FF97FF",
           "#FECB52"
          ],
          "font": {
           "color": "#2a3f5f"
          },
          "geo": {
           "bgcolor": "white",
           "lakecolor": "white",
           "landcolor": "white",
           "showlakes": true,
           "showland": true,
           "subunitcolor": "#C8D4E3"
          },
          "hoverlabel": {
           "align": "left"
          },
          "hovermode": "closest",
          "mapbox": {
           "style": "light"
          },
          "paper_bgcolor": "white",
          "plot_bgcolor": "white",
          "polar": {
           "angularaxis": {
            "gridcolor": "#EBF0F8",
            "linecolor": "#EBF0F8",
            "ticks": ""
           },
           "bgcolor": "white",
           "radialaxis": {
            "gridcolor": "#EBF0F8",
            "linecolor": "#EBF0F8",
            "ticks": ""
           }
          },
          "scene": {
           "xaxis": {
            "backgroundcolor": "white",
            "gridcolor": "#DFE8F3",
            "gridwidth": 2,
            "linecolor": "#EBF0F8",
            "showbackground": true,
            "ticks": "",
            "zerolinecolor": "#EBF0F8"
           },
           "yaxis": {
            "backgroundcolor": "white",
            "gridcolor": "#DFE8F3",
            "gridwidth": 2,
            "linecolor": "#EBF0F8",
            "showbackground": true,
            "ticks": "",
            "zerolinecolor": "#EBF0F8"
           },
           "zaxis": {
            "backgroundcolor": "white",
            "gridcolor": "#DFE8F3",
            "gridwidth": 2,
            "linecolor": "#EBF0F8",
            "showbackground": true,
            "ticks": "",
            "zerolinecolor": "#EBF0F8"
           }
          },
          "shapedefaults": {
           "line": {
            "color": "#2a3f5f"
           }
          },
          "ternary": {
           "aaxis": {
            "gridcolor": "#DFE8F3",
            "linecolor": "#A2B1C6",
            "ticks": ""
           },
           "baxis": {
            "gridcolor": "#DFE8F3",
            "linecolor": "#A2B1C6",
            "ticks": ""
           },
           "bgcolor": "white",
           "caxis": {
            "gridcolor": "#DFE8F3",
            "linecolor": "#A2B1C6",
            "ticks": ""
           }
          },
          "title": {
           "x": 0.05
          },
          "xaxis": {
           "automargin": true,
           "gridcolor": "#EBF0F8",
           "linecolor": "#EBF0F8",
           "ticks": "",
           "title": {
            "standoff": 15
           },
           "zerolinecolor": "#EBF0F8",
           "zerolinewidth": 2
          },
          "yaxis": {
           "automargin": true,
           "gridcolor": "#EBF0F8",
           "linecolor": "#EBF0F8",
           "ticks": "",
           "title": {
            "standoff": 15
           },
           "zerolinecolor": "#EBF0F8",
           "zerolinewidth": 2
          }
         }
        },
        "title": {
         "text": "15 Principais Diagnósticos entre 0 e 19 anos (Hospital da criança Santo Antônio - CNES_DIAG = 2237253)"
        }
       }
      }
     },
     "metadata": {},
     "output_type": "display_data"
    },
    {
     "data": {
      "application/vnd.plotly.v1+json": {
       "config": {
        "plotlyServerURL": "https://plot.ly"
       },
       "data": [
        {
         "hole": 0.4,
         "hoverinfo": "label+value+percent",
         "labels": [
          "C71",
          "C91",
          "C49",
          "C83",
          "C81",
          "C79",
          "C72",
          "C92",
          "C64",
          "D43",
          "C40",
          "C74",
          "C58",
          "C96",
          "C18"
         ],
         "marker": {
          "colors": [
           "lightblue",
           "lightgreen",
           "lightpink",
           "lightyellow",
           "lightcoral",
           "lightsalmon",
           "lightseagreen",
           "lightskyblue",
           "lightcyan",
           "lightsteelblue",
           "lightgoldenrodyellow",
           "lightgreen",
           "lightcoral",
           "lightblue",
           "lightpink"
          ]
         },
         "type": "pie",
         "values": [
          142,
          133,
          72,
          58,
          57,
          57,
          50,
          48,
          41,
          39,
          30,
          27,
          25,
          25,
          21
         ]
        }
       ],
       "layout": {
        "annotations": [
         {
          "font": {
           "size": 16
          },
          "showarrow": false,
          "text": "Total: 1083",
          "x": 0.5,
          "y": 0.5
         }
        ],
        "template": {
         "data": {
          "bar": [
           {
            "error_x": {
             "color": "#2a3f5f"
            },
            "error_y": {
             "color": "#2a3f5f"
            },
            "marker": {
             "line": {
              "color": "white",
              "width": 0.5
             },
             "pattern": {
              "fillmode": "overlay",
              "size": 10,
              "solidity": 0.2
             }
            },
            "type": "bar"
           }
          ],
          "barpolar": [
           {
            "marker": {
             "line": {
              "color": "white",
              "width": 0.5
             },
             "pattern": {
              "fillmode": "overlay",
              "size": 10,
              "solidity": 0.2
             }
            },
            "type": "barpolar"
           }
          ],
          "carpet": [
           {
            "aaxis": {
             "endlinecolor": "#2a3f5f",
             "gridcolor": "#C8D4E3",
             "linecolor": "#C8D4E3",
             "minorgridcolor": "#C8D4E3",
             "startlinecolor": "#2a3f5f"
            },
            "baxis": {
             "endlinecolor": "#2a3f5f",
             "gridcolor": "#C8D4E3",
             "linecolor": "#C8D4E3",
             "minorgridcolor": "#C8D4E3",
             "startlinecolor": "#2a3f5f"
            },
            "type": "carpet"
           }
          ],
          "choropleth": [
           {
            "colorbar": {
             "outlinewidth": 0,
             "ticks": ""
            },
            "type": "choropleth"
           }
          ],
          "contour": [
           {
            "colorbar": {
             "outlinewidth": 0,
             "ticks": ""
            },
            "colorscale": [
             [
              0,
              "#0d0887"
             ],
             [
              0.1111111111111111,
              "#46039f"
             ],
             [
              0.2222222222222222,
              "#7201a8"
             ],
             [
              0.3333333333333333,
              "#9c179e"
             ],
             [
              0.4444444444444444,
              "#bd3786"
             ],
             [
              0.5555555555555556,
              "#d8576b"
             ],
             [
              0.6666666666666666,
              "#ed7953"
             ],
             [
              0.7777777777777778,
              "#fb9f3a"
             ],
             [
              0.8888888888888888,
              "#fdca26"
             ],
             [
              1,
              "#f0f921"
             ]
            ],
            "type": "contour"
           }
          ],
          "contourcarpet": [
           {
            "colorbar": {
             "outlinewidth": 0,
             "ticks": ""
            },
            "type": "contourcarpet"
           }
          ],
          "heatmap": [
           {
            "colorbar": {
             "outlinewidth": 0,
             "ticks": ""
            },
            "colorscale": [
             [
              0,
              "#0d0887"
             ],
             [
              0.1111111111111111,
              "#46039f"
             ],
             [
              0.2222222222222222,
              "#7201a8"
             ],
             [
              0.3333333333333333,
              "#9c179e"
             ],
             [
              0.4444444444444444,
              "#bd3786"
             ],
             [
              0.5555555555555556,
              "#d8576b"
             ],
             [
              0.6666666666666666,
              "#ed7953"
             ],
             [
              0.7777777777777778,
              "#fb9f3a"
             ],
             [
              0.8888888888888888,
              "#fdca26"
             ],
             [
              1,
              "#f0f921"
             ]
            ],
            "type": "heatmap"
           }
          ],
          "heatmapgl": [
           {
            "colorbar": {
             "outlinewidth": 0,
             "ticks": ""
            },
            "colorscale": [
             [
              0,
              "#0d0887"
             ],
             [
              0.1111111111111111,
              "#46039f"
             ],
             [
              0.2222222222222222,
              "#7201a8"
             ],
             [
              0.3333333333333333,
              "#9c179e"
             ],
             [
              0.4444444444444444,
              "#bd3786"
             ],
             [
              0.5555555555555556,
              "#d8576b"
             ],
             [
              0.6666666666666666,
              "#ed7953"
             ],
             [
              0.7777777777777778,
              "#fb9f3a"
             ],
             [
              0.8888888888888888,
              "#fdca26"
             ],
             [
              1,
              "#f0f921"
             ]
            ],
            "type": "heatmapgl"
           }
          ],
          "histogram": [
           {
            "marker": {
             "pattern": {
              "fillmode": "overlay",
              "size": 10,
              "solidity": 0.2
             }
            },
            "type": "histogram"
           }
          ],
          "histogram2d": [
           {
            "colorbar": {
             "outlinewidth": 0,
             "ticks": ""
            },
            "colorscale": [
             [
              0,
              "#0d0887"
             ],
             [
              0.1111111111111111,
              "#46039f"
             ],
             [
              0.2222222222222222,
              "#7201a8"
             ],
             [
              0.3333333333333333,
              "#9c179e"
             ],
             [
              0.4444444444444444,
              "#bd3786"
             ],
             [
              0.5555555555555556,
              "#d8576b"
             ],
             [
              0.6666666666666666,
              "#ed7953"
             ],
             [
              0.7777777777777778,
              "#fb9f3a"
             ],
             [
              0.8888888888888888,
              "#fdca26"
             ],
             [
              1,
              "#f0f921"
             ]
            ],
            "type": "histogram2d"
           }
          ],
          "histogram2dcontour": [
           {
            "colorbar": {
             "outlinewidth": 0,
             "ticks": ""
            },
            "colorscale": [
             [
              0,
              "#0d0887"
             ],
             [
              0.1111111111111111,
              "#46039f"
             ],
             [
              0.2222222222222222,
              "#7201a8"
             ],
             [
              0.3333333333333333,
              "#9c179e"
             ],
             [
              0.4444444444444444,
              "#bd3786"
             ],
             [
              0.5555555555555556,
              "#d8576b"
             ],
             [
              0.6666666666666666,
              "#ed7953"
             ],
             [
              0.7777777777777778,
              "#fb9f3a"
             ],
             [
              0.8888888888888888,
              "#fdca26"
             ],
             [
              1,
              "#f0f921"
             ]
            ],
            "type": "histogram2dcontour"
           }
          ],
          "mesh3d": [
           {
            "colorbar": {
             "outlinewidth": 0,
             "ticks": ""
            },
            "type": "mesh3d"
           }
          ],
          "parcoords": [
           {
            "line": {
             "colorbar": {
              "outlinewidth": 0,
              "ticks": ""
             }
            },
            "type": "parcoords"
           }
          ],
          "pie": [
           {
            "automargin": true,
            "type": "pie"
           }
          ],
          "scatter": [
           {
            "fillpattern": {
             "fillmode": "overlay",
             "size": 10,
             "solidity": 0.2
            },
            "type": "scatter"
           }
          ],
          "scatter3d": [
           {
            "line": {
             "colorbar": {
              "outlinewidth": 0,
              "ticks": ""
             }
            },
            "marker": {
             "colorbar": {
              "outlinewidth": 0,
              "ticks": ""
             }
            },
            "type": "scatter3d"
           }
          ],
          "scattercarpet": [
           {
            "marker": {
             "colorbar": {
              "outlinewidth": 0,
              "ticks": ""
             }
            },
            "type": "scattercarpet"
           }
          ],
          "scattergeo": [
           {
            "marker": {
             "colorbar": {
              "outlinewidth": 0,
              "ticks": ""
             }
            },
            "type": "scattergeo"
           }
          ],
          "scattergl": [
           {
            "marker": {
             "colorbar": {
              "outlinewidth": 0,
              "ticks": ""
             }
            },
            "type": "scattergl"
           }
          ],
          "scattermapbox": [
           {
            "marker": {
             "colorbar": {
              "outlinewidth": 0,
              "ticks": ""
             }
            },
            "type": "scattermapbox"
           }
          ],
          "scatterpolar": [
           {
            "marker": {
             "colorbar": {
              "outlinewidth": 0,
              "ticks": ""
             }
            },
            "type": "scatterpolar"
           }
          ],
          "scatterpolargl": [
           {
            "marker": {
             "colorbar": {
              "outlinewidth": 0,
              "ticks": ""
             }
            },
            "type": "scatterpolargl"
           }
          ],
          "scatterternary": [
           {
            "marker": {
             "colorbar": {
              "outlinewidth": 0,
              "ticks": ""
             }
            },
            "type": "scatterternary"
           }
          ],
          "surface": [
           {
            "colorbar": {
             "outlinewidth": 0,
             "ticks": ""
            },
            "colorscale": [
             [
              0,
              "#0d0887"
             ],
             [
              0.1111111111111111,
              "#46039f"
             ],
             [
              0.2222222222222222,
              "#7201a8"
             ],
             [
              0.3333333333333333,
              "#9c179e"
             ],
             [
              0.4444444444444444,
              "#bd3786"
             ],
             [
              0.5555555555555556,
              "#d8576b"
             ],
             [
              0.6666666666666666,
              "#ed7953"
             ],
             [
              0.7777777777777778,
              "#fb9f3a"
             ],
             [
              0.8888888888888888,
              "#fdca26"
             ],
             [
              1,
              "#f0f921"
             ]
            ],
            "type": "surface"
           }
          ],
          "table": [
           {
            "cells": {
             "fill": {
              "color": "#EBF0F8"
             },
             "line": {
              "color": "white"
             }
            },
            "header": {
             "fill": {
              "color": "#C8D4E3"
             },
             "line": {
              "color": "white"
             }
            },
            "type": "table"
           }
          ]
         },
         "layout": {
          "annotationdefaults": {
           "arrowcolor": "#2a3f5f",
           "arrowhead": 0,
           "arrowwidth": 1
          },
          "autotypenumbers": "strict",
          "coloraxis": {
           "colorbar": {
            "outlinewidth": 0,
            "ticks": ""
           }
          },
          "colorscale": {
           "diverging": [
            [
             0,
             "#8e0152"
            ],
            [
             0.1,
             "#c51b7d"
            ],
            [
             0.2,
             "#de77ae"
            ],
            [
             0.3,
             "#f1b6da"
            ],
            [
             0.4,
             "#fde0ef"
            ],
            [
             0.5,
             "#f7f7f7"
            ],
            [
             0.6,
             "#e6f5d0"
            ],
            [
             0.7,
             "#b8e186"
            ],
            [
             0.8,
             "#7fbc41"
            ],
            [
             0.9,
             "#4d9221"
            ],
            [
             1,
             "#276419"
            ]
           ],
           "sequential": [
            [
             0,
             "#0d0887"
            ],
            [
             0.1111111111111111,
             "#46039f"
            ],
            [
             0.2222222222222222,
             "#7201a8"
            ],
            [
             0.3333333333333333,
             "#9c179e"
            ],
            [
             0.4444444444444444,
             "#bd3786"
            ],
            [
             0.5555555555555556,
             "#d8576b"
            ],
            [
             0.6666666666666666,
             "#ed7953"
            ],
            [
             0.7777777777777778,
             "#fb9f3a"
            ],
            [
             0.8888888888888888,
             "#fdca26"
            ],
            [
             1,
             "#f0f921"
            ]
           ],
           "sequentialminus": [
            [
             0,
             "#0d0887"
            ],
            [
             0.1111111111111111,
             "#46039f"
            ],
            [
             0.2222222222222222,
             "#7201a8"
            ],
            [
             0.3333333333333333,
             "#9c179e"
            ],
            [
             0.4444444444444444,
             "#bd3786"
            ],
            [
             0.5555555555555556,
             "#d8576b"
            ],
            [
             0.6666666666666666,
             "#ed7953"
            ],
            [
             0.7777777777777778,
             "#fb9f3a"
            ],
            [
             0.8888888888888888,
             "#fdca26"
            ],
            [
             1,
             "#f0f921"
            ]
           ]
          },
          "colorway": [
           "#636efa",
           "#EF553B",
           "#00cc96",
           "#ab63fa",
           "#FFA15A",
           "#19d3f3",
           "#FF6692",
           "#B6E880",
           "#FF97FF",
           "#FECB52"
          ],
          "font": {
           "color": "#2a3f5f"
          },
          "geo": {
           "bgcolor": "white",
           "lakecolor": "white",
           "landcolor": "white",
           "showlakes": true,
           "showland": true,
           "subunitcolor": "#C8D4E3"
          },
          "hoverlabel": {
           "align": "left"
          },
          "hovermode": "closest",
          "mapbox": {
           "style": "light"
          },
          "paper_bgcolor": "white",
          "plot_bgcolor": "white",
          "polar": {
           "angularaxis": {
            "gridcolor": "#EBF0F8",
            "linecolor": "#EBF0F8",
            "ticks": ""
           },
           "bgcolor": "white",
           "radialaxis": {
            "gridcolor": "#EBF0F8",
            "linecolor": "#EBF0F8",
            "ticks": ""
           }
          },
          "scene": {
           "xaxis": {
            "backgroundcolor": "white",
            "gridcolor": "#DFE8F3",
            "gridwidth": 2,
            "linecolor": "#EBF0F8",
            "showbackground": true,
            "ticks": "",
            "zerolinecolor": "#EBF0F8"
           },
           "yaxis": {
            "backgroundcolor": "white",
            "gridcolor": "#DFE8F3",
            "gridwidth": 2,
            "linecolor": "#EBF0F8",
            "showbackground": true,
            "ticks": "",
            "zerolinecolor": "#EBF0F8"
           },
           "zaxis": {
            "backgroundcolor": "white",
            "gridcolor": "#DFE8F3",
            "gridwidth": 2,
            "linecolor": "#EBF0F8",
            "showbackground": true,
            "ticks": "",
            "zerolinecolor": "#EBF0F8"
           }
          },
          "shapedefaults": {
           "line": {
            "color": "#2a3f5f"
           }
          },
          "ternary": {
           "aaxis": {
            "gridcolor": "#DFE8F3",
            "linecolor": "#A2B1C6",
            "ticks": ""
           },
           "baxis": {
            "gridcolor": "#DFE8F3",
            "linecolor": "#A2B1C6",
            "ticks": ""
           },
           "bgcolor": "white",
           "caxis": {
            "gridcolor": "#DFE8F3",
            "linecolor": "#A2B1C6",
            "ticks": ""
           }
          },
          "title": {
           "x": 0.05
          },
          "xaxis": {
           "automargin": true,
           "gridcolor": "#EBF0F8",
           "linecolor": "#EBF0F8",
           "ticks": "",
           "title": {
            "standoff": 15
           },
           "zerolinecolor": "#EBF0F8",
           "zerolinewidth": 2
          },
          "yaxis": {
           "automargin": true,
           "gridcolor": "#EBF0F8",
           "linecolor": "#EBF0F8",
           "ticks": "",
           "title": {
            "standoff": 15
           },
           "zerolinecolor": "#EBF0F8",
           "zerolinewidth": 2
          }
         }
        },
        "title": {
         "text": "15 Principais Diagnósticos entre 0 e 19 anos (Hospital da criança Santo Antônio - CNES_TRAT = 2237253)"
        }
       }
      }
     },
     "metadata": {},
     "output_type": "display_data"
    }
   ],
   "source": [
    "import pandas as pd\n",
    "import plotly.graph_objects as go\n",
    "\n",
    "# Supondo que você já tenha o DataFrame df com os dados\n",
    "\n",
    "# Criando um dicionário com os CNES_TRAT dos hospitais\n",
    "hospitais = {\n",
    "    'Hospital de Clínicas de Porto Alegre': 2237601,\n",
    "    'Hospital da criança Conceição': 2237571,\n",
    "    'Hospital da criança Santo Antônio': 2237253,\n",
    "    'Hospital Geral de Caxias do Sul': 2223538,\n",
    "    'Hospital São Vicente de Paulo': 2246988,\n",
    "    'Hospital Universitário de Santa Maria': 2244306\n",
    "}\n",
    "\n",
    "# Exibindo as opções de hospitais disponíveis para o usuário\n",
    "print(\"Opções de hospitais disponíveis:\")\n",
    "for idx, hospital in enumerate(hospitais.keys(), start=1):\n",
    "    print(f\"{idx}. {hospital}\")\n",
    "\n",
    "# Solicitando ao usuário que selecione o hospital\n",
    "opcao_input = input(\"Digite o número correspondente ao hospital desejado: \")\n",
    "\n",
    "# Verificando se a opção selecionada é válida\n",
    "if opcao_input.isdigit():\n",
    "    opcao = int(opcao_input)\n",
    "    if opcao >= 1 and opcao <= len(hospitais):\n",
    "        hospital_input = list(hospitais.keys())[opcao - 1]\n",
    "        cnes_trat = hospitais[hospital_input]\n",
    "\n",
    "        # Aplicando o filtro para selecionar pacientes com idade entre 0 e 19 e o CNES_DIAG especificado\n",
    "        filtro_diag = df[(df['CNES_DIAG'] == cnes_trat) & ((df['IDADE'] >= 0) & (df['IDADE'] <= 19))]\n",
    "\n",
    "        # Contando as ocorrências de diagnósticos para CNES_DIAG\n",
    "        contagem_diag = filtro_diag['DIAG_DETH'].value_counts().nlargest(15)\n",
    "\n",
    "        # Calculando as porcentagens\n",
    "        porcentagens_diag = (contagem_diag / contagem_diag.sum()) * 100\n",
    "\n",
    "        # Criando um gráfico de rosquinha interativo com cores suaves\n",
    "        fig_diag = go.Figure()\n",
    "\n",
    "        # Adicionando o gráfico de rosquinha\n",
    "        fig_diag.add_trace(go.Pie(\n",
    "            labels=contagem_diag.index,\n",
    "            values=contagem_diag.values,\n",
    "            marker_colors=['lightblue', 'lightgreen', 'lightpink', 'lightyellow', 'lightcoral',\n",
    "                           'lightsalmon', 'lightseagreen', 'lightskyblue', 'lightcyan', 'lightsteelblue',\n",
    "                           'lightgoldenrodyellow', 'lightgreen', 'lightcoral', 'lightblue', 'lightpink'],\n",
    "            hoverinfo='label+value+percent',  # Informações\n",
    "            hole=0.4  # Tamanho do furo no centro (0.0 a 1.0)\n",
    "        ))\n",
    "\n",
    "        # Adicionando uma anotação para a contagem total\n",
    "        contagem_total_diag = filtro_diag.shape[0]\n",
    "        fig_diag.add_annotation(\n",
    "            text=f\"Total: {contagem_total_diag}\",\n",
    "            x=0.5,\n",
    "            y=0.5,\n",
    "            showarrow=False,\n",
    "            font=dict(size=16)\n",
    "        )\n",
    "\n",
    "        # Personalizando o layout do gráfico\n",
    "        fig_diag.update_layout(\n",
    "            title=f'15 Principais Diagnósticos entre 0 e 19 anos ({hospital_input} - CNES_DIAG = {cnes_trat})',\n",
    "            template='plotly_white'  # Esquema de cores suaves\n",
    "        )\n",
    "\n",
    "        # Exibindo o gráfico de rosquinha interativo\n",
    "        fig_diag.show()\n",
    "\n",
    "        # Aplicando o filtro para selecionar pacientes com idade entre 0 e 19 e o CNES_TRAT especificado\n",
    "        filtro_trat = df[(df['CNES_TRAT'] == cnes_trat) & ((df['IDADE'] >= 0) & (df['IDADE'] <= 19))]\n",
    "\n",
    "        # Contando as ocorrências de diagnósticos para CNES_TRAT\n",
    "        contagem_trat = filtro_trat['DIAG_DETH'].value_counts().nlargest(15)\n",
    "\n",
    "        # Calculando as porcentagens\n",
    "        porcentagens_trat = (contagem_trat / contagem_trat.sum()) * 100\n",
    "\n",
    "        # Criando um gráfico de rosquinha interativo com cores suaves\n",
    "        fig_trat = go.Figure()\n",
    "\n",
    "        # Adicionando o gráfico de rosquinha\n",
    "        fig_trat.add_trace(go.Pie(\n",
    "            labels=contagem_trat.index,\n",
    "            values=contagem_trat.values,\n",
    "            marker_colors=['lightblue', 'lightgreen', 'lightpink', 'lightyellow', 'lightcoral',\n",
    "                           'lightsalmon', 'lightseagreen', 'lightskyblue', 'lightcyan', 'lightsteelblue',\n",
    "                           'lightgoldenrodyellow', 'lightgreen', 'lightcoral', 'lightblue', 'lightpink'],\n",
    "            hoverinfo='label+value+percent',  # Informações\n",
    "            hole=0.4  # Tamanho do furo no centro (0.0 a 1.0)\n",
    "        ))\n",
    "\n",
    "        # Adicionando uma anotação para a contagem total\n",
    "        contagem_total_trat = filtro_trat.shape[0]\n",
    "        fig_trat.add_annotation(\n",
    "            text=f\"Total: {contagem_total_trat}\",\n",
    "            x=0.5,\n",
    "            y=0.5,\n",
    "            showarrow=False,\n",
    "            font=dict(size=16)\n",
    "        )\n",
    "\n",
    "        # Personalizando o layout do gráfico\n",
    "        fig_trat.update_layout(\n",
    "            title=f'15 Principais Diagnósticos entre 0 e 19 anos ({hospital_input} - CNES_TRAT = {cnes_trat})',\n",
    "            template='plotly_white'  # Esquema de cores suaves\n",
    "        )\n",
    "\n",
    "        # Exibindo o gráfico de rosquinha interativo\n",
    "        fig_trat.show()\n",
    "    else:\n",
    "        print(\"Opção inválida. Selecione um número correspondente a um hospital válido.\")\n",
    "else:\n",
    "    print(\"Opção inválida. Selecione um número correspondente a um hospital válido.\")\n"
   ]
  },
  {
   "cell_type": "code",
   "execution_count": 3,
   "metadata": {},
   "outputs": [
    {
     "data": {
      "text/plain": [
       "'donut_chart.html'"
      ]
     },
     "execution_count": 3,
     "metadata": {},
     "output_type": "execute_result"
    }
   ],
   "source": [
    "import pandas as pd\n",
    "import plotly.graph_objects as go\n",
    "import plotly.offline as pyo\n",
    "\n",
    "# ... (The rest of your code remains the same)\n",
    "\n",
    "# Exibindo o gráfico donut interativo and saving it to an HTML file\n",
    "output_html_file = \"donut_chart.html\"\n",
    "pyo.plot(fig, filename=output_html_file, auto_open=True)\n"
   ]
  },
  {
   "cell_type": "code",
   "execution_count": 26,
   "metadata": {},
   "outputs": [
    {
     "data": {
      "application/vnd.plotly.v1+json": {
       "config": {
        "plotlyServerURL": "https://plot.ly"
       },
       "data": [
        {
         "hole": 0.4,
         "hoverinfo": "label+value+percent",
         "labels": [
          "C18",
          "C91",
          "D48",
          "D04",
          "C44",
          "C16",
          "C71",
          "C49",
          "C92",
          "C81",
          "C83",
          "C40",
          "C77",
          "D39",
          "C62"
         ],
         "marker": {
          "colors": [
           "lightblue",
           "lightgreen",
           "lightpink",
           "lightyellow",
           "lightcoral",
           "lightsalmon",
           "lightseagreen",
           "lightskyblue",
           "lightcyan",
           "lightsteelblue",
           "lightgoldenrodyellow",
           "lightgreen",
           "lightcoral",
           "lightblue",
           "lightpink"
          ]
         },
         "type": "pie",
         "values": [
          949,
          757,
          605,
          593,
          585,
          544,
          430,
          312,
          300,
          271,
          224,
          211,
          179,
          163,
          162
         ]
        }
       ],
       "layout": {
        "template": {
         "data": {
          "bar": [
           {
            "error_x": {
             "color": "#2a3f5f"
            },
            "error_y": {
             "color": "#2a3f5f"
            },
            "marker": {
             "line": {
              "color": "white",
              "width": 0.5
             },
             "pattern": {
              "fillmode": "overlay",
              "size": 10,
              "solidity": 0.2
             }
            },
            "type": "bar"
           }
          ],
          "barpolar": [
           {
            "marker": {
             "line": {
              "color": "white",
              "width": 0.5
             },
             "pattern": {
              "fillmode": "overlay",
              "size": 10,
              "solidity": 0.2
             }
            },
            "type": "barpolar"
           }
          ],
          "carpet": [
           {
            "aaxis": {
             "endlinecolor": "#2a3f5f",
             "gridcolor": "#C8D4E3",
             "linecolor": "#C8D4E3",
             "minorgridcolor": "#C8D4E3",
             "startlinecolor": "#2a3f5f"
            },
            "baxis": {
             "endlinecolor": "#2a3f5f",
             "gridcolor": "#C8D4E3",
             "linecolor": "#C8D4E3",
             "minorgridcolor": "#C8D4E3",
             "startlinecolor": "#2a3f5f"
            },
            "type": "carpet"
           }
          ],
          "choropleth": [
           {
            "colorbar": {
             "outlinewidth": 0,
             "ticks": ""
            },
            "type": "choropleth"
           }
          ],
          "contour": [
           {
            "colorbar": {
             "outlinewidth": 0,
             "ticks": ""
            },
            "colorscale": [
             [
              0,
              "#0d0887"
             ],
             [
              0.1111111111111111,
              "#46039f"
             ],
             [
              0.2222222222222222,
              "#7201a8"
             ],
             [
              0.3333333333333333,
              "#9c179e"
             ],
             [
              0.4444444444444444,
              "#bd3786"
             ],
             [
              0.5555555555555556,
              "#d8576b"
             ],
             [
              0.6666666666666666,
              "#ed7953"
             ],
             [
              0.7777777777777778,
              "#fb9f3a"
             ],
             [
              0.8888888888888888,
              "#fdca26"
             ],
             [
              1,
              "#f0f921"
             ]
            ],
            "type": "contour"
           }
          ],
          "contourcarpet": [
           {
            "colorbar": {
             "outlinewidth": 0,
             "ticks": ""
            },
            "type": "contourcarpet"
           }
          ],
          "heatmap": [
           {
            "colorbar": {
             "outlinewidth": 0,
             "ticks": ""
            },
            "colorscale": [
             [
              0,
              "#0d0887"
             ],
             [
              0.1111111111111111,
              "#46039f"
             ],
             [
              0.2222222222222222,
              "#7201a8"
             ],
             [
              0.3333333333333333,
              "#9c179e"
             ],
             [
              0.4444444444444444,
              "#bd3786"
             ],
             [
              0.5555555555555556,
              "#d8576b"
             ],
             [
              0.6666666666666666,
              "#ed7953"
             ],
             [
              0.7777777777777778,
              "#fb9f3a"
             ],
             [
              0.8888888888888888,
              "#fdca26"
             ],
             [
              1,
              "#f0f921"
             ]
            ],
            "type": "heatmap"
           }
          ],
          "heatmapgl": [
           {
            "colorbar": {
             "outlinewidth": 0,
             "ticks": ""
            },
            "colorscale": [
             [
              0,
              "#0d0887"
             ],
             [
              0.1111111111111111,
              "#46039f"
             ],
             [
              0.2222222222222222,
              "#7201a8"
             ],
             [
              0.3333333333333333,
              "#9c179e"
             ],
             [
              0.4444444444444444,
              "#bd3786"
             ],
             [
              0.5555555555555556,
              "#d8576b"
             ],
             [
              0.6666666666666666,
              "#ed7953"
             ],
             [
              0.7777777777777778,
              "#fb9f3a"
             ],
             [
              0.8888888888888888,
              "#fdca26"
             ],
             [
              1,
              "#f0f921"
             ]
            ],
            "type": "heatmapgl"
           }
          ],
          "histogram": [
           {
            "marker": {
             "pattern": {
              "fillmode": "overlay",
              "size": 10,
              "solidity": 0.2
             }
            },
            "type": "histogram"
           }
          ],
          "histogram2d": [
           {
            "colorbar": {
             "outlinewidth": 0,
             "ticks": ""
            },
            "colorscale": [
             [
              0,
              "#0d0887"
             ],
             [
              0.1111111111111111,
              "#46039f"
             ],
             [
              0.2222222222222222,
              "#7201a8"
             ],
             [
              0.3333333333333333,
              "#9c179e"
             ],
             [
              0.4444444444444444,
              "#bd3786"
             ],
             [
              0.5555555555555556,
              "#d8576b"
             ],
             [
              0.6666666666666666,
              "#ed7953"
             ],
             [
              0.7777777777777778,
              "#fb9f3a"
             ],
             [
              0.8888888888888888,
              "#fdca26"
             ],
             [
              1,
              "#f0f921"
             ]
            ],
            "type": "histogram2d"
           }
          ],
          "histogram2dcontour": [
           {
            "colorbar": {
             "outlinewidth": 0,
             "ticks": ""
            },
            "colorscale": [
             [
              0,
              "#0d0887"
             ],
             [
              0.1111111111111111,
              "#46039f"
             ],
             [
              0.2222222222222222,
              "#7201a8"
             ],
             [
              0.3333333333333333,
              "#9c179e"
             ],
             [
              0.4444444444444444,
              "#bd3786"
             ],
             [
              0.5555555555555556,
              "#d8576b"
             ],
             [
              0.6666666666666666,
              "#ed7953"
             ],
             [
              0.7777777777777778,
              "#fb9f3a"
             ],
             [
              0.8888888888888888,
              "#fdca26"
             ],
             [
              1,
              "#f0f921"
             ]
            ],
            "type": "histogram2dcontour"
           }
          ],
          "mesh3d": [
           {
            "colorbar": {
             "outlinewidth": 0,
             "ticks": ""
            },
            "type": "mesh3d"
           }
          ],
          "parcoords": [
           {
            "line": {
             "colorbar": {
              "outlinewidth": 0,
              "ticks": ""
             }
            },
            "type": "parcoords"
           }
          ],
          "pie": [
           {
            "automargin": true,
            "type": "pie"
           }
          ],
          "scatter": [
           {
            "fillpattern": {
             "fillmode": "overlay",
             "size": 10,
             "solidity": 0.2
            },
            "type": "scatter"
           }
          ],
          "scatter3d": [
           {
            "line": {
             "colorbar": {
              "outlinewidth": 0,
              "ticks": ""
             }
            },
            "marker": {
             "colorbar": {
              "outlinewidth": 0,
              "ticks": ""
             }
            },
            "type": "scatter3d"
           }
          ],
          "scattercarpet": [
           {
            "marker": {
             "colorbar": {
              "outlinewidth": 0,
              "ticks": ""
             }
            },
            "type": "scattercarpet"
           }
          ],
          "scattergeo": [
           {
            "marker": {
             "colorbar": {
              "outlinewidth": 0,
              "ticks": ""
             }
            },
            "type": "scattergeo"
           }
          ],
          "scattergl": [
           {
            "marker": {
             "colorbar": {
              "outlinewidth": 0,
              "ticks": ""
             }
            },
            "type": "scattergl"
           }
          ],
          "scattermapbox": [
           {
            "marker": {
             "colorbar": {
              "outlinewidth": 0,
              "ticks": ""
             }
            },
            "type": "scattermapbox"
           }
          ],
          "scatterpolar": [
           {
            "marker": {
             "colorbar": {
              "outlinewidth": 0,
              "ticks": ""
             }
            },
            "type": "scatterpolar"
           }
          ],
          "scatterpolargl": [
           {
            "marker": {
             "colorbar": {
              "outlinewidth": 0,
              "ticks": ""
             }
            },
            "type": "scatterpolargl"
           }
          ],
          "scatterternary": [
           {
            "marker": {
             "colorbar": {
              "outlinewidth": 0,
              "ticks": ""
             }
            },
            "type": "scatterternary"
           }
          ],
          "surface": [
           {
            "colorbar": {
             "outlinewidth": 0,
             "ticks": ""
            },
            "colorscale": [
             [
              0,
              "#0d0887"
             ],
             [
              0.1111111111111111,
              "#46039f"
             ],
             [
              0.2222222222222222,
              "#7201a8"
             ],
             [
              0.3333333333333333,
              "#9c179e"
             ],
             [
              0.4444444444444444,
              "#bd3786"
             ],
             [
              0.5555555555555556,
              "#d8576b"
             ],
             [
              0.6666666666666666,
              "#ed7953"
             ],
             [
              0.7777777777777778,
              "#fb9f3a"
             ],
             [
              0.8888888888888888,
              "#fdca26"
             ],
             [
              1,
              "#f0f921"
             ]
            ],
            "type": "surface"
           }
          ],
          "table": [
           {
            "cells": {
             "fill": {
              "color": "#EBF0F8"
             },
             "line": {
              "color": "white"
             }
            },
            "header": {
             "fill": {
              "color": "#C8D4E3"
             },
             "line": {
              "color": "white"
             }
            },
            "type": "table"
           }
          ]
         },
         "layout": {
          "annotationdefaults": {
           "arrowcolor": "#2a3f5f",
           "arrowhead": 0,
           "arrowwidth": 1
          },
          "autotypenumbers": "strict",
          "coloraxis": {
           "colorbar": {
            "outlinewidth": 0,
            "ticks": ""
           }
          },
          "colorscale": {
           "diverging": [
            [
             0,
             "#8e0152"
            ],
            [
             0.1,
             "#c51b7d"
            ],
            [
             0.2,
             "#de77ae"
            ],
            [
             0.3,
             "#f1b6da"
            ],
            [
             0.4,
             "#fde0ef"
            ],
            [
             0.5,
             "#f7f7f7"
            ],
            [
             0.6,
             "#e6f5d0"
            ],
            [
             0.7,
             "#b8e186"
            ],
            [
             0.8,
             "#7fbc41"
            ],
            [
             0.9,
             "#4d9221"
            ],
            [
             1,
             "#276419"
            ]
           ],
           "sequential": [
            [
             0,
             "#0d0887"
            ],
            [
             0.1111111111111111,
             "#46039f"
            ],
            [
             0.2222222222222222,
             "#7201a8"
            ],
            [
             0.3333333333333333,
             "#9c179e"
            ],
            [
             0.4444444444444444,
             "#bd3786"
            ],
            [
             0.5555555555555556,
             "#d8576b"
            ],
            [
             0.6666666666666666,
             "#ed7953"
            ],
            [
             0.7777777777777778,
             "#fb9f3a"
            ],
            [
             0.8888888888888888,
             "#fdca26"
            ],
            [
             1,
             "#f0f921"
            ]
           ],
           "sequentialminus": [
            [
             0,
             "#0d0887"
            ],
            [
             0.1111111111111111,
             "#46039f"
            ],
            [
             0.2222222222222222,
             "#7201a8"
            ],
            [
             0.3333333333333333,
             "#9c179e"
            ],
            [
             0.4444444444444444,
             "#bd3786"
            ],
            [
             0.5555555555555556,
             "#d8576b"
            ],
            [
             0.6666666666666666,
             "#ed7953"
            ],
            [
             0.7777777777777778,
             "#fb9f3a"
            ],
            [
             0.8888888888888888,
             "#fdca26"
            ],
            [
             1,
             "#f0f921"
            ]
           ]
          },
          "colorway": [
           "#636efa",
           "#EF553B",
           "#00cc96",
           "#ab63fa",
           "#FFA15A",
           "#19d3f3",
           "#FF6692",
           "#B6E880",
           "#FF97FF",
           "#FECB52"
          ],
          "font": {
           "color": "#2a3f5f"
          },
          "geo": {
           "bgcolor": "white",
           "lakecolor": "white",
           "landcolor": "white",
           "showlakes": true,
           "showland": true,
           "subunitcolor": "#C8D4E3"
          },
          "hoverlabel": {
           "align": "left"
          },
          "hovermode": "closest",
          "mapbox": {
           "style": "light"
          },
          "paper_bgcolor": "white",
          "plot_bgcolor": "white",
          "polar": {
           "angularaxis": {
            "gridcolor": "#EBF0F8",
            "linecolor": "#EBF0F8",
            "ticks": ""
           },
           "bgcolor": "white",
           "radialaxis": {
            "gridcolor": "#EBF0F8",
            "linecolor": "#EBF0F8",
            "ticks": ""
           }
          },
          "scene": {
           "xaxis": {
            "backgroundcolor": "white",
            "gridcolor": "#DFE8F3",
            "gridwidth": 2,
            "linecolor": "#EBF0F8",
            "showbackground": true,
            "ticks": "",
            "zerolinecolor": "#EBF0F8"
           },
           "yaxis": {
            "backgroundcolor": "white",
            "gridcolor": "#DFE8F3",
            "gridwidth": 2,
            "linecolor": "#EBF0F8",
            "showbackground": true,
            "ticks": "",
            "zerolinecolor": "#EBF0F8"
           },
           "zaxis": {
            "backgroundcolor": "white",
            "gridcolor": "#DFE8F3",
            "gridwidth": 2,
            "linecolor": "#EBF0F8",
            "showbackground": true,
            "ticks": "",
            "zerolinecolor": "#EBF0F8"
           }
          },
          "shapedefaults": {
           "line": {
            "color": "#2a3f5f"
           }
          },
          "ternary": {
           "aaxis": {
            "gridcolor": "#DFE8F3",
            "linecolor": "#A2B1C6",
            "ticks": ""
           },
           "baxis": {
            "gridcolor": "#DFE8F3",
            "linecolor": "#A2B1C6",
            "ticks": ""
           },
           "bgcolor": "white",
           "caxis": {
            "gridcolor": "#DFE8F3",
            "linecolor": "#A2B1C6",
            "ticks": ""
           }
          },
          "title": {
           "x": 0.05
          },
          "xaxis": {
           "automargin": true,
           "gridcolor": "#EBF0F8",
           "linecolor": "#EBF0F8",
           "ticks": "",
           "title": {
            "standoff": 15
           },
           "zerolinecolor": "#EBF0F8",
           "zerolinewidth": 2
          },
          "yaxis": {
           "automargin": true,
           "gridcolor": "#EBF0F8",
           "linecolor": "#EBF0F8",
           "ticks": "",
           "title": {
            "standoff": 15
           },
           "zerolinecolor": "#EBF0F8",
           "zerolinewidth": 2
          }
         }
        },
        "title": {
         "text": "15 Maiores Diagnósticos entre 0 e 19 anos (UF_DIAGN = 43)"
        }
       }
      }
     },
     "metadata": {},
     "output_type": "display_data"
    }
   ],
   "source": [
    "import pandas as pd\n",
    "import plotly.graph_objects as go\n",
    "\n",
    "# Supondo que você já tenha o DataFrame df com os dados\n",
    "\n",
    "# Aplicando o filtro para selecionar pacientes com idade entre 0 e 19 anos\n",
    "filtro = df[(df['UF_DIAGN'] == 43) & ((df['IDADE'] >= 0) & (df['IDADE'] <= 19))]\n",
    "\n",
    "# Contando os diagnósticos\n",
    "diagnosticos_contagem = filtro['DIAG_DETH'].value_counts().nlargest(15)\n",
    "\n",
    "# Calculando as porcentagens\n",
    "porcentagens = (diagnosticos_contagem / diagnosticos_contagem.sum()) * 100\n",
    "\n",
    "# Criando o gráfico donut interativo com cores pastéis\n",
    "fig = go.Figure()\n",
    "\n",
    "# Adicionando o gráfico de donut\n",
    "fig.add_trace(go.Pie(\n",
    "    labels=diagnosticos_contagem.index,\n",
    "    values=diagnosticos_contagem.values,\n",
    "    marker_colors=['lightblue', 'lightgreen', 'lightpink', 'lightyellow', 'lightcoral',\n",
    "                   'lightsalmon', 'lightseagreen', 'lightskyblue', 'lightcyan', 'lightsteelblue',\n",
    "                   'lightgoldenrodyellow', 'lightgreen', 'lightcoral', 'lightblue', 'lightpink'],\n",
    "    hoverinfo='label+value+percent',  # Informações \n",
    "    hole=0.4  # Tamanho do furo no meio (0.0 a 1.0)\n",
    "))\n",
    "\n",
    "# Personalizando o layout do gráfico\n",
    "fig.update_layout(\n",
    "    title='15 Maiores Diagnósticos entre 0 e 19 anos (UF_DIAGN = 43)',\n",
    "    template='plotly_white'  # Esquema de cores pastéis\n",
    ")\n",
    "\n",
    "# Exibindo o gráfico donut interativo\n",
    "fig.show()\n"
   ]
  },
  {
   "cell_type": "code",
   "execution_count": 3,
   "metadata": {},
   "outputs": [],
   "source": [
    "import pandas as pd\n",
    "from dbfread import DBF\n",
    "import os\n",
    "\n",
    "\n",
    "def convert_dbf_to_csv(dbf_files, output_dir):\n",
    "    for dbf_file in dbf_files:\n",
    "        # Carregar o arquivo DBF usando a biblioteca dbfread\n",
    "        table = DBF(dbf_file, encoding='latin1')\n",
    "        \n",
    "        # Converter a tabela DBF em um DataFrame do pandas\n",
    "        df = pd.DataFrame(iter(table))\n",
    "        \n",
    "        # Obter o nome do arquivo sem extensão\n",
    "        file_name = os.path.splitext(os.path.basename(dbf_file))[0]\n",
    "        \n",
    "        # Construir o caminho para o arquivo CSV de saída\n",
    "        csv_file = os.path.join(output_dir, f\"{file_name}.csv\")\n",
    "        \n",
    "        # Salvar o DataFrame como arquivo CSV com escapechar definido para '\\'\n",
    "        df.to_csv(csv_file, index=False, escapechar='\\\\')\n",
    "\n",
    "# Lista de arquivos DBF de entrada\n",
    "dbf_files = [\n",
    "'HBTO2309.dbf',\n",
    "]\n",
    "\n",
    "# Diretório de saída para os arquivos CSV\n",
    "output_dir = 'Doc/'\n",
    "\n",
    "# Chamar a função de conversão\n",
    "convert_dbf_to_csv(dbf_files, output_dir)"
   ]
  },
  {
   "cell_type": "code",
   "execution_count": null,
   "metadata": {},
   "outputs": [],
   "source": [
    "'POBR2013.dbf',\n",
    "'POBR2014.dbf',\n",
    "'POBR2015.dbf',\n",
    "'POBR2016.dbf',\n",
    "'POBR2017.dbf',\n",
    "'POBR2018.dbf',\n",
    "'POBR2019.dbf',\n",
    "'POBR2020.dbf',\n",
    "'POBR2021.dbf',\n",
    "'POBR2022.dbf',\n",
    "'POBR2023.dbf',"
   ]
  }
 ],
 "metadata": {
  "kernelspec": {
   "display_name": "Python 3",
   "language": "python",
   "name": "python3"
  },
  "language_info": {
   "codemirror_mode": {
    "name": "ipython",
    "version": 3
   },
   "file_extension": ".py",
   "mimetype": "text/x-python",
   "name": "python",
   "nbconvert_exporter": "python",
   "pygments_lexer": "ipython3",
   "version": "3.11.5"
  },
  "orig_nbformat": 4
 },
 "nbformat": 4,
 "nbformat_minor": 2
}
